{
 "cells": [
  {
   "cell_type": "code",
   "execution_count": 69,
   "metadata": {},
   "outputs": [
    {
     "name": "stdout",
     "output_type": "stream",
     "text": [
      "The autoreload extension is already loaded. To reload it, use:\n",
      "  %reload_ext autoreload\n"
     ]
    }
   ],
   "source": [
    "import numpy as np\n",
    "import pandas as pd\n",
    "import matplotlib.pyplot as plt\n",
    "from collections import namedtuple\n",
    "from tqdm import tqdm_notebook as tqdm\n",
    "import random\n",
    "import seaborn as sns\n",
    "\n",
    "import agent\n",
    "import blockworld\n",
    "\n",
    "from blockworld import Blockworld\n",
    "\n",
    "%matplotlib inline\n",
    "%load_ext autoreload\n",
    "%autoreload 2\n",
    "\n",
    "from collections import namedtuple\n",
    "# Putting this up here to avoid redefinition to make pickling easier\n",
    "ModelResult = namedtuple('ModelResult', ['name', 'agent_kwargs', 'fit'])"
   ]
  },
  {
   "cell_type": "code",
   "execution_count": 2,
   "metadata": {
    "scrolled": false
   },
   "outputs": [
    {
     "name": "stdout",
     "output_type": "stream",
     "text": [
      "Sample initial state (('B',), ('C',), ('A',)) with letters ['A', 'B', 'C']\n"
     ]
    }
   ],
   "source": [
    "def make_letters(start, number):\n",
    "    '''\n",
    "    Returns list of `number` letters, starting from `start`. Letters are generated in ASCII sequence.\n",
    "    >>> make_letters('A', 3)\n",
    "    ['A', 'B', 'C']\n",
    "    >>> make_letters('D', 3)\n",
    "    ['D', 'E', 'F']\n",
    "    '''\n",
    "    return [chr(ord(start) + i) for i in range(number)]\n",
    "\n",
    "import doctest\n",
    "assert doctest.testmod().failed == 0\n",
    "\n",
    "def generate_blockworld_problem(\n",
    "    B,\n",
    "    heights,\n",
    "):\n",
    "    '''\n",
    "    Generate blockworld problem.\n",
    "\n",
    "    The problem has number of letters B and spaces S.\n",
    "    To generate, we randomly select a letter (without replacement)\n",
    "    and place it at a random space, ensuring that height constraints\n",
    "    are satisfied.\n",
    "    '''\n",
    "    S = len(heights)\n",
    "    problems = []\n",
    "    letters = make_letters('A', B)\n",
    "    spaces = range(S)\n",
    "\n",
    "    # You have B letters and S spaces. Until all have been placed,\n",
    "    # choose random letter without replacement to put at random space.\n",
    "    initial = [() for _ in spaces]\n",
    "    for letter in np.random.permutation(letters):\n",
    "        space = np.random.choice([s for s in spaces if len(initial[s]) < heights[s]])\n",
    "        initial[space] += (letter,)\n",
    "    return tuple(initial), letters\n",
    "\n",
    "heights = (3, 2, 1)\n",
    "initial, letters = generate_blockworld_problem(3, heights)\n",
    "print('Sample initial state', initial, 'with letters', letters)"
   ]
  },
  {
   "cell_type": "code",
   "execution_count": 3,
   "metadata": {},
   "outputs": [
    {
     "data": {
      "text/html": [
       "<div>\n",
       "<style scoped>\n",
       "    .dataframe tbody tr th:only-of-type {\n",
       "        vertical-align: middle;\n",
       "    }\n",
       "\n",
       "    .dataframe tbody tr th {\n",
       "        vertical-align: top;\n",
       "    }\n",
       "\n",
       "    .dataframe thead th {\n",
       "        text-align: right;\n",
       "    }\n",
       "</style>\n",
       "<table border=\"1\" class=\"dataframe\">\n",
       "  <thead>\n",
       "    <tr style=\"text-align: right;\">\n",
       "      <th></th>\n",
       "      <th>pid</th>\n",
       "      <th>states</th>\n",
       "      <th>actions</th>\n",
       "      <th>kwargs</th>\n",
       "    </tr>\n",
       "  </thead>\n",
       "  <tbody>\n",
       "    <tr>\n",
       "      <th>15</th>\n",
       "      <td>k=4</td>\n",
       "      <td>[((), (C, A, B), (E, D)), ((), (C, A), (E, D, ...</td>\n",
       "      <td>[(B, 2), (A, 0), (B, 0), (C, 0), (D, 0), (E, 1...</td>\n",
       "      <td>{'k': 4}</td>\n",
       "    </tr>\n",
       "    <tr>\n",
       "      <th>16</th>\n",
       "      <td>k=4</td>\n",
       "      <td>[((), (C, A, B), (E, D)), ((B,), (C, A), (E, D...</td>\n",
       "      <td>[(B, 0), (A, 0), (C, 0), (D, 0), (E, 1), (D, 1...</td>\n",
       "      <td>{'k': 4}</td>\n",
       "    </tr>\n",
       "    <tr>\n",
       "      <th>17</th>\n",
       "      <td>k=4</td>\n",
       "      <td>[((), (C, A, B), (E, D)), ((), (C, A), (E, D, ...</td>\n",
       "      <td>[(B, 2), (A, 0), (B, 0), (C, 0), (D, 0), (E, 1...</td>\n",
       "      <td>{'k': 4}</td>\n",
       "    </tr>\n",
       "    <tr>\n",
       "      <th>18</th>\n",
       "      <td>k=4</td>\n",
       "      <td>[((), (C, A, B), (E, D)), ((), (C, A), (E, D, ...</td>\n",
       "      <td>[(B, 2), (A, 0), (B, 0), (C, 0), (D, 0), (E, 1...</td>\n",
       "      <td>{'k': 4}</td>\n",
       "    </tr>\n",
       "    <tr>\n",
       "      <th>19</th>\n",
       "      <td>k=4</td>\n",
       "      <td>[((), (C, A, B), (E, D)), ((B,), (C, A), (E, D...</td>\n",
       "      <td>[(B, 0), (A, 0), (C, 0), (D, 0), (E, 1), (D, 1...</td>\n",
       "      <td>{'k': 4}</td>\n",
       "    </tr>\n",
       "  </tbody>\n",
       "</table>\n",
       "</div>"
      ],
      "text/plain": [
       "    pid                                             states  \\\n",
       "15  k=4  [((), (C, A, B), (E, D)), ((), (C, A), (E, D, ...   \n",
       "16  k=4  [((), (C, A, B), (E, D)), ((B,), (C, A), (E, D...   \n",
       "17  k=4  [((), (C, A, B), (E, D)), ((), (C, A), (E, D, ...   \n",
       "18  k=4  [((), (C, A, B), (E, D)), ((), (C, A), (E, D, ...   \n",
       "19  k=4  [((), (C, A, B), (E, D)), ((B,), (C, A), (E, D...   \n",
       "\n",
       "                                              actions    kwargs  \n",
       "15  [(B, 2), (A, 0), (B, 0), (C, 0), (D, 0), (E, 1...  {'k': 4}  \n",
       "16  [(B, 0), (A, 0), (C, 0), (D, 0), (E, 1), (D, 1...  {'k': 4}  \n",
       "17  [(B, 2), (A, 0), (B, 0), (C, 0), (D, 0), (E, 1...  {'k': 4}  \n",
       "18  [(B, 2), (A, 0), (B, 0), (C, 0), (D, 0), (E, 1...  {'k': 4}  \n",
       "19  [(B, 0), (A, 0), (C, 0), (D, 0), (E, 1), (D, 1...  {'k': 4}  "
      ]
     },
     "execution_count": 3,
     "metadata": {},
     "output_type": "execute_result"
    }
   ],
   "source": [
    "# Generate many problems.\n",
    "# Ask all k agents to perform on this task: k=1, k=2, k=3, etc.\n",
    "# - either run things multiple times or consider enumerating all solutions the agents would consider.\n",
    "# Fit various depth models to agent behaviors.\n",
    "# Find problems that\n",
    "# - recover the parameter used to generate the data (defined by appropriate parameter is greater LL than others) and\n",
    "# - also maximize diff in LL between appropriate k and max d\n",
    "\n",
    "def gen_goals(state):\n",
    "    '''\n",
    "    Here's our standard way to generate goals: center column, no debug info.\n",
    "    '''\n",
    "    return blockworld.Blockworld.generate_tower_of_london_goals(state, column_index=1, debug=False)\n",
    "\n",
    "def generate_agent_data(initial):\n",
    "    generated_df = dict(pid=[], states=[], actions=[], kwargs=[])\n",
    "    g = gen_goals(initial)\n",
    "\n",
    "    repetitions = 5\n",
    "\n",
    "    for agent_name, agent_kwargs in [\n",
    "        ('k=1', dict(k=1)) for _ in range(repetitions)\n",
    "    ] + [\n",
    "        ('k=2', dict(k=2)) for _ in range(repetitions)\n",
    "    ] + [\n",
    "        ('k=3', dict(k=3)) for _ in range(repetitions)\n",
    "    ] + [\n",
    "        ('k=4', dict(k=4)) for _ in range(repetitions)\n",
    "    ]:\n",
    "        problem = blockworld.Blockworld(initial, g)\n",
    "        history, completed = agent.solve_using_ordered_goal_subset_astar(\n",
    "            problem, debug=False, shuffle=True, **agent_kwargs)\n",
    "        states = [s for a, s in history]\n",
    "        actions = [a for a, s in history if a is not None]\n",
    "        assert len(actions) == len(states) - 1\n",
    "        generated_df['states'].append(states)\n",
    "        generated_df['actions'].append(actions)\n",
    "        generated_df['pid'].append(agent_name)\n",
    "        generated_df['kwargs'].append(agent_kwargs)\n",
    "\n",
    "    return pd.DataFrame(generated_df)\n",
    "\n",
    "initial = ((), ('C', 'A', 'B'), ('E', 'D'))\n",
    "\n",
    "import random\n",
    "random.seed(1338)\n",
    "\n",
    "generated_df = generate_agent_data(initial)\n",
    "generated_df.tail()"
   ]
  },
  {
   "cell_type": "code",
   "execution_count": 4,
   "metadata": {},
   "outputs": [
    {
     "ename": "NameError",
     "evalue": "name 'p_actions' is not defined",
     "output_type": "error",
     "traceback": [
      "\u001b[0;31m---------------------------------------------------------------------------\u001b[0m",
      "\u001b[0;31mNameError\u001b[0m                                 Traceback (most recent call last)",
      "\u001b[0;32m<ipython-input-4-ab6ce7be0fb2>\u001b[0m in \u001b[0;36m<module>\u001b[0;34m()\u001b[0m\n\u001b[1;32m     24\u001b[0m \u001b[0m_\u001b[0m\u001b[0;34m,\u001b[0m \u001b[0mrow\u001b[0m \u001b[0;34m=\u001b[0m \u001b[0mnext\u001b[0m\u001b[0;34m(\u001b[0m\u001b[0mgenerated_df\u001b[0m\u001b[0;34m.\u001b[0m\u001b[0miterrows\u001b[0m\u001b[0;34m(\u001b[0m\u001b[0;34m)\u001b[0m\u001b[0;34m)\u001b[0m\u001b[0;34m\u001b[0m\u001b[0m\n\u001b[1;32m     25\u001b[0m \u001b[0mproblem\u001b[0m \u001b[0;34m=\u001b[0m \u001b[0mblockworld\u001b[0m\u001b[0;34m.\u001b[0m\u001b[0mBlockworld\u001b[0m\u001b[0;34m(\u001b[0m\u001b[0mrow\u001b[0m\u001b[0;34m.\u001b[0m\u001b[0mstates\u001b[0m\u001b[0;34m[\u001b[0m\u001b[0;36m0\u001b[0m\u001b[0;34m]\u001b[0m\u001b[0;34m,\u001b[0m \u001b[0mgen_goals\u001b[0m\u001b[0;34m(\u001b[0m\u001b[0mrow\u001b[0m\u001b[0;34m.\u001b[0m\u001b[0mstates\u001b[0m\u001b[0;34m[\u001b[0m\u001b[0;36m0\u001b[0m\u001b[0;34m]\u001b[0m\u001b[0;34m)\u001b[0m\u001b[0;34m)\u001b[0m\u001b[0;34m\u001b[0m\u001b[0m\n\u001b[0;32m---> 26\u001b[0;31m \u001b[0mmodel_p\u001b[0m \u001b[0;34m=\u001b[0m \u001b[0mp_actions\u001b[0m \u001b[0;31m# [:, agent_idx]\u001b[0m\u001b[0;34m\u001b[0m\u001b[0m\n\u001b[0m\u001b[1;32m     27\u001b[0m \u001b[0mrand_p\u001b[0m \u001b[0;34m=\u001b[0m \u001b[0mnp\u001b[0m\u001b[0;34m.\u001b[0m\u001b[0marray\u001b[0m\u001b[0;34m(\u001b[0m\u001b[0;34m[\u001b[0m\u001b[0;36m1\u001b[0m\u001b[0;34m/\u001b[0m\u001b[0mlen\u001b[0m\u001b[0;34m(\u001b[0m\u001b[0mproblem\u001b[0m\u001b[0;34m.\u001b[0m\u001b[0mactions\u001b[0m\u001b[0;34m(\u001b[0m\u001b[0ms\u001b[0m\u001b[0;34m)\u001b[0m\u001b[0;34m)\u001b[0m \u001b[0;32mfor\u001b[0m \u001b[0ms\u001b[0m \u001b[0;32min\u001b[0m \u001b[0mrow\u001b[0m\u001b[0;34m.\u001b[0m\u001b[0mstates\u001b[0m\u001b[0;34m[\u001b[0m\u001b[0;34m:\u001b[0m\u001b[0;34m-\u001b[0m\u001b[0;36m1\u001b[0m\u001b[0;34m]\u001b[0m\u001b[0;34m]\u001b[0m\u001b[0;34m)\u001b[0m\u001b[0;34m\u001b[0m\u001b[0m\n\u001b[1;32m     28\u001b[0m \u001b[0mprint\u001b[0m\u001b[0;34m(\u001b[0m\u001b[0;34m'model_p.shape'\u001b[0m\u001b[0;34m,\u001b[0m \u001b[0mmodel_p\u001b[0m\u001b[0;34m.\u001b[0m\u001b[0mshape\u001b[0m\u001b[0;34m,\u001b[0m \u001b[0;34m'rand_p.shape'\u001b[0m\u001b[0;34m,\u001b[0m \u001b[0mrand_p\u001b[0m\u001b[0;34m.\u001b[0m\u001b[0mshape\u001b[0m\u001b[0;34m)\u001b[0m\u001b[0;34m\u001b[0m\u001b[0m\n",
      "\u001b[0;31mNameError\u001b[0m: name 'p_actions' is not defined"
     ]
    }
   ],
   "source": [
    "def fit_p_err(model_p, rand_p, debug=False):\n",
    "    def noisy_model_p(p_err):\n",
    "        return (1 - p_err) * model_p + p_err * rand_p\n",
    "\n",
    "    # indexing trick [:, None] adds new dim to use vectorized ops via broadcasting\n",
    "    p_err = np.linspace(0,1)[:, None]\n",
    "    logp = np.log(noisy_model_p(p_err))\n",
    "    total_logp = logp.sum(-1)  # sum logp across trials\n",
    "    if debug:\n",
    "        print('p_err.shape', p_err.shape, 'logp.shape', logp.shape, 'total_logp.shape', total_logp.shape)\n",
    "    i = np.argmax(total_logp)\n",
    "    best_p_err = p_err.squeeze()[i]\n",
    "\n",
    "    if debug:\n",
    "        plt.plot(p_err, total_logp)\n",
    "        plt.xlabel('Error Probability')\n",
    "        plt.ylabel('Log Likelihood')\n",
    "        plt.axvline(best_p_err, c='r', ls='--', label='MLE Error Probability')\n",
    "        plt.legend()\n",
    "\n",
    "    return dict(p_err=best_p_err, logp=total_logp[i])\n",
    "\n",
    "agent_idx = 0\n",
    "_, row = next(generated_df.iterrows())\n",
    "problem = blockworld.Blockworld(row.states[0], gen_goals(row.states[0]))\n",
    "model_p = p_actions # [:, agent_idx]\n",
    "rand_p = np.array([1/len(problem.actions(s)) for s in row.states[:-1]])\n",
    "print('model_p.shape', model_p.shape, 'rand_p.shape', rand_p.shape)\n",
    "print('MLE error prob:', fit_p_err(model_p, rand_p, debug=True))"
   ]
  },
  {
   "cell_type": "code",
   "execution_count": 114,
   "metadata": {
    "scrolled": false
   },
   "outputs": [
    {
     "data": {
      "application/vnd.jupyter.widget-view+json": {
       "model_id": "b511d9acc3994dbbae8b3591d68386a7",
       "version_major": 2,
       "version_minor": 0
      },
      "text/plain": [
       "HBox(children=(IntProgress(value=0, max=5), HTML(value='')))"
      ]
     },
     "metadata": {},
     "output_type": "display_data"
    },
    {
     "name": "stderr",
     "output_type": "stream",
     "text": [
      "/Users/carlos/pu/multigoals/env/lib/python3.6/site-packages/ipykernel_launcher.py:7: RuntimeWarning: divide by zero encountered in log\n",
      "  import sys\n"
     ]
    },
    {
     "name": "stdout",
     "output_type": "stream",
     "text": [
      "ModelResult(name='k=1', agent_kwargs={'k': 1}, fit={'p_err': 0.08163265306122448, 'logp': -7.254533440815227})\n",
      "ModelResult(name='k=2', agent_kwargs={'k': 2}, fit={'p_err': 0.0, 'logp': -1.3862943611198906})\n",
      "ModelResult(name='k=3', agent_kwargs={'k': 3}, fit={'p_err': 0.0, 'logp': -0.6931471805599453})\n",
      "ModelResult(name='k=4', agent_kwargs={'k': 4}, fit={'p_err': 0.0, 'logp': -1.3862943611198906})\n",
      "ModelResult(name='d=2', agent_kwargs={'depth_limit': 2}, fit={'p_err': 0.0, 'logp': -8.55333223803211})\n",
      "ModelResult(name='d=3', agent_kwargs={'depth_limit': 3}, fit={'p_err': 0.0, 'logp': -6.761572768804055})\n",
      "ModelResult(name='d=4', agent_kwargs={'depth_limit': 4}, fit={'p_err': 0.0, 'logp': -6.761572768804055})\n",
      "ModelResult(name='d=5', agent_kwargs={'depth_limit': 5}, fit={'p_err': 0.1020408163265306, 'logp': -8.962797110468594})\n",
      "ModelResult(name='d=6', agent_kwargs={'depth_limit': 6}, fit={'p_err': 0.08163265306122448, 'logp': -7.240655750988578})\n",
      "ModelResult(name='d=7', agent_kwargs={'depth_limit': 7}, fit={'p_err': 0.0, 'logp': -2.995732273553991})\n",
      "ModelResult(name='d=8', agent_kwargs={'depth_limit': 8}, fit={'p_err': 0.0, 'logp': -1.791759469228055})\n",
      "ModelResult(name='d=9', agent_kwargs={'depth_limit': 9}, fit={'p_err': 0.0, 'logp': -1.3862943611198906})\n"
     ]
    }
   ],
   "source": [
    "from functools import lru_cache\n",
    "\n",
    "# We want to see what an agent would do in each circumstance.\n",
    "\n",
    "@lru_cache(maxsize=2048)\n",
    "def get_actions(state, k=None, depth_limit=None):\n",
    "    goals_with_clearing = gen_goals(state)\n",
    "\n",
    "    if k is None:\n",
    "        k = len(goals_with_clearing)\n",
    "    problem = blockworld.Blockworld(state, goals_with_clearing)\n",
    "    # HACK could use next_goal to find out how far into states to go\n",
    "    next_goal, goal_test, h = agent.make_ordered_k_goal_cost_heuristic(problem, state, k=k, debug=False)\n",
    "    solutions = agent.A_Star(\n",
    "        problem,\n",
    "        h,\n",
    "        start=state,\n",
    "        goal_test=goal_test,\n",
    "        depth_limit=depth_limit,\n",
    "        return_all_equal_cost_paths=True,\n",
    "        shuffle=False)\n",
    "    # HACK do we just get next actions or the action sequence?\n",
    "    # Returning sequence might afford some optimizations outside of this function.\n",
    "    next_actions = [actions[0] for actions, states in solutions]\n",
    "    # HACK we should decide how to deal with repeated actions. More repetitions means\n",
    "    # more solutions are in that part of the subtree.\n",
    "    return next_actions\n",
    "\n",
    "# We compute the probability that each agent would take the action the participant took.\n",
    "\n",
    "def probability_of_actions_for_agent(row, get_actions_fn, uniform_action_selection=False):\n",
    "    p_action = np.zeros((len(row.actions),))\n",
    "\n",
    "    for action_idx, (state, participant_action) in enumerate(zip(row.states[:-1], row.actions)):\n",
    "        agent_actions = get_actions_fn(state)\n",
    "        if uniform_action_selection:\n",
    "            agent_actions = list(set(agent_actions))\n",
    "        # HACK for now we assume each action from agent is of equal likelihood. In future, we might prefer compute_action_path_probabilities\n",
    "        same_action = sum(1 if a == participant_action else 0 for a in agent_actions)\n",
    "        p_action[action_idx] = same_action / len(agent_actions)\n",
    "\n",
    "    return p_action\n",
    "\n",
    "k_agents = [\n",
    "    (f'k={k}', dict(k=k))\n",
    "    for k in [1, 2, 3, 4]\n",
    "]\n",
    "other_agents = [\n",
    "    (f'd={d}', dict(depth_limit=d))\n",
    "    for d in [2, 3, 4, 5, 6, 7, 8, 9]\n",
    "]\n",
    "\n",
    "# have to choose how to combine LL across multiple runs: do we take average LL ? or average difference?\n",
    "# or fit model across all runs (which I like most rn)\n",
    "\n",
    "def model_generated_data_for_problem(curr_df, with_progress=False, k_agents=k_agents, other_agents=other_agents):\n",
    "    def _make_models(filt, agents):\n",
    "        models = []\n",
    "        for agent_name, agent_kwargs in agents:\n",
    "            get_actions_fn = lambda s: get_actions(s, **agent_kwargs)\n",
    "            model_p = []\n",
    "            rand_p = []\n",
    "            for _, row in filt.iterrows():\n",
    "                model_p.append(probability_of_actions_for_agent(row, get_actions_fn, uniform_action_selection=True))\n",
    "                rand_p.append(np.array([1/len(problem.actions(s)) for s in row.states[:-1]]))\n",
    "            model_p = np.concatenate(model_p)\n",
    "            rand_p = np.concatenate(rand_p)\n",
    "            assert model_p.shape == rand_p.shape\n",
    "            models.append(ModelResult(agent_name, agent_kwargs, fit_p_err(model_p, rand_p, debug=False)))\n",
    "        return models\n",
    "\n",
    "    d = []\n",
    "    pids = list(sorted(curr_df.pid.unique()))\n",
    "    if with_progress:\n",
    "        pids = tqdm(pids)\n",
    "    for pid in pids:\n",
    "        filt = curr_df.loc[curr_df.pid == pid]\n",
    "        d.append(dict(\n",
    "            agent_name=pid,\n",
    "            # If their pid matches, then their kwargs definitely match.\n",
    "            agent_kwargs=filt.kwargs.values[0],\n",
    "            k_models=_make_models(filt, k_agents),\n",
    "            other_models=_make_models(filt, other_agents),\n",
    "        ))\n",
    "    return pd.DataFrame(d)\n",
    "\n",
    "res = model_generated_data_for_problem(generated_df.tail(), with_progress=True)\n",
    "for m in res.k_models.values[0] + res.other_models.values[0]:\n",
    "    print(m)"
   ]
  },
  {
   "cell_type": "code",
   "execution_count": 115,
   "metadata": {},
   "outputs": [
    {
     "data": {
      "text/plain": [
       "([False, False, True, True, True],\n",
       " [0.0,\n",
       "  0.6931471805599452,\n",
       "  -3.383072868496656,\n",
       "  3.688879454113936,\n",
       "  0.6931471805599452])"
      ]
     },
     "execution_count": 115,
     "metadata": {},
     "output_type": "execute_result"
    }
   ],
   "source": [
    "def score_problem(df):\n",
    "    diffs = []\n",
    "    parameter_recovereds = []\n",
    "\n",
    "    for _, row in df.iterrows():\n",
    "        generating_model = next(m for m in row.k_models if m.agent_kwargs == row.agent_kwargs)\n",
    "        parameter_recovered = True\n",
    "\n",
    "        # parameter recovery, ensuring generating model has higher logp than other models.\n",
    "        for m in row.k_models:\n",
    "            if m.agent_kwargs == row.agent_kwargs:\n",
    "                continue\n",
    "            if m.fit['logp'] > generating_model.fit['logp']:\n",
    "                parameter_recovered = False\n",
    "\n",
    "        # Find diff in logp between generating & maximal other model\n",
    "        max_model = max(row.other_models, key=lambda m: m.fit['logp'])\n",
    "        diff = generating_model.fit['logp'] - max_model.fit['logp']\n",
    "        diffs.append(diff)\n",
    "        parameter_recovereds.append(parameter_recovered)\n",
    "\n",
    "    return parameter_recovereds, diffs\n",
    "\n",
    "score_problem(res)"
   ]
  },
  {
   "cell_type": "code",
   "execution_count": 116,
   "metadata": {
    "scrolled": false
   },
   "outputs": [
    {
     "name": "stderr",
     "output_type": "stream",
     "text": [
      "/Users/carlos/pu/multigoals/env/lib/python3.6/site-packages/ipykernel_launcher.py:7: RuntimeWarning: divide by zero encountered in log\n",
      "  import sys\n"
     ]
    },
    {
     "data": {
      "text/plain": [
       "([True, True, True, False],\n",
       " [8.553481346808518,\n",
       "  3.465735902799727,\n",
       "  -2.0794415416798344,\n",
       "  4.477643702128635])"
      ]
     },
     "metadata": {},
     "output_type": "display_data"
    },
    {
     "name": "stdout",
     "output_type": "stream",
     "text": [
      "\n",
      "\n",
      " k=1\n",
      "\t ModelResult(name='k=1', agent_kwargs={'k': 1}, fit={'p_err': 0.0, 'logp': -9.010913347279288})\n",
      "\t ModelResult(name='k=2', agent_kwargs={'k': 2}, fit={'p_err': 0.061224489795918366, 'logp': -25.209827097945293})\n",
      "\t ModelResult(name='k=3', agent_kwargs={'k': 3}, fit={'p_err': 0.02040816326530612, 'logp': -18.94035311489081})\n",
      "\t ModelResult(name='k=4', agent_kwargs={'k': 4}, fit={'p_err': 0.12244897959183673, 'logp': -35.76677117731978})\n",
      "\t ModelResult(name='d=2', agent_kwargs={'depth_limit': 2}, fit={'p_err': 0.0, 'logp': -36.528336565121045})\n",
      "\t ModelResult(name='d=3', agent_kwargs={'depth_limit': 3}, fit={'p_err': 0.0, 'logp': -22.76962495620017})\n",
      "\t ModelResult(name='d=4', agent_kwargs={'depth_limit': 4}, fit={'p_err': 0.02040816326530612, 'logp': -23.286817306292512})\n",
      "\t ModelResult(name='d=5', agent_kwargs={'depth_limit': 5}, fit={'p_err': 0.02040816326530612, 'logp': -19.349133617107594})\n",
      "\t ModelResult(name='d=6', agent_kwargs={'depth_limit': 6}, fit={'p_err': 0.061224489795918366, 'logp': -27.257182772274888})\n",
      "\t ModelResult(name='d=7', agent_kwargs={'depth_limit': 7}, fit={'p_err': 0.02040816326530612, 'logp': -23.016056402753946})\n",
      "\t ModelResult(name='d=8', agent_kwargs={'depth_limit': 8}, fit={'p_err': 0.02040816326530612, 'logp': -22.777166029588592})\n",
      "\t ModelResult(name='d=9', agent_kwargs={'depth_limit': 9}, fit={'p_err': 0.02040816326530612, 'logp': -17.564394694087806})\n",
      "\n",
      "\n",
      " k=2\n",
      "\t ModelResult(name='k=1', agent_kwargs={'k': 1}, fit={'p_err': 0.08163265306122448, 'logp': -38.427205345229936})\n",
      "\t ModelResult(name='k=2', agent_kwargs={'k': 2}, fit={'p_err': 0.0, 'logp': -8.317766166719343})\n",
      "\t ModelResult(name='k=3', agent_kwargs={'k': 3}, fit={'p_err': 0.04081632653061224, 'logp': -27.77353132099701})\n",
      "\t ModelResult(name='k=4', agent_kwargs={'k': 4}, fit={'p_err': 0.2857142857142857, 'logp': -62.310073454700095})\n",
      "\t ModelResult(name='d=2', agent_kwargs={'depth_limit': 2}, fit={'p_err': 0.0, 'logp': -44.79398673070138})\n",
      "\t ModelResult(name='d=3', agent_kwargs={'depth_limit': 3}, fit={'p_err': 0.04081632653061224, 'logp': -41.35969692027343})\n",
      "\t ModelResult(name='d=4', agent_kwargs={'depth_limit': 4}, fit={'p_err': 0.061224489795918366, 'logp': -31.57395941948018})\n",
      "\t ModelResult(name='d=5', agent_kwargs={'depth_limit': 5}, fit={'p_err': 0.0, 'logp': -11.78350206951907})\n",
      "\t ModelResult(name='d=6', agent_kwargs={'depth_limit': 6}, fit={'p_err': 0.04081632653061224, 'logp': -24.678508016296924})\n",
      "\t ModelResult(name='d=7', agent_kwargs={'depth_limit': 7}, fit={'p_err': 0.04081632653061224, 'logp': -32.11530819433162})\n",
      "\t ModelResult(name='d=8', agent_kwargs={'depth_limit': 8}, fit={'p_err': 0.1020408163265306, 'logp': -41.30655194015952})\n",
      "\t ModelResult(name='d=9', agent_kwargs={'depth_limit': 9}, fit={'p_err': 0.14285714285714285, 'logp': -46.26614408448149})\n",
      "\n",
      "\n",
      " k=3\n",
      "\t ModelResult(name='k=1', agent_kwargs={'k': 1}, fit={'p_err': 0.061224489795918366, 'logp': -25.050081110281617})\n",
      "\t ModelResult(name='k=2', agent_kwargs={'k': 2}, fit={'p_err': 0.061224489795918366, 'logp': -25.050081110281617})\n",
      "\t ModelResult(name='k=3', agent_kwargs={'k': 3}, fit={'p_err': 0.0, 'logp': -11.512925464970227})\n",
      "\t ModelResult(name='k=4', agent_kwargs={'k': 4}, fit={'p_err': 0.04081632653061224, 'logp': -15.509914772323402})\n",
      "\t ModelResult(name='d=2', agent_kwargs={'depth_limit': 2}, fit={'p_err': 0.0, 'logp': -39.99407246792077})\n",
      "\t ModelResult(name='d=3', agent_kwargs={'depth_limit': 3}, fit={'p_err': 0.0, 'logp': -30.224344905564173})\n",
      "\t ModelResult(name='d=4', agent_kwargs={'depth_limit': 4}, fit={'p_err': 0.0, 'logp': -21.265547559423894})\n",
      "\t ModelResult(name='d=5', agent_kwargs={'depth_limit': 5}, fit={'p_err': 0.061224489795918366, 'logp': -28.390714341259454})\n",
      "\t ModelResult(name='d=6', agent_kwargs={'depth_limit': 6}, fit={'p_err': 0.061224489795918366, 'logp': -28.282085780944094})\n",
      "\t ModelResult(name='d=7', agent_kwargs={'depth_limit': 7}, fit={'p_err': 0.061224489795918366, 'logp': -30.416039321223572})\n",
      "\t ModelResult(name='d=8', agent_kwargs={'depth_limit': 8}, fit={'p_err': 0.0, 'logp': -14.978661367769954})\n",
      "\t ModelResult(name='d=9', agent_kwargs={'depth_limit': 9}, fit={'p_err': 0.0, 'logp': -9.433483923290392})\n",
      "\n",
      "\n",
      " k=4\n",
      "\t ModelResult(name='k=1', agent_kwargs={'k': 1}, fit={'p_err': 0.061224489795918366, 'logp': -28.42787432747633})\n",
      "\t ModelResult(name='k=2', agent_kwargs={'k': 2}, fit={'p_err': 0.061224489795918366, 'logp': -21.60335541304436})\n",
      "\t ModelResult(name='k=3', agent_kwargs={'k': 3}, fit={'p_err': 0.0, 'logp': -11.512925464970227})\n",
      "\t ModelResult(name='k=4', agent_kwargs={'k': 4}, fit={'p_err': 0.04081632653061224, 'logp': -14.761165730247136})\n",
      "\t ModelResult(name='d=2', agent_kwargs={'depth_limit': 2}, fit={'p_err': 0.0, 'logp': -40.8050026841371})\n",
      "\t ModelResult(name='d=3', agent_kwargs={'depth_limit': 3}, fit={'p_err': 0.0, 'logp': -30.224344905564166})\n",
      "\t ModelResult(name='d=4', agent_kwargs={'depth_limit': 4}, fit={'p_err': 0.04081632653061224, 'logp': -27.33851529808448})\n",
      "\t ModelResult(name='d=5', agent_kwargs={'depth_limit': 5}, fit={'p_err': 0.061224489795918366, 'logp': -22.265412006534273})\n",
      "\t ModelResult(name='d=6', agent_kwargs={'depth_limit': 6}, fit={'p_err': 0.02040816326530612, 'logp': -20.266409336002546})\n",
      "\t ModelResult(name='d=7', agent_kwargs={'depth_limit': 7}, fit={'p_err': 0.02040816326530612, 'logp': -23.482591447340077})\n",
      "\t ModelResult(name='d=8', agent_kwargs={'depth_limit': 8}, fit={'p_err': 0.04081632653061224, 'logp': -24.93251739319911})\n",
      "\t ModelResult(name='d=9', agent_kwargs={'depth_limit': 9}, fit={'p_err': 0.04081632653061224, 'logp': -19.23880943237577})\n"
     ]
    }
   ],
   "source": [
    "initial = (('D',), ('E', 'C'), ('F', 'B', 'A'))\n",
    "\n",
    "generated_df = generate_agent_data(initial)\n",
    "modeled = model_generated_data_for_problem(generated_df)\n",
    "s = score_problem(modeled)\n",
    "display(s)\n",
    "for _, row in modeled.iterrows():\n",
    "    print('\\n\\n', row.agent_name)\n",
    "    for m in row.k_models + row.other_models:\n",
    "        print('\\t', m)"
   ]
  },
  {
   "cell_type": "code",
   "execution_count": 12,
   "metadata": {},
   "outputs": [],
   "source": [
    "#d = {} # this variable stores all problems we've worked on."
   ]
  },
  {
   "cell_type": "code",
   "execution_count": 186,
   "metadata": {},
   "outputs": [
    {
     "data": {
      "application/vnd.jupyter.widget-view+json": {
       "model_id": "c5dd75d3d3ae4bd3bf96a2c57eba00a2",
       "version_major": 2,
       "version_minor": 0
      },
      "text/plain": [
       "HBox(children=(IntProgress(value=0, max=2000), HTML(value='')))"
      ]
     },
     "metadata": {},
     "output_type": "display_data"
    },
    {
     "name": "stderr",
     "output_type": "stream",
     "text": [
      "/Users/carlos/pu/multigoals/env/lib/python3.6/site-packages/ipykernel_launcher.py:7: RuntimeWarning: divide by zero encountered in log\n",
      "  import sys\n"
     ]
    }
   ],
   "source": [
    "for BLOCKS in (5, 6):\n",
    "    for _ in tqdm(range(2000)):\n",
    "        initial, letters = generate_blockworld_problem(BLOCKS, (BLOCKS, BLOCKS, BLOCKS))\n",
    "        if initial in d:\n",
    "            continue\n",
    "        generated_df = generate_agent_data(initial)\n",
    "        modeled = model_generated_data_for_problem(generated_df)\n",
    "        #score = score_problem(modeled) # we actually want `modeled` so we can tweak the scoring\n",
    "        d[initial] = modeled"
   ]
  },
  {
   "cell_type": "code",
   "execution_count": 207,
   "metadata": {},
   "outputs": [],
   "source": [
    "import pickle\n",
    "with open('kd-generated.pickle', 'wb') as f:\n",
    "    pickle.dump(d, f)\n",
    "'''\n",
    "# Use this if there's a problem with modelresult being incorrect???\n",
    "for k, hidf in d.items():\n",
    "    for _, row in hidf.iterrows():\n",
    "        for idx, m in enumerate(row.k_models):\n",
    "            row.k_models[idx] = ModelResult(*m)\n",
    "        for idx, m in enumerate(row.other_models):\n",
    "            row.other_models[idx] = ModelResult(*m)\n",
    "'''\n",
    "None"
   ]
  },
  {
   "cell_type": "code",
   "execution_count": 188,
   "metadata": {},
   "outputs": [
    {
     "name": "stdout",
     "output_type": "stream",
     "text": [
      "All keys 6331 5 keys: 1815, 6 keys: 4123, 3 keys: 60, 4 keys: 333,\n"
     ]
    }
   ],
   "source": [
    "dkeys_by_blocknum = {}\n",
    "for k in d.keys():\n",
    "    dkeys_by_blocknum.setdefault(sum(len(col) for col in k), []).append(k)\n",
    "keys5 = dkeys_by_blocknum[5]\n",
    "keys6 = dkeys_by_blocknum[6]\n",
    "print('All keys', len(d.keys()), *[f'{b} keys: {len(v)},' for b, v in dkeys_by_blocknum.items()])"
   ]
  },
  {
   "cell_type": "code",
   "execution_count": 229,
   "metadata": {
    "scrolled": false
   },
   "outputs": [
    {
     "name": "stdout",
     "output_type": "stream",
     "text": [
      "k=1\n",
      "(('F',), ('B', 'D', 'A', 'C', 'E'), ()) ([True, True, True, True], [32.369453481761376, 3.4657359027997257, 7.333994210510838, 12.29184672250341])\n",
      "(('E',), ('D', 'B', 'A', 'C'), ('F',)) ([True, True, False, True], [30.342127941220554, 15.890269151739725, -0.6286200188908033, 3.465735902799726])\n",
      "(('F',), ('D', 'A', 'B', 'C'), ('E',)) ([True, True, True, True], [30.342127941220554, 5.493061443340549, 5.493061443340549, 3.465735902799726])\n",
      "(('F', 'E'), ('B', 'D', 'C', 'A'), ()) ([True, True, True, True], [27.90933729257156, 0.0, 5.49306144334055, 0.0])\n",
      "(('F', 'B'), ('D', 'A', 'C', 'E'), ()) ([True, True, True, True], [27.046291075216224, 5.49306144334055, 5.49306144334055, -9.954265685094128])\n",
      "(('F',), ('D', 'C', 'A', 'E', 'B'), ()) ([True, True, True, True], [26.876392038420825, 0.0, 0.0, 0.0])\n",
      "(('F',), ('B', 'D', 'C', 'E', 'A'), ()) ([True, True, True, True], [26.876392038420825, 0.0, 4.9176972984369876, 0.0])\n",
      "(('F',), ('D', 'C', 'B', 'E', 'A'), ()) ([True, True, True, True], [26.87639203842082, 0.0, 0.0, 0.0])\n",
      "(('F',), ('A', 'D', 'B', 'E', 'C'), ()) ([True, True, True, True], [26.87639203842082, 8.383433201236713, 4.630015225985208, 3.465735902799726])\n",
      "(('E',), ('D', 'B', 'A'), ('F', 'C')) ([True, True, False, False], [25.490097677300934, 11.845875880342202, 8.05010514139489, -13.379549136335134])\n",
      "k=2\n",
      "(('E', 'B'), ('A', 'D'), ('F', 'C')) ([True, True, True, True], [8.317766166719341, 31.56050550126225, 16.107551099496405, 7.552435958413691])\n",
      "(('E',), ('C', 'A', 'D'), ('F', 'B')) ([True, True, True, True], [16.583416332299674, 30.758969535053126, 12.729320789294722, 14.978661367769952])\n",
      "(('F', 'B'), ('C', 'A', 'D'), ('E',)) ([True, True, True, True], [15.890269151739728, 30.720849063768206, 11.20813792461551, 13.862943611198904])\n",
      "(('E',), ('C',), ('F', 'B', 'A', 'D')) ([True, True, True, True], [11.959212567598648, 27.979728855350523, 9.792806962754298, 16.191636237110107])\n",
      "(('E', 'D'), (), ('F', 'C', 'A', 'B')) ([True, True, True, True], [12.424533248940003, 27.494204618231194, 3.465735902799726, 2.955540592001256])\n",
      "(('E',), ('C', 'B'), ('D', 'F', 'A')) ([True, True, False, True], [14.451858789480825, 26.72319939889872, -1.3467072654284475, -3.8178348877012116])\n",
      "(('F', 'B', 'C', 'D'), ('A',), ('E',)) ([True, True, True, True], [11.56148703158466, 26.57055072424641, 10.078248077670516, 17.917594692280552])\n",
      "(('E', 'D'), (), ('F', 'C', 'B', 'A')) ([True, True, True, True], [6.931471805599452, 26.454047626264074, 10.39720770839918, 2.912359617584844])\n",
      "(('F', 'C', 'D', 'B'), (), ('E', 'A')) ([True, True, False, False], [6.931471805599452, 26.264442186785008, 3.4657359027997257, 3.3582048766949057])\n",
      "(('F', 'D', 'A'), ('C', 'B'), ('E',)) ([True, True, True, True], [18.610741872840496, 25.761261087490936, 2.824704723378794, 3.465735902799726])\n",
      "k=3\n",
      "(('F', 'E', 'A'), ('B', 'C'), ('D',)) ([True, True, True, True], [11.679270067241044, 1.3862943611198908, 30.34212794122055, 7.5648602539302345])\n",
      "(('F', 'E', 'C'), ('B', 'A'), ('D',)) ([True, True, True, True], [11.679270067241044, 0.0, 22.78785586733456, 3.465735902799726])\n",
      "(('F', 'C', 'D', 'A'), ('B',), ('E',)) ([True, True, True, False], [12.136851176488218, 10.742561926189246, 22.076477775640225, -1.8029314691288079])\n",
      "(('E',), ('B',), ('F', 'C', 'D', 'A')) ([True, True, True, False], [17.62991261982877, 16.836175191464726, 20.636587241352196, -1.0978388651560564])\n",
      "(('F', 'B', 'A'), ('C', 'D'), ('E',)) ([True, True, True, False], [12.254634212144603, 23.140212933850822, 19.64011100973931, 1.3712700195792635])\n",
      "(('F', 'A', 'E', 'C'), ('B', 'D'), ()) ([True, True, True, True], [13.575261538747126, 10.227308671603783, 19.47378809019584, 6.931471805599453])\n",
      "(('F', 'C'), ('A', 'B', 'D'), ('E',)) ([True, True, True, True], [17.969710693419568, 12.542316284596385, 18.36388179490897, 13.862943611198904])\n",
      "(('E',), ('A', 'B', 'D'), ('F', 'C')) ([True, True, True, True], [17.276563512859617, 10.75055681536833, 18.36388179490897, 14.978661367769952])\n",
      "(('E', 'B'), ('D', 'A'), ('F', 'C')) ([True, True, True, True], [17.917594692280552, 16.559699805682357, 18.04117246584621, 10.128706895450795])\n",
      "(('F', 'D', 'A'), ('B',), ('E', 'C')) ([True, True, True, False], [17.224447511720605, 9.492975472212724, 18.026539625701975, 3.9469826953511777])\n"
     ]
    }
   ],
   "source": [
    "#scored = {k: score_problem(m) for k, m in tqdm(d.items())}\n",
    "#key = lambda k: np.sum(np.array(scored[k][-1]) * np.array([1, 1, 1, 3])) # weighted sum\n",
    "#key = lambda k: scored[k][-1][3] # prioritize by score of k=4\n",
    "key = lambda k: sum(scored[k][-1]) # sum is nice\n",
    "\n",
    "for kvalidx in range(3):\n",
    "    key = lambda k: scored[k][-1][kvalidx]\n",
    "    print(f'k={kvalidx+1}')\n",
    "    for k in sorted(dkeys_by_blocknum[6], key=key, reverse=True)[:10]:\n",
    "        s = scored[k]\n",
    "        print(k, s)"
   ]
  },
  {
   "cell_type": "code",
   "execution_count": 17,
   "metadata": {},
   "outputs": [
    {
     "name": "stderr",
     "output_type": "stream",
     "text": [
      "/Users/carlos/pu/multigoals/env/lib/python3.6/site-packages/ipykernel_launcher.py:7: RuntimeWarning: divide by zero encountered in log\n",
      "  import sys\n"
     ]
    },
    {
     "data": {
      "text/plain": [
       "(True,\n",
       " [9.651944526700222,\n",
       "  33.96042383476965,\n",
       "  12.323855681186558,\n",
       "  14.978661367769952])"
      ]
     },
     "metadata": {},
     "output_type": "display_data"
    },
    {
     "name": "stdout",
     "output_type": "stream",
     "text": [
      "run it again...\n"
     ]
    },
    {
     "data": {
      "text/plain": [
       "(True,\n",
       " [16.583416332299674,\n",
       "  30.65866788962815,\n",
       "  12.729320789294722,\n",
       "  14.978661367769952])"
      ]
     },
     "metadata": {},
     "output_type": "display_data"
    },
    {
     "name": "stdout",
     "output_type": "stream",
     "text": [
      "one last time...\n"
     ]
    },
    {
     "data": {
      "text/plain": [
       "(True,\n",
       " [15.197121971179783,\n",
       "  27.307175407857326,\n",
       "  11.918390573078394,\n",
       "  14.978661367769952])"
      ]
     },
     "metadata": {},
     "output_type": "display_data"
    }
   ],
   "source": [
    "# repeatability of scores...\n",
    "\n",
    "initial = (('E',), ('C', 'A', 'D'), ('F', 'B'))\n",
    "\n",
    "generated_df = generate_agent_data(initial)\n",
    "modeled = model_generated_data_for_problem(generated_df)\n",
    "s = score_problem(modeled)\n",
    "display(s)\n",
    "\n",
    "print('run it again...')\n",
    "generated_df = generate_agent_data(initial)\n",
    "modeled = model_generated_data_for_problem(generated_df)\n",
    "s = score_problem(modeled)\n",
    "display(s)\n",
    "\n",
    "print('one last time...')\n",
    "generated_df = generate_agent_data(initial)\n",
    "modeled = model_generated_data_for_problem(generated_df)\n",
    "s = score_problem(modeled)\n",
    "display(s)"
   ]
  },
  {
   "cell_type": "code",
   "execution_count": 169,
   "metadata": {},
   "outputs": [],
   "source": [
    "#previous_runs = []"
   ]
  },
  {
   "cell_type": "code",
   "execution_count": 208,
   "metadata": {},
   "outputs": [
    {
     "name": "stdout",
     "output_type": "stream",
     "text": [
      "15 unique out of 15\n"
     ]
    },
    {
     "data": {
      "application/vnd.jupyter.widget-view+json": {
       "model_id": "2be2e17bf91b4bcb90d37236b0307906",
       "version_major": 2,
       "version_minor": 0
      },
      "text/plain": [
       "HBox(children=(IntProgress(value=0, max=15), HTML(value='')))"
      ]
     },
     "metadata": {},
     "output_type": "display_data"
    },
    {
     "data": {
      "application/vnd.jupyter.widget-view+json": {
       "model_id": "e1166e10a39c447399e274d745f03331",
       "version_major": 2,
       "version_minor": 0
      },
      "text/plain": [
       "HBox(children=(IntProgress(value=0, max=20), HTML(value='')))"
      ]
     },
     "metadata": {},
     "output_type": "display_data"
    },
    {
     "name": "stderr",
     "output_type": "stream",
     "text": [
      "/Users/carlos/pu/multigoals/env/lib/python3.6/site-packages/ipykernel_launcher.py:7: RuntimeWarning: divide by zero encountered in log\n",
      "  import sys\n"
     ]
    }
   ],
   "source": [
    "# assessing previous thigns we've looked at\n",
    "prev = [((), ('C', 'A', 'B'), ('E', 'D')),\n",
    " ((), ('C', 'A', 'E'), ('D', 'B')),\n",
    " (('C',), ('A', 'E', 'B', 'D'), ()),\n",
    " (('C',), ('B', 'E', 'D', 'A'), ()),\n",
    " (('C', 'E'), ('A', 'B', 'D'), ()),\n",
    " (('C', 'E'), ('B', 'A', 'D'), ()),\n",
    " (('C', 'E', 'A'), ('B', 'D'), ()),\n",
    " (('D', 'A'), ('C', 'B', 'E'), ()),\n",
    " (('D', 'B'), ('A', 'E', 'C'), ()),\n",
    " (('E',), ('C', 'B', 'A'), ('D',)),\n",
    " (('E', 'A'), ('C', 'B'), ('D',)),\n",
    " (('E', 'B'), ('C', 'A', 'D'), ()),\n",
    " (('E', 'B', 'D'), ('C', 'A'), ()),\n",
    " (('E', 'C', 'A'), ('B',), ('D',)),\n",
    " (('E', 'D'), ('C', 'A', 'B'), ())]\n",
    "\n",
    "# now try best N-blocks\n",
    "prev = sorted(dkeys_by_blocknum[3], key=lambda k: sum(scored[k][-1]), reverse=True)[:15]\n",
    "# Actually pick some things that maximize each k\n",
    "'''\n",
    "prev = [\n",
    "    k\n",
    "    for kidx in range(len(k_agents))\n",
    "    for k in sorted(\n",
    "        keys6,\n",
    "        key=lambda k: scored[k][-1][kidx], # we prioritize by LL diff for each k-value\n",
    "        reverse=True,\n",
    "    )[:4] # We pick the first 4 options for each of the 4 k. So 16 problems total.\n",
    "]\n",
    "'''\n",
    "num_prev = len(prev)\n",
    "prev = list(set(prev))\n",
    "print(f'{len(prev)} unique out of {num_prev}')\n",
    "\n",
    "res = []\n",
    "for initial in tqdm(prev):\n",
    "    generated_df = generate_agent_data(initial)\n",
    "    generated_df['pid'] = generated_df['pid'].str.cat([f':{i}' for i in range(generated_df.shape[0])])\n",
    "    res.append(generated_df)\n",
    "\n",
    "generated_df = pd.concat(res)\n",
    "\n",
    "# HACK for now we are just trying this here\n",
    "'''\n",
    "other_agents = [\n",
    "    (f'd={d}', dict(depth_limit=d))\n",
    "    for d in [2, 3, 4, 5, 6, 7, 8, 9, 10, 11]\n",
    "]\n",
    "'''\n",
    "\n",
    "# HACK it seems like jointly modeling is better than selecting with respect to the way we identified it by optimizing\n",
    "# HACK this can be _very_ slow since we don't really exploit LRU very well with how inner loop is run.\n",
    "modeled = model_generated_data_for_problem(generated_df, with_progress=True, other_agents=other_agents)\n",
    "\n",
    "previous_runs.append((prev, modeled))"
   ]
  },
  {
   "cell_type": "code",
   "execution_count": 151,
   "metadata": {},
   "outputs": [
    {
     "data": {
      "text/html": [
       "<div>\n",
       "<style scoped>\n",
       "    .dataframe tbody tr th:only-of-type {\n",
       "        vertical-align: middle;\n",
       "    }\n",
       "\n",
       "    .dataframe tbody tr th {\n",
       "        vertical-align: top;\n",
       "    }\n",
       "\n",
       "    .dataframe thead th {\n",
       "        text-align: right;\n",
       "    }\n",
       "</style>\n",
       "<table border=\"1\" class=\"dataframe\">\n",
       "  <thead>\n",
       "    <tr style=\"text-align: right;\">\n",
       "      <th></th>\n",
       "      <th>agent_kwargs</th>\n",
       "      <th>agent_name</th>\n",
       "      <th>k_models</th>\n",
       "      <th>other_models</th>\n",
       "    </tr>\n",
       "  </thead>\n",
       "  <tbody>\n",
       "    <tr>\n",
       "      <th>0</th>\n",
       "      <td>{'k': 1}</td>\n",
       "      <td>k=1:0</td>\n",
       "      <td>[(k=1, {'k': 1}, {'p_err': 0.0, 'logp': -13.86...</td>\n",
       "      <td>[(d=2, {'depth_limit': 2}, {'p_err': 0.0, 'log...</td>\n",
       "    </tr>\n",
       "    <tr>\n",
       "      <th>1</th>\n",
       "      <td>{'k': 1}</td>\n",
       "      <td>k=1:1</td>\n",
       "      <td>[(k=1, {'k': 1}, {'p_err': 0.0, 'logp': -13.86...</td>\n",
       "      <td>[(d=2, {'depth_limit': 2}, {'p_err': 0.0, 'log...</td>\n",
       "    </tr>\n",
       "    <tr>\n",
       "      <th>2</th>\n",
       "      <td>{'k': 1}</td>\n",
       "      <td>k=1:2</td>\n",
       "      <td>[(k=1, {'k': 1}, {'p_err': 0.0, 'logp': -13.16...</td>\n",
       "      <td>[(d=2, {'depth_limit': 2}, {'p_err': 0.0, 'log...</td>\n",
       "    </tr>\n",
       "    <tr>\n",
       "      <th>3</th>\n",
       "      <td>{'k': 1}</td>\n",
       "      <td>k=1:3</td>\n",
       "      <td>[(k=1, {'k': 1}, {'p_err': 0.0, 'logp': -13.86...</td>\n",
       "      <td>[(d=2, {'depth_limit': 2}, {'p_err': 0.0, 'log...</td>\n",
       "    </tr>\n",
       "    <tr>\n",
       "      <th>4</th>\n",
       "      <td>{'k': 1}</td>\n",
       "      <td>k=1:4</td>\n",
       "      <td>[(k=1, {'k': 1}, {'p_err': 0.0, 'logp': -14.55...</td>\n",
       "      <td>[(d=2, {'depth_limit': 2}, {'p_err': 0.0, 'log...</td>\n",
       "    </tr>\n",
       "  </tbody>\n",
       "</table>\n",
       "</div>"
      ],
      "text/plain": [
       "  agent_kwargs agent_name                                           k_models  \\\n",
       "0     {'k': 1}      k=1:0  [(k=1, {'k': 1}, {'p_err': 0.0, 'logp': -13.86...   \n",
       "1     {'k': 1}      k=1:1  [(k=1, {'k': 1}, {'p_err': 0.0, 'logp': -13.86...   \n",
       "2     {'k': 1}      k=1:2  [(k=1, {'k': 1}, {'p_err': 0.0, 'logp': -13.16...   \n",
       "3     {'k': 1}      k=1:3  [(k=1, {'k': 1}, {'p_err': 0.0, 'logp': -13.86...   \n",
       "4     {'k': 1}      k=1:4  [(k=1, {'k': 1}, {'p_err': 0.0, 'logp': -14.55...   \n",
       "\n",
       "                                        other_models  \n",
       "0  [(d=2, {'depth_limit': 2}, {'p_err': 0.0, 'log...  \n",
       "1  [(d=2, {'depth_limit': 2}, {'p_err': 0.0, 'log...  \n",
       "2  [(d=2, {'depth_limit': 2}, {'p_err': 0.0, 'log...  \n",
       "3  [(d=2, {'depth_limit': 2}, {'p_err': 0.0, 'log...  \n",
       "4  [(d=2, {'depth_limit': 2}, {'p_err': 0.0, 'log...  "
      ]
     },
     "execution_count": 151,
     "metadata": {},
     "output_type": "execute_result"
    }
   ],
   "source": [
    "modeled.head()"
   ]
  },
  {
   "cell_type": "code",
   "execution_count": 191,
   "metadata": {},
   "outputs": [
    {
     "data": {
      "image/png": "[encoded data removed]",
      "text/plain": [
       "<Figure size 864x576 with 4 Axes>"
      ]
     },
     "metadata": {},
     "output_type": "display_data"
    }
   ],
   "source": [
    "sns.set_style(\"whitegrid\")\n",
    "\n",
    "f, axes = plt.subplots(2, 2, figsize=(12, 8), sharex=True, sharey=True)\n",
    "\n",
    "for ax, pids in [\n",
    "    #sorted(curr_df.pid.unique()),\n",
    "    (ax, [pid for pid in generated_df.pid.unique() if pid.startswith(agent_type)])\n",
    "    for ax, agent_type in zip(axes.flat, ['k=1', 'k=2', 'k=3', 'k=4'])\n",
    "]:\n",
    "    for pid in pids:\n",
    "        pid_df = modeled.loc[modeled.agent_name == pid]\n",
    "        assert pid_df.shape[0] == 1\n",
    "        _, pid_df_row = next(pid_df.iterrows())\n",
    "        models = pid_df_row.k_models + pid_df_row.other_models\n",
    "        names = [m.name for m in models]\n",
    "        ll = [m.fit['logp'] for m in models]\n",
    "        ax.plot(names, ll, '-o', label=f'PID {pid}')\n",
    "        max_agent = np.argmax(ll)\n",
    "        max_dot = ax.plot(names[max_agent], ll[max_agent], 'o', c='k')\n",
    "\n",
    "    ax.legend(loc='lower left', bbox_to_anchor= (0.0, 1.01), ncol=4, \n",
    "                borderaxespad=0, frameon=False)\n",
    "\n",
    "    ax.set_title(f'Log-likelihood for P(error) across problems - {list(pids)[0]}\\n\\n')\n",
    "    ax.set_xlabel('Agents')\n",
    "    ax.set_ylabel('Log likelihood')\n",
    "    for tick in ax.get_xticklabels():\n",
    "        tick.set_rotation(90)"
   ]
  },
  {
   "cell_type": "code",
   "execution_count": 240,
   "metadata": {},
   "outputs": [
    {
     "name": "stdout",
     "output_type": "stream",
     "text": [
      "18 unique problems out of 18\n",
      "Total dupes: 2.0\n",
      "# Without duplicates... 16\n",
      "Total dupes after dedupe: 0.0\n"
     ]
    }
   ],
   "source": [
    "def _get_main_problems():\n",
    "    '''\n",
    "    To find our main problems for testing, we take the top problems\n",
    "    that best differentiate each of different k. We vary the number\n",
    "    of top problems to make sure k=1/k=2 are best differentiated.\n",
    "    We also ensure problems are removed if their mirror is also\n",
    "    in the set of problems.\n",
    "    '''\n",
    "\n",
    "    k_to_lim = {\n",
    "        1: 5,\n",
    "        2: 5,\n",
    "        3: 4,\n",
    "        4: 4,\n",
    "    }\n",
    "\n",
    "    main_problems = [\n",
    "        k\n",
    "        for kidx in range(len(k_agents))\n",
    "        for k in sorted(\n",
    "            dkeys_by_blocknum[6],\n",
    "            key=lambda k: scored[k][-1][kidx], # we prioritize by LL diff for each k-value\n",
    "            reverse=True,\n",
    "        )[:k_to_lim[kidx+1]] # We pick the first $lim options for each of the 4 k.\n",
    "    ]\n",
    "\n",
    "    print(f'{len(set(main_problems))} unique problems out of {len(main_problems)}')\n",
    "\n",
    "    def _count_dupes(problemset):\n",
    "        return len([p for p in problemset if p[::-1] in problemset]) / 2\n",
    "\n",
    "    print(f'Total dupes: {_count_dupes(main_problems)}')\n",
    "\n",
    "    deduplicated = [p for p in main_problems if p[::-1] not in main_problems or p < p[::-1]]\n",
    "\n",
    "    print(f'# Without duplicates... {len(deduplicated)}')\n",
    "    print(f'Total dupes after dedupe: {_count_dupes(deduplicated)}')\n",
    "\n",
    "    return deduplicated\n",
    "\n",
    "_ = _get_main_problems()"
   ]
  },
  {
   "cell_type": "code",
   "execution_count": 244,
   "metadata": {},
   "outputs": [
    {
     "name": "stdout",
     "output_type": "stream",
     "text": [
      "18 unique problems out of 18\n",
      "Total dupes: 2.0\n",
      "# Without duplicates... 16\n",
      "Total dupes after dedupe: 0.0\n",
      "(\n",
      "  (('F',), ('B', 'D', 'A', 'C', 'E'), ()),\n",
      "  (('E',), ('D', 'B', 'A', 'C'), ('F',)),\n",
      "  (('F',), ('D', 'A', 'B', 'C'), ('E',)),\n",
      "  (('F', 'E'), ('B', 'D', 'C', 'A'), ()),\n",
      "  (('F', 'B'), ('D', 'A', 'C', 'E'), ()),\n",
      "  (('E', 'B'), ('A', 'D'), ('F', 'C')),\n",
      "  (('E',), ('C', 'A', 'D'), ('F', 'B')),\n",
      "  (('E',), ('C',), ('F', 'B', 'A', 'D')),\n",
      "  (('E', 'D'), (), ('F', 'C', 'A', 'B')),\n",
      "  (('F', 'E', 'A'), ('B', 'C'), ('D',)),\n",
      "  (('F', 'E', 'C'), ('B', 'A'), ('D',)),\n",
      "  (('E',), ('B',), ('F', 'C', 'D', 'A')),\n",
      "  (('F', 'C', 'E'), ('A',), ('D', 'B')),\n",
      "  ((), ('A', 'C', 'E', 'F'), ('D', 'B')),\n",
      "  (('F', 'C', 'B', 'A'), (), ('D', 'E')),\n",
      "  (('F', 'D'), ('B', 'C'), ('E', 'A')),\n",
      ")\n"
     ]
    }
   ],
   "source": [
    "ps = _get_main_problems()\n",
    "print('(')\n",
    "for p in ps:\n",
    "    print('  '+str(p)+',')\n",
    "print(')')"
   ]
  },
  {
   "cell_type": "code",
   "execution_count": 206,
   "metadata": {},
   "outputs": [
    {
     "name": "stdout",
     "output_type": "stream",
     "text": [
      "((), ('E', 'D', 'C', 'B', 'A'), ())\n",
      "16 unique problems out of 16\n",
      "B=3\n",
      "(('A', 'C'), (), ('B',)) ([True, True, True, True], [0.0, 0.0, 0.0, 0.0])\n",
      "\n",
      "B=4\n",
      "((), ('A', 'C'), ('D', 'B')) ([True, True, True, True], [2.457226915232364, 5.49306144334055, 0.0, 0.0])\n",
      "(('D', 'B'), ('A', 'C'), ()) ([True, True, True, True], [3.465735902799726, 2.831589124714257, 0.0, 0.0])\n",
      "((), ('A', 'B', 'D'), ('C',)) ([True, True, True, True], [2.027325540540823, 3.4657359027997265, 0.0, 0.0])\n",
      "((), ('B',), ('D', 'A', 'C')) ([True, True, True, True], [2.027325540540822, 3.4657359027997257, 0.0, 0.0])\n",
      "\n",
      "B=5\n",
      "(('D',), (), ('E', 'B', 'A', 'C')) ([True, True, True, True], [6.931471805599452, 20.904751378386955, 6.303991659556878, 3.465735902799726])\n",
      "(('D',), ('A', 'C'), ('E', 'B')) ([True, True, True, True], [8.841014310483892, 17.676267886238023, 7.1692840259088655, 0.0])\n",
      "(('D',), ('A', 'B'), ('E', 'C')) ([True, True, True, True], [8.958797346140276, 12.660099320252769, 6.931471805599452, 0.0])\n",
      "(('E', 'C'), ('B', 'A'), ('D',)) ([True, True, True, True], [8.435549202375729, 19.597074605702545, 0.0, 0.0])\n",
      "\n",
      "B=6\n",
      "(('F',), ('B', 'D', 'A', 'C', 'E'), ()) ([True, True, True, True], [32.369453481761376, 3.4657359027997257, 7.333994210510838, 12.29184672250341])\n",
      "(('E',), ('D', 'B', 'A', 'C'), ('F',)) ([True, True, False, True], [30.342127941220554, 15.890269151739725, -0.6286200188908033, 3.465735902799726])\n",
      "(('F',), ('D', 'A', 'B', 'C'), ('E',)) ([True, True, True, True], [30.342127941220554, 5.493061443340549, 5.493061443340549, 3.465735902799726])\n",
      "(('F', 'E'), ('B', 'D', 'C', 'A'), ()) ([True, True, True, True], [27.90933729257156, 0.0, 5.49306144334055, 0.0])\n",
      "(('E', 'B'), ('A', 'D'), ('F', 'C')) ([True, True, True, True], [8.317766166719341, 31.56050550126225, 16.107551099496405, 7.552435958413691])\n",
      "(('E',), ('C', 'A', 'D'), ('F', 'B')) ([True, True, True, True], [16.583416332299674, 30.758969535053126, 12.729320789294722, 14.978661367769952])\n",
      "(('F', 'B'), ('C', 'A', 'D'), ('E',)) ([True, True, True, True], [15.890269151739728, 30.720849063768206, 11.20813792461551, 13.862943611198904])\n",
      "(('E',), ('C',), ('F', 'B', 'A', 'D')) ([True, True, True, True], [11.959212567598648, 27.979728855350523, 9.792806962754298, 16.191636237110107])\n",
      "(('F', 'E', 'A'), ('B', 'C'), ('D',)) ([True, True, True, True], [11.679270067241044, 1.3862943611198908, 30.34212794122055, 7.5648602539302345])\n",
      "(('F', 'E', 'C'), ('B', 'A'), ('D',)) ([True, True, True, True], [11.679270067241044, 0.0, 22.78785586733456, 3.465735902799726])\n",
      "(('F', 'C', 'D', 'A'), ('B',), ('E',)) ([True, True, True, False], [12.136851176488218, 10.742561926189246, 22.076477775640225, -1.8029314691288079])\n",
      "(('E',), ('B',), ('F', 'C', 'D', 'A')) ([True, True, True, False], [17.62991261982877, 16.836175191464726, 20.636587241352196, -1.0978388651560564])\n",
      "(('F', 'C', 'E'), ('A',), ('D', 'B')) ([True, True, True, True], [5.493061443340548, 8.095751128784931, 0.0, 24.836164665053044])\n",
      "((), ('A', 'C', 'E', 'F'), ('D', 'B')) ([True, True, True, True], [13.287579466295345, -4.235420316516382, -0.3894632667050537, 21.501113630736654])\n",
      "(('F', 'C', 'B', 'A'), (), ('D', 'E')) ([True, True, True, True], [6.931471805599452, 14.451858789480825, 3.465735902799726, 18.998354939361008])\n",
      "(('F', 'D'), ('B', 'C'), ('E', 'A')) ([True, True, True, True], [14.451858789480823, 17.72285061548804, 6.931471805599453, 18.605419290144546])\n",
      "\n"
     ]
    }
   ],
   "source": [
    "_goal_from_state = lambda s: ((), tuple(sorted([l for col in s for l in col], reverse=True)), ())\n",
    "print(_goal_from_state(keys5[0]))\n",
    "\n",
    "def _get_top(kval, num=4):\n",
    "    return sorted(\n",
    "        dkeys_by_blocknum[kval],\n",
    "        key=lambda k: sum(scored[k][-1]),\n",
    "        reverse=True)[:num]\n",
    "\n",
    "main_problems = [\n",
    "    k\n",
    "    for kidx in range(len(k_agents))\n",
    "    for k in sorted(\n",
    "        dkeys_by_blocknum[6],\n",
    "        key=lambda k: scored[k][-1][kidx], # we prioritize by LL diff for each k-value\n",
    "        reverse=True,\n",
    "    )[:4] # We pick the first 4 options for each of the 4 k. So 16 problems total.\n",
    "]\n",
    "\n",
    "print(f'{len(set(main_problems))} unique problems out of {len(main_problems)}')\n",
    "\n",
    "info = [\n",
    "    ('B=3', [(('A', 'C'), (), ('B',))]),\n",
    "    ('B=4', _get_top(4)),\n",
    "    ('B=5', _get_top(5)),\n",
    "    ('B=6', main_problems),\n",
    "]\n",
    "\n",
    "out = {}\n",
    "\n",
    "for problem_type, top in info:\n",
    "    print(problem_type)\n",
    "    out[problem_type] = result = []\n",
    "    for initial in top:\n",
    "        print(initial, scored[initial])\n",
    "        result.append(dict(\n",
    "            initial=initial,\n",
    "            goal=_goal_from_state(initial),\n",
    "        ))\n",
    "    print()\n",
    "\n",
    "import json\n",
    "with open('trials.json', 'w') as f:\n",
    "    json.dump(out, f)"
   ]
  },
  {
   "cell_type": "markdown",
   "metadata": {},
   "source": [
    "# Looking at paths to come up with intuitive depth vs goal limits"
   ]
  },
  {
   "cell_type": "code",
   "execution_count": 228,
   "metadata": {},
   "outputs": [
    {
     "data": {
      "text/html": [
       "<div>\n",
       "<style scoped>\n",
       "    .dataframe tbody tr th:only-of-type {\n",
       "        vertical-align: middle;\n",
       "    }\n",
       "\n",
       "    .dataframe tbody tr th {\n",
       "        vertical-align: top;\n",
       "    }\n",
       "\n",
       "    .dataframe thead th {\n",
       "        text-align: right;\n",
       "    }\n",
       "</style>\n",
       "<table border=\"1\" class=\"dataframe\">\n",
       "  <thead>\n",
       "    <tr style=\"text-align: right;\">\n",
       "      <th></th>\n",
       "      <th>agent_kwargs</th>\n",
       "      <th>agent_name</th>\n",
       "      <th>k_models</th>\n",
       "      <th>other_models</th>\n",
       "    </tr>\n",
       "  </thead>\n",
       "  <tbody>\n",
       "    <tr>\n",
       "      <th>0</th>\n",
       "      <td>{'k': 1}</td>\n",
       "      <td>k=1</td>\n",
       "      <td>[(k=1, {'k': 1}, {'p_err': 0.0, 'logp': -4.158...</td>\n",
       "      <td>[(d=2, {'depth_limit': 2}, {'p_err': 0.0, 'log...</td>\n",
       "    </tr>\n",
       "    <tr>\n",
       "      <th>1</th>\n",
       "      <td>{'k': 2}</td>\n",
       "      <td>k=2</td>\n",
       "      <td>[(k=1, {'k': 1}, {'p_err': 0.06122448979591836...</td>\n",
       "      <td>[(d=2, {'depth_limit': 2}, {'p_err': 0.0, 'log...</td>\n",
       "    </tr>\n",
       "    <tr>\n",
       "      <th>2</th>\n",
       "      <td>{'k': 3}</td>\n",
       "      <td>k=3</td>\n",
       "      <td>[(k=1, {'k': 1}, {'p_err': 0.0, 'logp': -3.465...</td>\n",
       "      <td>[(d=2, {'depth_limit': 2}, {'p_err': 0.0, 'log...</td>\n",
       "    </tr>\n",
       "    <tr>\n",
       "      <th>3</th>\n",
       "      <td>{'k': 4}</td>\n",
       "      <td>k=4</td>\n",
       "      <td>[(k=1, {'k': 1}, {'p_err': 0.0, 'logp': -3.465...</td>\n",
       "      <td>[(d=2, {'depth_limit': 2}, {'p_err': 0.0, 'log...</td>\n",
       "    </tr>\n",
       "  </tbody>\n",
       "</table>\n",
       "</div>"
      ],
      "text/plain": [
       "  agent_kwargs agent_name                                           k_models  \\\n",
       "0     {'k': 1}        k=1  [(k=1, {'k': 1}, {'p_err': 0.0, 'logp': -4.158...   \n",
       "1     {'k': 2}        k=2  [(k=1, {'k': 1}, {'p_err': 0.06122448979591836...   \n",
       "2     {'k': 3}        k=3  [(k=1, {'k': 1}, {'p_err': 0.0, 'logp': -3.465...   \n",
       "3     {'k': 4}        k=4  [(k=1, {'k': 1}, {'p_err': 0.0, 'logp': -3.465...   \n",
       "\n",
       "                                        other_models  \n",
       "0  [(d=2, {'depth_limit': 2}, {'p_err': 0.0, 'log...  \n",
       "1  [(d=2, {'depth_limit': 2}, {'p_err': 0.0, 'log...  \n",
       "2  [(d=2, {'depth_limit': 2}, {'p_err': 0.0, 'log...  \n",
       "3  [(d=2, {'depth_limit': 2}, {'p_err': 0.0, 'log...  "
      ]
     },
     "metadata": {},
     "output_type": "display_data"
    },
    {
     "name": "stdout",
     "output_type": "stream",
     "text": [
      "k=1\n",
      "\t k=1 -4.1588830833596715\n",
      "\t k=2 -10.043304310889882\n",
      "\t k=3 -10.746588463956526\n",
      "\t k=4 -10.746588463956526\n",
      "\t d=2 -16.58341633229967\n",
      "\t d=3 -7.624618986159398\n",
      "\t d=4 -9.939626599152001\n",
      "\t d=5 -10.345091707260165\n",
      "\t d=6 -6.6161099985920355\n",
      "\t d=7 -10.746588463956526\n",
      "\t d=8 -10.746588463956526\n",
      "\t d=9 -10.746588463956526\n",
      "\n",
      "k=2\n",
      "\t k=1 -15.887030151797155\n",
      "\t k=2 -3.465735902799726\n",
      "\t k=3 -11.135967742640535\n",
      "\t k=4 -11.135967742640535\n",
      "\t d=2 -19.47378809019584\n",
      "\t d=3 -19.19731311924673\n",
      "\t d=4 -8.958797346140276\n",
      "\t d=5 -8.958797346140276\n",
      "\t d=6 -11.135967742640535\n",
      "\t d=7 -11.135967742640535\n",
      "\t d=8 -11.135967742640535\n",
      "\t d=9 -11.135967742640535\n",
      "\n",
      "k=3\n",
      "\t k=1 -3.4657359027997265\n",
      "\t k=2 -3.4657359027997265\n",
      "\t k=3 0.0\n",
      "\t k=4 0.0\n",
      "\t d=2 -15.890269151739727\n",
      "\t d=3 -6.931471805599453\n",
      "\t d=4 -8.958797346140276\n",
      "\t d=5 -8.958797346140276\n",
      "\t d=6 0.0\n",
      "\t d=7 0.0\n",
      "\t d=8 0.0\n",
      "\t d=9 0.0\n",
      "\n",
      "k=4\n",
      "\t k=1 -3.4657359027997265\n",
      "\t k=2 -3.4657359027997265\n",
      "\t k=3 0.0\n",
      "\t k=4 0.0\n",
      "\t d=2 -15.890269151739727\n",
      "\t d=3 -6.931471805599453\n",
      "\t d=4 -8.958797346140276\n",
      "\t d=5 -8.958797346140276\n",
      "\t d=6 0.0\n",
      "\t d=7 0.0\n",
      "\t d=8 0.0\n",
      "\t d=9 0.0\n",
      "\n",
      "k=2\n",
      "\t [('B', 0), ('C', 0), ('A', 0), ('D', 1), ('A', 2), ('C', 1)]\n",
      "\t [('B', 0), ('C', 2), ('A', 0), ('C', 0), ('D', 1), ('C', 1)]\n",
      "d=4\n",
      "\t [('B', 0), ('C', 0), ('A', 0), ('D', 1)]\n",
      "\t [('C', 0), ('A', 0), ('B', 0), ('D', 1)]\n",
      "\t [('C', 0), ('B', 0), ('A', 0), ('D', 1)]\n",
      "...\n",
      "...\n",
      "...\n",
      ".CB\n",
      ".AD\n",
      "\n"
     ]
    }
   ],
   "source": [
    "'''\n",
    "((), ('B', 'A'), ('D', 'C')) ([True, True, True, True], [3.465735902799727, 0.0, 0.0, 0.0])\n",
    "((), ('C', 'A'), ('D', 'B')) ([True, True, True, True], [3.465735902799726, 0.0, 0.0, 0.0])\n",
    "(('D', 'A'), ('C', 'B'), ()) ([True, True, True, True], [3.465735902799726, 0.0, 0.0, 0.0])\n",
    "'''\n",
    "\n",
    "def simulate_path(state, k=None, depth_limit=None):\n",
    "    goals_with_clearing = gen_goals(state)\n",
    "    if k is None:\n",
    "        k = len(goals_with_clearing)\n",
    "    problem = blockworld.Blockworld(state, goals_with_clearing)\n",
    "    next_goal, goal_test, h = agent.make_ordered_k_goal_cost_heuristic(problem, state, k=k, debug=False)\n",
    "    actions, states = agent.A_Star(\n",
    "        problem, h,\n",
    "        start=state, goal_test=goal_test,\n",
    "        depth_limit=depth_limit,\n",
    "        return_all_equal_cost_paths=True,\n",
    "        shuffle=False)\n",
    "    return [actions[0] for actions, states in solutions]\n",
    "\n",
    "s = ((), ('B', 'A'), ('D', 'C'))\n",
    "s = ((), ('A', 'C'), ('D', 'B'))\n",
    "\n",
    "model_out = d[s]\n",
    "\n",
    "display(model_out)\n",
    "\n",
    "for _, row in model_out.iterrows():\n",
    "    print(row.agent_name)\n",
    "    for m in row.k_models + row.other_models:\n",
    "        print('\\t', m.name, m.fit['logp'])\n",
    "    print()\n",
    "\n",
    "print('k=2')\n",
    "for p in sorted(get_action_paths(s, k=2)):\n",
    "    print('\\t', p)\n",
    "print('d=4')\n",
    "for p in sorted(get_action_paths(s, depth_limit=4)):\n",
    "    print('\\t', p)\n",
    "\n",
    "\n",
    "print(problem.render(s))"
   ]
  },
  {
   "cell_type": "code",
   "execution_count": null,
   "metadata": {},
   "outputs": [],
   "source": []
  }
 ],
 "metadata": {
  "kernelspec": {
   "display_name": "Python 3",
   "language": "python",
   "name": "python3"
  },
  "language_info": {
   "codemirror_mode": {
    "name": "ipython",
    "version": 3
   },
   "file_extension": ".py",
   "mimetype": "text/x-python",
   "name": "python",
   "nbconvert_exporter": "python",
   "pygments_lexer": "ipython3",
   "version": "3.6.4"
  }
 },
 "nbformat": 4,
 "nbformat_minor": 2
}
