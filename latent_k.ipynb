{
 "cells": [
  {
   "cell_type": "code",
   "execution_count": 129,
   "metadata": {},
   "outputs": [
    {
     "name": "stdout",
     "output_type": "stream",
     "text": [
      "The autoreload extension is already loaded. To reload it, use:\n",
      "  %reload_ext autoreload\n"
     ]
    }
   ],
   "source": [
    "%matplotlib inline\n",
    "%load_ext autoreload\n",
    "%autoreload 2\n",
    "\n",
    "import matplotlib.pyplot as plt\n",
    "import numpy as np\n",
    "import pandas as pd\n",
    "import seaborn as sns\n",
    "sns.set_context('notebook', font_scale=1.3)"
   ]
  },
  {
   "cell_type": "markdown",
   "metadata": {},
   "source": [
    "Assume we have a likelihood model for state-dependent action, with a latent variable $k$. \n",
    "This model gives us a probability $ \\Pr(a \\mid s, k) $.\n",
    "Rather than fitting one value of $k$, we would like to fit a distribution over values of $k$.\n",
    "This corresponds to an assumption that a single person can make decisions using different $k$ values at different times.\n",
    "For example, we might assume that $k$ is drawn from a Geometric distribution.\n",
    "This distribution has one parameter, $p$. Thus, we now perform inference over $p$, marginalizing out $k$.\n",
    "That is, we compute\n",
    "\n",
    "$$\n",
    "\\Pr(a \\mid s, p) = \\sum_k \\Pr(a \\mid s, k) \\text{Geom}(k; p)\n",
    "$$"
   ]
  },
  {
   "cell_type": "code",
   "execution_count": 130,
   "metadata": {},
   "outputs": [],
   "source": [
    "# Model defines these two functions. These are dummy examples.\n",
    "\n",
    "def k_likelihood(k, state, action):\n",
    "    \"\"\"p(action | state, k)\"\"\"\n",
    "    # DUMMY\n",
    "    return np.exp(-abs(k - 3))\n",
    "\n",
    "def is_optimal(k, state):\n",
    "    \"\"\"Returns True if the k-agent acts optimally in the given state.\"\"\"\n",
    "    # DUMMY\n",
    "    return k >= 4"
   ]
  },
  {
   "cell_type": "code",
   "execution_count": 131,
   "metadata": {},
   "outputs": [
    {
     "data": {
      "image/png": "[encoded data removed]",
      "text/plain": [
       "<Figure size 432x288 with 1 Axes>"
      ]
     },
     "metadata": {},
     "output_type": "display_data"
    }
   ],
   "source": [
    "k = np.arange(1,6)\n",
    "plt.bar(k, k_likelihood(k, None, None))\n",
    "plt.xlabel('k')\n",
    "plt.ylabel('likelihood');"
   ]
  },
  {
   "cell_type": "code",
   "execution_count": 132,
   "metadata": {},
   "outputs": [],
   "source": [
    "from scipy.stats.distributions import geom\n",
    "\n",
    "def geom_k_likelihood(p, state, action):\n",
    "    \"\"\"p(action | state, p) integrating out k ~ Geom(p)\"\"\"\n",
    "    # We can treat all k that result in the same (optimal) action distribution\n",
    "    # as one bin. max_k is the first k such that this k and all larger k result\n",
    "    # in optimal action distributions. We then put the probability mass of all those\n",
    "    # larger k that we don't explicitly consider onto the max_k bin.\n",
    "    max_k = next(k for k in range(100, 0, -1) if not is_optimal(k, state)) + 1\n",
    "    k = np.arange(1, max_k+1)\n",
    "    pk = geom(p).pmf(k)\n",
    "    pk[-1] = 1 - pk[:-1].sum()  # tail probability of all k >= max_k\n",
    "    lk = k_likelihood(k, state, action)  # assumes k_likelihood can take vector k\n",
    "    return (pk * lk).sum()"
   ]
  },
  {
   "cell_type": "code",
   "execution_count": 135,
   "metadata": {},
   "outputs": [
    {
     "data": {
      "text/plain": [
       "Text(0, 0.5, 'likelihood')"
      ]
     },
     "execution_count": 135,
     "metadata": {},
     "output_type": "execute_result"
    },
    {
     "data": {
      "image/png": "[encoded data removed]",
      "text/plain": [
       "<Figure size 432x288 with 1 Axes>"
      ]
     },
     "metadata": {},
     "output_type": "display_data"
    }
   ],
   "source": [
    "ps = np.arange(0, 1, 0.01)\n",
    "plt.plot(ps, [geom_k_likelihood(p, None, None) for p in ps])\n",
    "plt.xlabel('p')\n",
    "plt.ylabel('likelihood')"
   ]
  }
 ],
 "metadata": {
  "anaconda-cloud": {},
  "kernelspec": {
   "display_name": "Python 3",
   "language": "python",
   "name": "python3"
  },
  "language_info": {
   "codemirror_mode": {
    "name": "ipython",
    "version": 3
   },
   "file_extension": ".py",
   "mimetype": "text/x-python",
   "name": "python",
   "nbconvert_exporter": "python",
   "pygments_lexer": "ipython3",
   "version": "3.6.3"
  },
  "nav_menu": {},
  "toc": {
   "navigate_menu": true,
   "number_sections": true,
   "sideBar": true,
   "threshold": 6,
   "toc_cell": false,
   "toc_section_display": "block",
   "toc_window_display": false
  }
 },
 "nbformat": 4,
 "nbformat_minor": 1
}
