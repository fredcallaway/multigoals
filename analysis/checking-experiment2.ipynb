{
 "cells": [
  {
   "cell_type": "code",
   "execution_count": 45,
   "metadata": {},
   "outputs": [
    {
     "name": "stdout",
     "output_type": "stream",
     "text": [
      "The autoreload extension is already loaded. To reload it, use:\n",
      "  %reload_ext autoreload\n"
     ]
    }
   ],
   "source": [
    "from __future__ import division\n",
    "\n",
    "%matplotlib inline\n",
    "%load_ext autoreload\n",
    "%autoreload 2\n",
    "\n",
    "import matplotlib.pyplot as plt\n",
    "from tqdm import tqdm_notebook as tqdm\n",
    "import numpy as np\n",
    "import pandas as pd\n",
    "import seaborn as sns\n",
    "sns.set_context('notebook', font_scale=1.3)"
   ]
  },
  {
   "cell_type": "code",
   "execution_count": 46,
   "metadata": {},
   "outputs": [],
   "source": [
    "import os, sys\n",
    "sys.path.append(os.path.dirname(os.getcwd()))\n",
    "import agent\n",
    "import blockworld\n",
    "import model"
   ]
  },
  {
   "cell_type": "code",
   "execution_count": 57,
   "metadata": {},
   "outputs": [
    {
     "name": "stdout",
     "output_type": "stream",
     "text": [
      "Found bad pid 5 with 45 problems, but expected 35\n",
      "Found bad pid 26 with 32 problems, but expected 35\n",
      "Removing pids: [5, 26]. Before (1722, 10)\n",
      "After (1645, 10)\n"
     ]
    }
   ],
   "source": [
    "from utils import get_data\n",
    "version = '1.4'\n",
    "data = get_data(version, '../data')\n",
    "if version in ('1.2', '1.3'):\n",
    "    df = data['blockworld'].set_index('pid', drop=False)\n",
    "    pdf = data['participants'].set_index('pid')\n",
    "    df['completed'] = pdf['completed']\n",
    "    # HACK due to a bug with 1.2, we have to filter only include subjects that are completed.\n",
    "    df = df.query('completed')\n",
    "    df = df.reset_index(drop=True)\n",
    "else:\n",
    "    df = data['blockworld']\n",
    "\n",
    "# HACK due to an error where a participant restarted the task, we drop pid=10\n",
    "if version == '1.3':\n",
    "    df = df.loc[df.pid != 10]\n",
    "\n",
    "if version == '1.4':\n",
    "    bad_pids = []\n",
    "    exp_rows = 35\n",
    "    for pid, rows in df.groupby('pid'):\n",
    "        if len(rows) == exp_rows:\n",
    "            continue\n",
    "        bad_pids.append(pid)\n",
    "        print(f'Found bad pid {pid} with {len(rows)} problems, but expected {exp_rows}')\n",
    "    print(f'Removing pids: {bad_pids}. Before {df.shape}')\n",
    "    df = df.loc[~df.pid.isin(bad_pids)]\n",
    "    print(f'After {df.shape}')"
   ]
  },
  {
   "cell_type": "code",
   "execution_count": 43,
   "metadata": {},
   "outputs": [
    {
     "name": "stdout",
     "output_type": "stream",
     "text": [
      "The rpy2.ipython extension is already loaded. To reload it, use:\n",
      "  %reload_ext rpy2.ipython\n",
      "../data/1.3/blockworld.csv\r\n"
     ]
    }
   ],
   "source": [
    "%load_ext rpy2.ipython\n",
    "#%Rpush df\n",
    "!ls ../data/1.3/blockworld.csv"
   ]
  },
  {
   "cell_type": "code",
   "execution_count": 10,
   "metadata": {},
   "outputs": [
    {
     "data": {
      "text/plain": [
       "\n",
       "Call:\n",
       "lm(formula = pid ~ pid, data = x)\n",
       "\n",
       "Residuals:\n",
       "     Min       1Q   Median       3Q      Max \n",
       "-23.4371 -11.4371  -0.4371  12.5629  22.5629 \n",
       "\n",
       "Coefficients:\n",
       "            Estimate Std. Error t value Pr(>|t|)    \n",
       "(Intercept)   23.437      0.349   67.16   <2e-16 ***\n",
       "---\n",
       "Signif. codes:  0 ‘***’ 0.001 ‘**’ 0.01 ‘*’ 0.05 ‘.’ 0.1 ‘ ’ 1\n",
       "\n",
       "Residual standard error: 13.53 on 1502 degrees of freedom\n",
       "\n"
      ]
     },
     "metadata": {},
     "output_type": "display_data"
    }
   ],
   "source": [
    "%%R\n",
    "x = read.csv('../data/1.3/blockworld.csv')\n",
    "summary(lm(pid ~ pid, data=x))"
   ]
  },
  {
   "cell_type": "code",
   "execution_count": 58,
   "metadata": {},
   "outputs": [
    {
     "name": "stdout",
     "output_type": "stream",
     "text": [
      "mean bonus $0.77\n",
      "Mean time 17.85 +- 6.15 minutes\n"
     ]
    }
   ],
   "source": [
    "mean_bonus = data['participants'].query('completed').bonus.mean()\n",
    "print(f'mean bonus ${mean_bonus:.02f}')\n",
    "\n",
    "all_min = []\n",
    "for pid, pid_df in df.groupby('pid'):\n",
    "    for _, row in pid_df.iterrows():\n",
    "        prev_row_elapsed = row.time_elapsed\n",
    "    minutes = prev_row_elapsed/1000/60\n",
    "    all_min.append(minutes)\n",
    "print(f'Mean time {np.mean(all_min):.02f} +- {np.std(all_min):.02f} minutes')"
   ]
  },
  {
   "cell_type": "code",
   "execution_count": 49,
   "metadata": {},
   "outputs": [
    {
     "name": "stdout",
     "output_type": "stream",
     "text": [
      ":A,B,D:C [nan nan nan] mean nan\n",
      ":A,C,E,F:D,B [ 0.9  8.  11. ] mean 7.052631578947368\n",
      ":B,D,A,C,E:F [2. 3. 7.] mean 4.32\n",
      ":B,D,C,A:F,E [0.05 3.   5.  ] mean 3.227272727272727\n",
      ":D,A,C,E:F,B [3.   7.   8.45] mean 6.277777777777778\n",
      "A,C::B [0. 3. 3.] mean 2.38\n",
      "D,B:A,C,E,F: [ 0.  8. 10.] mean 7.032258064516129\n",
      "D,B:A:F,C,E [2.05 5.   5.  ] mean 4.2272727272727275\n",
      "D,E::F,C,B,A [0. 2. 3.] mean 1.8076923076923077\n",
      "D:B,A:F,E,C [1.9 4.  5. ] mean 3.75\n",
      "D:B,C:F,E,A [1.3 3.  4. ] mean 2.8518518518518516\n",
      "E,A:B,C:F,D [2.2 7.  7. ] mean 5.862068965517241\n",
      "E,B:A,D:F,C [0. 4. 6.] mean 3.28\n",
      "E,C:B,A:D [ 4.45  9.   10.  ] mean 8.54\n",
      "E,D::F,C,A,B [2.2 7.  9. ] mean 6.36\n",
      "E:B:F,C,D,A [0. 3. 5.] mean 3.4347826086956523\n",
      "E:C,A,D:F,B [0.1 3.5 6. ] mean 3.5454545454545454\n",
      "E:C:F,B,A,D [1.   4.   4.75] mean 3.269230769230769\n",
      "E:D,A,B,C:F [0.05 2.   7.95] mean 3.6363636363636362\n",
      "E:D,B,A,C:F [0.   2.   9.85] mean 4.083333333333333\n",
      "F,B,A,D:C:E [0.05 4.   4.95] mean 3.227272727272727\n",
      "F,B:C,A,D:E [1.3 4.  5. ] mean 3.5925925925925926\n",
      "F,B:D,A,C,E: [ 3.   5.  10.5] mean 6.064516129032258\n",
      "F,C,A,B::E,D [4.15 7.5  8.85] mean 7.0\n",
      "F,C,B,A::D,E [0.   1.   2.85] mean 1.125\n",
      "F,C,D,A:B:E [0.25 4.   5.  ] mean 3.3461538461538463\n",
      "F,C,E:A:D,B [0.9 5.  7. ] mean 4.555555555555555\n",
      "F,C:A,D:E,B [1.   4.   5.85] mean 3.625\n",
      "F,D:B,C:E,A [0.   5.   7.05] mean 4.6\n",
      "F,E,A:B,C:D [2. 3. 4.] mean 2.8181818181818183\n",
      "F,E,C:B,A:D [0. 3. 5.] mean 3.2\n",
      "F,E:B,D,C,A: [2. 4. 5.] mean 3.740740740740741\n",
      "F:B,D,A,C,E: [0.45 3.   7.  ] mean 3.7083333333333335\n",
      "F:D,A,B,C:E [1.  2.  7.7] mean 2.814814814814815\n",
      "F:D,B,A,C:E [1. 5. 9.] mean 4.76\n"
     ]
    }
   ],
   "source": [
    "import json\n",
    "from ast import literal_eval\n",
    "bwd = pd.read_csv(f'../data/{version}/blockworld.csv')\n",
    "bwd = bwd.loc[bwd.points.notnull()]\n",
    "bwd['raw_points'] = bwd['points']/bwd['multiplier']\n",
    "bwd['states'] = bwd['states'].apply(literal_eval)\n",
    "bwd['initial_state'] = bwd.states.apply(lambda x: x[0])\n",
    "\n",
    "for prob, rows in bwd.groupby('initial_state'):\n",
    "    print(prob, rows.raw_points.quantile([0.05, 0.5, 0.95]).values, 'mean', rows.raw_points.mean())\n",
    "    "
   ]
  },
  {
   "cell_type": "code",
   "execution_count": 59,
   "metadata": {},
   "outputs": [
    {
     "name": "stderr",
     "output_type": "stream",
     "text": [
      "/Users/carlos/pu/multigoals/env/lib/python3.6/site-packages/pandas/core/generic.py:4405: SettingWithCopyWarning: \n",
      "A value is trying to be set on a copy of a slice from a DataFrame.\n",
      "Try using .loc[row_indexer,col_indexer] = value instead\n",
      "\n",
      "See the caveats in the documentation: http://pandas.pydata.org/pandas-docs/stable/indexing.html#indexing-view-versus-copy\n",
      "  self[name] = value\n"
     ]
    }
   ],
   "source": [
    "def parse_state(state):\n",
    "    return tuple((tuple(filter(None, col.split(','))) \n",
    "                  for col in state.split(':')))\n",
    "\n",
    "df.states = df.states.apply(lambda states: list(map(parse_state, states)))"
   ]
  },
  {
   "cell_type": "code",
   "execution_count": 60,
   "metadata": {
    "scrolled": false
   },
   "outputs": [
    {
     "name": "stderr",
     "output_type": "stream",
     "text": [
      "/Users/carlos/pu/multigoals/env/lib/python3.6/site-packages/ipykernel_launcher.py:1: SettingWithCopyWarning: \n",
      "A value is trying to be set on a copy of a slice from a DataFrame.\n",
      "Try using .loc[row_indexer,col_indexer] = value instead\n",
      "\n",
      "See the caveats in the documentation: http://pandas.pydata.org/pandas-docs/stable/indexing.html#indexing-view-versus-copy\n",
      "  \"\"\"Entry point for launching an IPython kernel.\n",
      "/Users/carlos/pu/multigoals/env/lib/python3.6/site-packages/ipykernel_launcher.py:2: SettingWithCopyWarning: \n",
      "A value is trying to be set on a copy of a slice from a DataFrame.\n",
      "Try using .loc[row_indexer,col_indexer] = value instead\n",
      "\n",
      "See the caveats in the documentation: http://pandas.pydata.org/pandas-docs/stable/indexing.html#indexing-view-versus-copy\n",
      "  \n",
      "/Users/carlos/pu/multigoals/env/lib/python3.6/site-packages/ipykernel_launcher.py:3: SettingWithCopyWarning: \n",
      "A value is trying to be set on a copy of a slice from a DataFrame.\n",
      "Try using .loc[row_indexer,col_indexer] = value instead\n",
      "\n",
      "See the caveats in the documentation: http://pandas.pydata.org/pandas-docs/stable/indexing.html#indexing-view-versus-copy\n",
      "  This is separate from the ipykernel package so we can avoid doing imports until\n"
     ]
    },
    {
     "name": "stdout",
     "output_type": "stream",
     "text": [
      "# unique states 32\n",
      "# unique pid 47\n",
      "# rows 1504 exp # rows 1504\n"
     ]
    },
    {
     "name": "stderr",
     "output_type": "stream",
     "text": [
      "/Users/carlos/pu/multigoals/env/lib/python3.6/site-packages/ipykernel_launcher.py:15: SettingWithCopyWarning: \n",
      "A value is trying to be set on a copy of a slice from a DataFrame.\n",
      "Try using .loc[row_indexer,col_indexer] = value instead\n",
      "\n",
      "See the caveats in the documentation: http://pandas.pydata.org/pandas-docs/stable/indexing.html#indexing-view-versus-copy\n",
      "  from ipykernel import kernelapp as app\n",
      "/Users/carlos/pu/multigoals/env/lib/python3.6/site-packages/ipykernel_launcher.py:17: SettingWithCopyWarning: \n",
      "A value is trying to be set on a copy of a slice from a DataFrame.\n",
      "Try using .loc[row_indexer,col_indexer] = value instead\n",
      "\n",
      "See the caveats in the documentation: http://pandas.pydata.org/pandas-docs/stable/indexing.html#indexing-view-versus-copy\n"
     ]
    },
    {
     "name": "stdout",
     "output_type": "stream",
     "text": [
      "# duplicate states 0\n",
      "before removing duplicates (1504, 16)\n",
      "after removing duplicates (1504, 16)\n",
      "trial_repeat.value_counts() True     752\n",
      "False    752\n",
      "Name: trial_repeat, dtype: int64\n"
     ]
    },
    {
     "name": "stderr",
     "output_type": "stream",
     "text": [
      "/Users/carlos/pu/multigoals/env/lib/python3.6/site-packages/ipykernel_launcher.py:20: SettingWithCopyWarning: \n",
      "A value is trying to be set on a copy of a slice from a DataFrame.\n",
      "Try using .loc[row_indexer,col_indexer] = value instead\n",
      "\n",
      "See the caveats in the documentation: http://pandas.pydata.org/pandas-docs/stable/indexing.html#indexing-view-versus-copy\n"
     ]
    },
    {
     "data": {
      "text/html": [
       "<div>\n",
       "<style scoped>\n",
       "    .dataframe tbody tr th:only-of-type {\n",
       "        vertical-align: middle;\n",
       "    }\n",
       "\n",
       "    .dataframe tbody tr th {\n",
       "        vertical-align: top;\n",
       "    }\n",
       "\n",
       "    .dataframe thead th {\n",
       "        text-align: right;\n",
       "    }\n",
       "</style>\n",
       "<table border=\"1\" class=\"dataframe\">\n",
       "  <thead>\n",
       "    <tr style=\"text-align: right;\">\n",
       "      <th></th>\n",
       "      <th>high_stakes</th>\n",
       "      <th>initial_points</th>\n",
       "      <th>multiplier</th>\n",
       "      <th>no_bonus</th>\n",
       "      <th>points</th>\n",
       "      <th>states</th>\n",
       "      <th>time_elapsed</th>\n",
       "      <th>times</th>\n",
       "      <th>trial_type</th>\n",
       "      <th>pid</th>\n",
       "      <th>num_actions</th>\n",
       "      <th>initial_state</th>\n",
       "      <th>num_blocks</th>\n",
       "      <th>trial_idx</th>\n",
       "      <th>trial_repeat</th>\n",
       "      <th>true_orig</th>\n",
       "    </tr>\n",
       "  </thead>\n",
       "  <tbody>\n",
       "    <tr>\n",
       "      <th>17</th>\n",
       "      <td>False</td>\n",
       "      <td>0.0</td>\n",
       "      <td>0.0</td>\n",
       "      <td>True</td>\n",
       "      <td>0.0</td>\n",
       "      <td>[((E,), (C, A, D), (F, B)), ((E, D), (C, A), (...</td>\n",
       "      <td>493148</td>\n",
       "      <td>[1815, 2555, 3472, 4356, 5468, 6552, 7351, 828...</td>\n",
       "      <td>blockworld</td>\n",
       "      <td>17</td>\n",
       "      <td>16</td>\n",
       "      <td>((E,), (C, A, D), (F, B))</td>\n",
       "      <td>6</td>\n",
       "      <td>14</td>\n",
       "      <td>False</td>\n",
       "      <td>(('E',), ('C', 'A', 'D'), ('F', 'B'))</td>\n",
       "    </tr>\n",
       "    <tr>\n",
       "      <th>18</th>\n",
       "      <td>False</td>\n",
       "      <td>0.0</td>\n",
       "      <td>0.0</td>\n",
       "      <td>True</td>\n",
       "      <td>0.0</td>\n",
       "      <td>[((E, B), (A, D), (F, C)), ((E, B, D), (A,), (...</td>\n",
       "      <td>510351</td>\n",
       "      <td>[1937, 2749, 4270, 5221, 6122, 6895, 7686, 870...</td>\n",
       "      <td>blockworld</td>\n",
       "      <td>17</td>\n",
       "      <td>14</td>\n",
       "      <td>((E, B), (A, D), (F, C))</td>\n",
       "      <td>6</td>\n",
       "      <td>15</td>\n",
       "      <td>False</td>\n",
       "      <td>(('E', 'B'), ('A', 'D'), ('F', 'C'))</td>\n",
       "    </tr>\n",
       "    <tr>\n",
       "      <th>19</th>\n",
       "      <td>False</td>\n",
       "      <td>0.0</td>\n",
       "      <td>0.0</td>\n",
       "      <td>True</td>\n",
       "      <td>0.0</td>\n",
       "      <td>[((D, E), (), (F, C, B, A)), ((D, E, A), (), (...</td>\n",
       "      <td>529218</td>\n",
       "      <td>[3196, 4035, 5228, 6354, 7223, 7980, 8825, 983...</td>\n",
       "      <td>blockworld</td>\n",
       "      <td>17</td>\n",
       "      <td>14</td>\n",
       "      <td>((D, E), (), (F, C, B, A))</td>\n",
       "      <td>6</td>\n",
       "      <td>16</td>\n",
       "      <td>True</td>\n",
       "      <td>(('F', 'C', 'B', 'A'), (), ('D', 'E'))</td>\n",
       "    </tr>\n",
       "    <tr>\n",
       "      <th>20</th>\n",
       "      <td>False</td>\n",
       "      <td>20.0</td>\n",
       "      <td>1.0</td>\n",
       "      <td>False</td>\n",
       "      <td>4.0</td>\n",
       "      <td>[((F, B, A, D), (C,), (E,)), ((F, B, A, D), ()...</td>\n",
       "      <td>550656</td>\n",
       "      <td>[3768, 4612, 5643, 6661, 7455, 9575, 10187, 10...</td>\n",
       "      <td>blockworld</td>\n",
       "      <td>17</td>\n",
       "      <td>16</td>\n",
       "      <td>((F, B, A, D), (C,), (E,))</td>\n",
       "      <td>6</td>\n",
       "      <td>17</td>\n",
       "      <td>True</td>\n",
       "      <td>(('E',), ('C',), ('F', 'B', 'A', 'D'))</td>\n",
       "    </tr>\n",
       "  </tbody>\n",
       "</table>\n",
       "</div>"
      ],
      "text/plain": [
       "    high_stakes  initial_points  multiplier  no_bonus  points  \\\n",
       "17        False             0.0         0.0      True     0.0   \n",
       "18        False             0.0         0.0      True     0.0   \n",
       "19        False             0.0         0.0      True     0.0   \n",
       "20        False            20.0         1.0     False     4.0   \n",
       "\n",
       "                                               states  time_elapsed  \\\n",
       "17  [((E,), (C, A, D), (F, B)), ((E, D), (C, A), (...        493148   \n",
       "18  [((E, B), (A, D), (F, C)), ((E, B, D), (A,), (...        510351   \n",
       "19  [((D, E), (), (F, C, B, A)), ((D, E, A), (), (...        529218   \n",
       "20  [((F, B, A, D), (C,), (E,)), ((F, B, A, D), ()...        550656   \n",
       "\n",
       "                                                times  trial_type  pid  \\\n",
       "17  [1815, 2555, 3472, 4356, 5468, 6552, 7351, 828...  blockworld   17   \n",
       "18  [1937, 2749, 4270, 5221, 6122, 6895, 7686, 870...  blockworld   17   \n",
       "19  [3196, 4035, 5228, 6354, 7223, 7980, 8825, 983...  blockworld   17   \n",
       "20  [3768, 4612, 5643, 6661, 7455, 9575, 10187, 10...  blockworld   17   \n",
       "\n",
       "    num_actions               initial_state  num_blocks  trial_idx  \\\n",
       "17           16   ((E,), (C, A, D), (F, B))           6         14   \n",
       "18           14    ((E, B), (A, D), (F, C))           6         15   \n",
       "19           14  ((D, E), (), (F, C, B, A))           6         16   \n",
       "20           16  ((F, B, A, D), (C,), (E,))           6         17   \n",
       "\n",
       "    trial_repeat                               true_orig  \n",
       "17         False   (('E',), ('C', 'A', 'D'), ('F', 'B'))  \n",
       "18         False    (('E', 'B'), ('A', 'D'), ('F', 'C'))  \n",
       "19          True  (('F', 'C', 'B', 'A'), (), ('D', 'E'))  \n",
       "20          True  (('E',), ('C',), ('F', 'B', 'A', 'D'))  "
      ]
     },
     "execution_count": 60,
     "metadata": {},
     "output_type": "execute_result"
    }
   ],
   "source": [
    "df['num_actions'] = df['states'].apply(lambda s: len(s) - 1)\n",
    "df['initial_state'] = df['states'].apply(lambda s: s[0])\n",
    "df['num_blocks'] = df['initial_state'].apply(lambda initial: blockworld.Blockworld.count_blocks(initial))\n",
    "\n",
    "df_to_analyze = df.query('num_blocks == 6')\n",
    "\n",
    "print('# unique states', len(df_to_analyze.initial_state.unique()))\n",
    "print('# unique pid', len(df_to_analyze.pid.unique()))\n",
    "print('# rows', df_to_analyze.shape[0], 'exp # rows', len(df_to_analyze.initial_state.unique()) * len(df_to_analyze.pid.unique()))\n",
    "\n",
    "num_trials = 32\n",
    "# HACK assuming that pids are in contiguous blocks\n",
    "df_to_analyze['trial_idx'] = np.tile(\n",
    "    np.arange(num_trials),\n",
    "    len(df_to_analyze.pid.unique()))\n",
    "\n",
    "df_to_analyze['trial_repeat'] = df_to_analyze['trial_idx'] >= num_trials/2\n",
    "\n",
    "df_to_analyze['true_orig'] = df_to_analyze.apply(\n",
    "    lambda row: str(row.initial_state[::-1] if row.trial_repeat else row.initial_state), axis=1)\n",
    "\n",
    "# Identify duplicate states & remove them.\n",
    "from collections import Counter\n",
    "duplicate_ct = Counter(df_to_analyze.head(num_trials).initial_state)\n",
    "duplicate_states = {s for s, ct in duplicate_ct.items() if ct > 1}\n",
    "print('# duplicate states', len(duplicate_states))\n",
    "print('before removing duplicates', df_to_analyze.shape)\n",
    "df_to_analyze = df_to_analyze.loc[~df_to_analyze.initial_state.isin(duplicate_states)]\n",
    "print('after removing duplicates', df_to_analyze.shape)\n",
    "\n",
    "print('trial_repeat.value_counts()', df_to_analyze['trial_repeat'].value_counts())\n",
    "df_to_analyze.iloc[14:18, :]"
   ]
  },
  {
   "cell_type": "code",
   "execution_count": 61,
   "metadata": {},
   "outputs": [
    {
     "name": "stdout",
     "output_type": "stream",
     "text": [
      "all probs 32\n",
      "unique probs 32\n"
     ]
    }
   ],
   "source": [
    "print('all probs', len(df_to_analyze.loc[df_to_analyze.pid==20]))\n",
    "print('unique probs', len(df_to_analyze.loc[df_to_analyze.pid==20].initial_state.unique()))"
   ]
  },
  {
   "cell_type": "code",
   "execution_count": 62,
   "metadata": {},
   "outputs": [
    {
     "name": "stderr",
     "output_type": "stream",
     "text": [
      "/Users/carlos/pu/multigoals/env/lib/python3.6/site-packages/scipy/stats/stats.py:1713: FutureWarning: Using a non-tuple sequence for multidimensional indexing is deprecated; use `arr[tuple(seq)]` instead of `arr[seq]`. In the future this will be interpreted as an array index, `arr[np.array(seq)]`, which will result either in an error or a different result.\n",
      "  return np.add.reduce(sorted[indexer] * weights, axis=axis) / sumval\n",
      "No handles with labels found to put in legend.\n"
     ]
    },
    {
     "data": {
      "image/png": "[encoded data removed]",
      "text/plain": [
       "<Figure size 432x288 with 1 Axes>"
      ]
     },
     "metadata": {
      "needs_background": "light"
     },
     "output_type": "display_data"
    },
    {
     "data": {
      "image/png": "[encoded data removed]",
      "text/plain": [
       "<Figure size 432x288 with 1 Axes>"
      ]
     },
     "metadata": {
      "needs_background": "light"
     },
     "output_type": "display_data"
    }
   ],
   "source": [
    "# Show that repeated exposure doesn't change # moves\n",
    "\n",
    "f, ax = plt.subplots()\n",
    "sns.pointplot(x=\"trial_repeat\", y=\"num_actions\", hue=\"true_orig\", data=df_to_analyze, dodge=True, ax=ax)\n",
    "ax.legend().remove()\n",
    "\n",
    "f, ax = plt.subplots()\n",
    "sns.pointplot(x=\"trial_repeat\", y=\"num_actions\", data=df_to_analyze, dodge=True, ax=ax)\n",
    "ax.legend().remove()"
   ]
  },
  {
   "cell_type": "code",
   "execution_count": 65,
   "metadata": {},
   "outputs": [
    {
     "data": {
      "text/plain": [
       "32.0"
      ]
     },
     "execution_count": 65,
     "metadata": {},
     "output_type": "execute_result"
    }
   ],
   "source": [
    "df_to_analyze.shape[0] / len(df_to_analyze.pid.unique())"
   ]
  },
  {
   "cell_type": "code",
   "execution_count": 66,
   "metadata": {},
   "outputs": [
    {
     "name": "stderr",
     "output_type": "stream",
     "text": [
      "/Users/carlos/pu/multigoals/env/lib/python3.6/site-packages/scipy/stats/stats.py:1713: FutureWarning: Using a non-tuple sequence for multidimensional indexing is deprecated; use `arr[tuple(seq)]` instead of `arr[seq]`. In the future this will be interpreted as an array index, `arr[np.array(seq)]`, which will result either in an error or a different result.\n",
      "  return np.add.reduce(sorted[indexer] * weights, axis=axis) / sumval\n",
      "No handles with labels found to put in legend.\n",
      "No handles with labels found to put in legend.\n",
      "No handles with labels found to put in legend.\n"
     ]
    },
    {
     "data": {
      "image/png": "[encoded data removed]",
      "text/plain": [
       "<Figure size 432x288 with 1 Axes>"
      ]
     },
     "metadata": {},
     "output_type": "display_data"
    },
    {
     "data": {
      "image/png": "[encoded data removed]",
      "text/plain": [
       "<Figure size 432x288 with 1 Axes>"
      ]
     },
     "metadata": {},
     "output_type": "display_data"
    },
    {
     "data": {
      "image/png": "[encoded data removed]",
      "text/plain": [
       "<Figure size 432x288 with 1 Axes>"
      ]
     },
     "metadata": {},
     "output_type": "display_data"
    }
   ],
   "source": [
    "df1 = get_data('1.1', '../data')['blockworld']\n",
    "df1.states = df1.states.apply(lambda states: list(map(parse_state, states)))\n",
    "df1['num_actions'] = df1['states'].apply(lambda s: len(s) - 1)\n",
    "df1['num_blocks'] = df1['states'].apply(lambda s: blockworld.Blockworld.count_blocks(s[0]))\n",
    "for k in ['high_stakes', 'trial_repeat', 'no_bonus', 'bonus']:\n",
    "    df1[k] = ['1.1'] * df1.shape[0]\n",
    "df1 = df1.query('num_blocks==6')\n",
    "\n",
    "df_to_analyze['bonus'] = ~df_to_analyze['no_bonus']\n",
    "\n",
    "#df2 = get_data('1.2', '../data')['blockworld']\n",
    "#df2.states = df2.states.apply(lambda states: list(map(parse_state, states)))\n",
    "#df2['num_actions'] = df2['states'].apply(lambda s: len(s) - 1)\n",
    "#df2['high_stakes'] = ['1.2'] * df2.shape[0]\n",
    "\n",
    "hiidf = df_to_analyze\n",
    "#hiidf = pd.concat([df1, df_to_analyze])\n",
    "\n",
    "hiidf.to_csv('comparing-num-actions.csv', index=False)\n",
    "\n",
    "sns.set_style(\"whitegrid\")\n",
    "#f, ax = plt.subplots(figsize=(14, 10))\n",
    "#sns.pointplot(x=\"trial_repeat\", y=\"num_actions\", hue=\"pid\", data=hiidf, dodge=0.1, ax=ax)\n",
    "#ax.legend().remove()\n",
    "\n",
    "f, ax = plt.subplots()\n",
    "sns.pointplot(x=\"bonus\", y=\"num_actions\", data=hiidf, dodge=True, ax=ax)\n",
    "ax.legend().remove()\n",
    "\n",
    "f, ax = plt.subplots()\n",
    "sns.pointplot(x=\"high_stakes\", y=\"num_actions\", data=hiidf, dodge=True, ax=ax)\n",
    "ax.legend().remove()\n",
    "\n",
    "f, ax = plt.subplots()\n",
    "sns.pointplot(x=\"trial_repeat\", y=\"num_actions\", data=hiidf, dodge=True, ax=ax)\n",
    "ax.legend().remove()\n",
    "\n"
   ]
  },
  {
   "cell_type": "code",
   "execution_count": null,
   "metadata": {},
   "outputs": [],
   "source": []
  }
 ],
 "metadata": {
  "anaconda-cloud": {},
  "kernelspec": {
   "display_name": "Python 3",
   "language": "python",
   "name": "python3"
  },
  "language_info": {
   "codemirror_mode": {
    "name": "ipython",
    "version": 3
   },
   "file_extension": ".py",
   "mimetype": "text/x-python",
   "name": "python",
   "nbconvert_exporter": "python",
   "pygments_lexer": "ipython3",
   "version": "3.6.4"
  },
  "nav_menu": {},
  "toc": {
   "navigate_menu": true,
   "number_sections": true,
   "sideBar": true,
   "threshold": 6,
   "toc_cell": false,
   "toc_section_display": "block",
   "toc_window_display": false
  }
 },
 "nbformat": 4,
 "nbformat_minor": 1
}
