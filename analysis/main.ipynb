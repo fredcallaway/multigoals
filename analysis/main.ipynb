{
 "cells": [
  {
   "cell_type": "code",
   "execution_count": 1,
   "metadata": {},
   "outputs": [
    {
     "name": "stdout",
     "output_type": "stream",
     "text": [
      "The autoreload extension is already loaded. To reload it, use:\n",
      "  %reload_ext autoreload\n"
     ]
    }
   ],
   "source": [
    "%matplotlib inline\n",
    "%load_ext autoreload\n",
    "%autoreload 2\n",
    "\n",
    "import matplotlib.pyplot as plt\n",
    "import numpy as np\n",
    "import pandas as pd\n",
    "import seaborn as sns\n",
    "sns.set_context('notebook', font_scale=1.3)"
   ]
  },
  {
   "cell_type": "code",
   "execution_count": 6,
   "metadata": {},
   "outputs": [],
   "source": [
    "from utils import get_data\n",
    "version = '1.0'\n",
    "data = get_data(version, '../data')\n",
    "df = data['blockworld']"
   ]
  },
  {
   "cell_type": "code",
   "execution_count": 7,
   "metadata": {},
   "outputs": [],
   "source": [
    "def parse_state(state):\n",
    "    return tuple((tuple(filter(None, col.split(','))) \n",
    "                  for col in state.split(':')))\n",
    "\n",
    "df.states = df.states.apply(lambda states: list(map(parse_state, states)))"
   ]
  },
  {
   "cell_type": "code",
   "execution_count": 8,
   "metadata": {},
   "outputs": [
    {
     "data": {
      "text/html": [
       "<div>\n",
       "<style scoped>\n",
       "    .dataframe tbody tr th:only-of-type {\n",
       "        vertical-align: middle;\n",
       "    }\n",
       "\n",
       "    .dataframe tbody tr th {\n",
       "        vertical-align: top;\n",
       "    }\n",
       "\n",
       "    .dataframe thead th {\n",
       "        text-align: right;\n",
       "    }\n",
       "</style>\n",
       "<table border=\"1\" class=\"dataframe\">\n",
       "  <thead>\n",
       "    <tr style=\"text-align: right;\">\n",
       "      <th></th>\n",
       "      <th>states</th>\n",
       "      <th>time_elapsed</th>\n",
       "      <th>times</th>\n",
       "      <th>trial_type</th>\n",
       "      <th>pid</th>\n",
       "    </tr>\n",
       "  </thead>\n",
       "  <tbody>\n",
       "    <tr>\n",
       "      <th>0</th>\n",
       "      <td>[((), (C, B), (A,)), ((), (C, B, A), ())]</td>\n",
       "      <td>42447</td>\n",
       "      <td>[2641]</td>\n",
       "      <td>blockworld</td>\n",
       "      <td>1</td>\n",
       "    </tr>\n",
       "    <tr>\n",
       "      <th>1</th>\n",
       "      <td>[((), (B, D, A), (C,)), ((), (B, D, A, C), ())...</td>\n",
       "      <td>110394</td>\n",
       "      <td>[8282, 21972, 23209, 24745, 28025, 30305, 3158...</td>\n",
       "      <td>blockworld</td>\n",
       "      <td>1</td>\n",
       "    </tr>\n",
       "    <tr>\n",
       "      <th>2</th>\n",
       "      <td>[((C,), (A, E, B, D), ()), ((C,), (A, E, B), (...</td>\n",
       "      <td>142769</td>\n",
       "      <td>[7094, 9246, 12341, 16638, 17918, 19870, 21902...</td>\n",
       "      <td>blockworld</td>\n",
       "      <td>1</td>\n",
       "    </tr>\n",
       "    <tr>\n",
       "      <th>3</th>\n",
       "      <td>[((E,), (C, B, A), (D,)), ((E,), (C, B), (D, A...</td>\n",
       "      <td>170177</td>\n",
       "      <td>[7788, 8967, 9646, 11694, 13893, 14972, 16524,...</td>\n",
       "      <td>blockworld</td>\n",
       "      <td>1</td>\n",
       "    </tr>\n",
       "    <tr>\n",
       "      <th>4</th>\n",
       "      <td>[((E, B), (C, A, D), ()), ((E,), (C, A, D), (B...</td>\n",
       "      <td>215471</td>\n",
       "      <td>[8210, 9302, 11774, 13726, 17814, 22374, 24937...</td>\n",
       "      <td>blockworld</td>\n",
       "      <td>1</td>\n",
       "    </tr>\n",
       "  </tbody>\n",
       "</table>\n",
       "</div>"
      ],
      "text/plain": [
       "                                              states  time_elapsed  \\\n",
       "0          [((), (C, B), (A,)), ((), (C, B, A), ())]         42447   \n",
       "1  [((), (B, D, A), (C,)), ((), (B, D, A, C), ())...        110394   \n",
       "2  [((C,), (A, E, B, D), ()), ((C,), (A, E, B), (...        142769   \n",
       "3  [((E,), (C, B, A), (D,)), ((E,), (C, B), (D, A...        170177   \n",
       "4  [((E, B), (C, A, D), ()), ((E,), (C, A, D), (B...        215471   \n",
       "\n",
       "                                               times  trial_type  pid  \n",
       "0                                             [2641]  blockworld    1  \n",
       "1  [8282, 21972, 23209, 24745, 28025, 30305, 3158...  blockworld    1  \n",
       "2  [7094, 9246, 12341, 16638, 17918, 19870, 21902...  blockworld    1  \n",
       "3  [7788, 8967, 9646, 11694, 13893, 14972, 16524,...  blockworld    1  \n",
       "4  [8210, 9302, 11774, 13726, 17814, 22374, 24937...  blockworld    1  "
      ]
     },
     "execution_count": 8,
     "metadata": {},
     "output_type": "execute_result"
    }
   ],
   "source": [
    "df.head()"
   ]
  }
 ],
 "metadata": {
  "anaconda-cloud": {},
  "kernelspec": {
   "display_name": "Python 3",
   "language": "python",
   "name": "python3"
  },
  "language_info": {
   "codemirror_mode": {
    "name": "ipython",
    "version": 3
   },
   "file_extension": ".py",
   "mimetype": "text/x-python",
   "name": "python",
   "nbconvert_exporter": "python",
   "pygments_lexer": "ipython3",
   "version": "3.6.3"
  },
  "nav_menu": {},
  "toc": {
   "navigate_menu": true,
   "number_sections": true,
   "sideBar": true,
   "threshold": 6,
   "toc_cell": false,
   "toc_section_display": "block",
   "toc_window_display": false
  }
 },
 "nbformat": 4,
 "nbformat_minor": 1
}
