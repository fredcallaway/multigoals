{
 "cells": [
  {
   "cell_type": "code",
   "execution_count": 24,
   "metadata": {},
   "outputs": [
    {
     "name": "stdout",
     "output_type": "stream",
     "text": [
      "The autoreload extension is already loaded. To reload it, use:\n",
      "  %reload_ext autoreload\n"
     ]
    }
   ],
   "source": [
    "from __future__ import division\n",
    "\n",
    "%matplotlib inline\n",
    "%load_ext autoreload\n",
    "%autoreload 2\n",
    "\n",
    "import matplotlib.pyplot as plt\n",
    "from tqdm import tqdm_notebook as tqdm\n",
    "import numpy as np\n",
    "import pandas as pd\n",
    "import seaborn as sns\n",
    "sns.set_context('notebook', font_scale=1.3)"
   ]
  },
  {
   "cell_type": "code",
   "execution_count": 23,
   "metadata": {},
   "outputs": [],
   "source": [
    "import os, sys\n",
    "sys.path.append(os.path.dirname(os.getcwd()))\n",
    "import agent\n",
    "import blockworld\n",
    "import model"
   ]
  },
  {
   "cell_type": "code",
   "execution_count": 15,
   "metadata": {},
   "outputs": [],
   "source": [
    "from utils import get_data\n",
    "version = '1.1'\n",
    "data = get_data(version, '../data')\n",
    "df = data['blockworld']\n",
    "\n",
    "def parse_state(state):\n",
    "    return tuple((tuple(filter(None, col.split(','))) \n",
    "                  for col in state.split(':')))\n",
    "\n",
    "df.states = df.states.apply(lambda states: list(map(parse_state, states)))"
   ]
  },
  {
   "cell_type": "code",
   "execution_count": 29,
   "metadata": {},
   "outputs": [],
   "source": [
    "df['initial_state'] = df.states.apply(lambda states: states[0])\n",
    "df['num_actions'] = df['states'].apply(lambda states: len(states) - 1)\n",
    "df['num_blocks'] = df['initial_state'].apply(blockworld.Blockworld.count_blocks)"
   ]
  },
  {
   "cell_type": "code",
   "execution_count": 54,
   "metadata": {},
   "outputs": [
    {
     "data": {
      "text/plain": [
       "Counter({3: 31, 10: 1, 12: 1, 4: 1, 5: 3, 31: 1, 7: 1, 17: 1, 19: 1, 6: 1})"
      ]
     },
     "execution_count": 54,
     "metadata": {},
     "output_type": "execute_result"
    },
    {
     "data": {
      "image/png": "[encoded data removed]",
      "text/plain": [
       "<Figure size 432x288 with 1 Axes>"
      ]
     },
     "metadata": {
      "needs_background": "light"
     },
     "output_type": "display_data"
    }
   ],
   "source": [
    "from collections import Counter\n",
    "ct = [row.num_actions for _, row in df.loc[df.initial_state == (('A', 'C'), (), ('B',))].iterrows()]\n",
    "plt.hist(ct)\n",
    "Counter(ct)"
   ]
  },
  {
   "cell_type": "code",
   "execution_count": 55,
   "metadata": {},
   "outputs": [],
   "source": [
    "initial_to_limit = {}\n",
    "for initial, rows in df.groupby('initial_state'):\n",
    "    p95 = rows.num_actions.quantile(0.95)\n",
    "    initial_to_limit[initial] = int(np.ceil(p95))"
   ]
  },
  {
   "cell_type": "code",
   "execution_count": 35,
   "metadata": {},
   "outputs": [
    {
     "data": {
      "image/png": "[encoded data removed]",
      "text/plain": [
       "<Figure size 432x288 with 1 Axes>"
      ]
     },
     "metadata": {
      "needs_background": "light"
     },
     "output_type": "display_data"
    }
   ],
   "source": [
    "# simulation ish?\n",
    "# for each subject, how many points would they get?\n",
    "final_points = []\n",
    "for pid, rows in df.loc[df.num_blocks==6].groupby('pid'):\n",
    "    points = 0\n",
    "    for _, row in rows.iterrows():\n",
    "        point_limit = initial_to_limit[row.initial_state]\n",
    "        points += max(0, point_limit - row.num_actions)\n",
    "    final_points.append(dict(pid=pid, points=points))\n",
    "\n",
    "final_points = pd.DataFrame(final_points)\n",
    "\n",
    "f, ax = plt.subplots()\n",
    "ax.hist(final_points.points)\n",
    "ax.set_xlabel('Points after all 6-block trials')\n",
    "\n",
    "None"
   ]
  },
  {
   "cell_type": "code",
   "execution_count": 74,
   "metadata": {},
   "outputs": [
    {
     "name": "stdout",
     "output_type": "stream",
     "text": [
      "Expected final points. 230.53658536585365\n"
     ]
    }
   ],
   "source": [
    "print('Expected final points.', final_points.points.mean() * 4)"
   ]
  },
  {
   "cell_type": "code",
   "execution_count": 66,
   "metadata": {},
   "outputs": [
    {
     "data": {
      "text/plain": [
       "{'initial_points': 6,\n",
       " 'initial': [['A', 'C'], [], ['B']],\n",
       " 'goal': ((), ('C', 'B', 'A'), ())}"
      ]
     },
     "execution_count": 66,
     "metadata": {},
     "output_type": "execute_result"
    }
   ],
   "source": [
    "# Adding things to make new trials.json\n",
    "import json\n",
    "with open('../../cocosci-blockworld/static/json/trials.json', 'rb') as f:\n",
    "    trials = json.load(f)\n",
    "\n",
    "def make_json_entry(state, points):\n",
    "    letters = sorted([l for col in state for l in col], reverse=True)\n",
    "    return dict(\n",
    "        initial_points=points,\n",
    "        initial=state,\n",
    "        goal=((), tuple(letters), ()),\n",
    "    )\n",
    "\n",
    "make_json_entry(trials['B=3'][0]['initial'], 6)"
   ]
  },
  {
   "cell_type": "code",
   "execution_count": 79,
   "metadata": {},
   "outputs": [
    {
     "name": "stdout",
     "output_type": "stream",
     "text": [
      "Max Limit 24 Limits dict_values([14, 15, 24, 14, 17, 18, 15, 13, 13, 20, 20, 20, 22, 20, 20, 22, 21, 24, 16, 19, 20, 22, 17, 17, 18])\n",
      "No limit found for (('F', 'B'), ('D', 'A', 'C', 'E'), ()). Using max.\n",
      "No limit found for (('E', 'D'), (), ('F', 'C', 'A', 'B')). Using max.\n"
     ]
    }
   ],
   "source": [
    "sixblock_probs = [\n",
    "    (('F',), ('B', 'D', 'A', 'C', 'E'), ()),\n",
    "    (('E',), ('D', 'B', 'A', 'C'), ('F',)),\n",
    "    (('F',), ('D', 'A', 'B', 'C'), ('E',)),\n",
    "    (('F', 'E'), ('B', 'D', 'C', 'A'), ()),\n",
    "    (('F', 'B'), ('D', 'A', 'C', 'E'), ()),\n",
    "    (('E', 'B'), ('A', 'D'), ('F', 'C')),\n",
    "    (('E',), ('C', 'A', 'D'), ('F', 'B')),\n",
    "    (('E',), ('C',), ('F', 'B', 'A', 'D')),\n",
    "    (('E', 'D'), (), ('F', 'C', 'A', 'B')),\n",
    "    (('F', 'E', 'A'), ('B', 'C'), ('D',)),\n",
    "    (('F', 'E', 'C'), ('B', 'A'), ('D',)),\n",
    "    (('E',), ('B',), ('F', 'C', 'D', 'A')),\n",
    "    (('F', 'C', 'E'), ('A',), ('D', 'B')),\n",
    "    ((), ('A', 'C', 'E', 'F'), ('D', 'B')),\n",
    "    (('F', 'C', 'B', 'A'), (), ('D', 'E')),\n",
    "    (('F', 'D'), ('B', 'C'), ('E', 'A')),\n",
    "]\n",
    "sixblock_probs = [dict(initial=s) for s in sixblock_probs]\n",
    "max_limit = max(initial_to_limit.values())\n",
    "print('Max Limit', max_limit, 'Limits', initial_to_limit.values())\n",
    "\n",
    "def handle_old_entry(entry):\n",
    "    tuple_initial = tuple(tuple(col) for col in entry['initial'])\n",
    "    if tuple_initial in initial_to_limit:\n",
    "        lim = initial_to_limit[tuple_initial]\n",
    "    else:\n",
    "        print(f'No limit found for {tuple_initial}. Using max.')\n",
    "        lim = max_limit\n",
    "    return make_json_entry(entry['initial'], lim)\n",
    "\n",
    "out = {\n",
    "    # Point count based on optimal * 2\n",
    "    'B=3': [make_json_entry((('A', 'C'), (), ('B',)), 6)],\n",
    "    # Point counts based on number of moves it took cgc * 2\n",
    "    # HACK although based on user performance we decreased points from 18 to 13\n",
    "    'B=4': [make_json_entry(((), ('A', 'B', 'D'), ('C',)), 13)],\n",
    "    'B=5': [make_json_entry((('E', 'C'), ('B', 'A'), ('D',)), 22)],\n",
    "    # Point counts based on p95 it took subjects\n",
    "    'B=6': [\n",
    "        handle_old_entry(entry)\n",
    "        for entry in sixblock_probs\n",
    "    ]\n",
    "}\n",
    "\n",
    "with open('new-trials.json', 'w') as f:\n",
    "    json.dump(out, f)"
   ]
  },
  {
   "cell_type": "code",
   "execution_count": 83,
   "metadata": {},
   "outputs": [
    {
     "name": "stdout",
     "output_type": "stream",
     "text": [
      "B=3 num items 1\n",
      "B=4 num items 1\n",
      "B=5 num items 1\n",
      "B=6 num items 16\n"
     ]
    }
   ],
   "source": [
    "for k, items in out.items():\n",
    "    print(k, 'num items', len(items))\n",
    "\n",
    "\n",
    "states = [e['initial'] for e in out['B=6']]\n",
    "for s in states:\n",
    "    if s[::-1] in states:\n",
    "        print('BAD! found duplicate entry...')"
   ]
  },
  {
   "cell_type": "code",
   "execution_count": null,
   "metadata": {},
   "outputs": [],
   "source": []
  }
 ],
 "metadata": {
  "anaconda-cloud": {},
  "kernelspec": {
   "display_name": "Python 3",
   "language": "python",
   "name": "python3"
  },
  "language_info": {
   "codemirror_mode": {
    "name": "ipython",
    "version": 3
   },
   "file_extension": ".py",
   "mimetype": "text/x-python",
   "name": "python",
   "nbconvert_exporter": "python",
   "pygments_lexer": "ipython3",
   "version": "3.6.4"
  },
  "nav_menu": {},
  "toc": {
   "navigate_menu": true,
   "number_sections": true,
   "sideBar": true,
   "threshold": 6,
   "toc_cell": false,
   "toc_section_display": "block",
   "toc_window_display": false
  }
 },
 "nbformat": 4,
 "nbformat_minor": 1
}
