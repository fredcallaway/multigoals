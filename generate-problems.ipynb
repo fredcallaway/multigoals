{
 "cells": [
  {
   "cell_type": "code",
   "execution_count": 132,
   "metadata": {},
   "outputs": [],
   "source": [
    "import numpy as np\n",
    "import matplotlib.pyplot as plt\n",
    "\n",
    "import importlib\n",
    "import agent;importlib.reload(agent)\n",
    "import blockworld;importlib.reload(blockworld)\n",
    "\n",
    "from blockworld import Blockworld\n",
    "from simple_spatial import SimpleSpatial\n",
    "from agent import solve_using_ordered_goal_subset, bfs_search, solve_using_ordered_goal_subset_perf1\n",
    "\n",
    "from collections import namedtuple\n",
    "\n",
    "from tqdm import tqdm_notebook as tqdm\n",
    "\n",
    "import random"
   ]
  },
  {
   "cell_type": "code",
   "execution_count": 2,
   "metadata": {},
   "outputs": [
    {
     "name": "stdout",
     "output_type": "stream",
     "text": [
      "['A', 'B', 'C']\n"
     ]
    }
   ],
   "source": [
    "def make_letters(start, number):\n",
    "    '''Returns list of `number` letters, starting from `start`. Letters are generated in ASCII sequence.'''\n",
    "    return [chr(ord(start) + i) for i in range(number)]\n",
    "\n",
    "abc = make_letters('A', 3)\n",
    "print(abc)\n",
    "assert abc == ['A', 'B', 'C']\n",
    "_def = make_letters('D', 3)\n",
    "assert _def == ['D', 'E', 'F']"
   ]
  },
  {
   "cell_type": "code",
   "execution_count": 139,
   "metadata": {
    "scrolled": false
   },
   "outputs": [
    {
     "name": "stdout",
     "output_type": "stream",
     "text": [
      "Sample initial state (('A', 'B'), ('C',), ('F', 'E', 'D'))\n",
      "Goal 0: E on top of F\n",
      "Goal 1: D on top of E\n",
      "Goal 2: C on top of D\n",
      "Goal 3: B on top of C\n",
      "Goal 4: A on top of B\n"
     ]
    }
   ],
   "source": [
    "def generate_blockworld_problems(\n",
    "    B=5,\n",
    "    S=3,\n",
    "    n_probs=100,\n",
    "    seed=None,\n",
    "):\n",
    "    '''\n",
    "    Generate blockworld problems.\n",
    "\n",
    "    Each problem has the same number of letters B and spaces S.\n",
    "    To generate, we randomly select a letter (without replacement)\n",
    "    and place it at a random space.\n",
    "    '''\n",
    "    np.random.seed(seed)\n",
    "    problems = []\n",
    "    letters = make_letters('A', B)\n",
    "    spaces = range(S)\n",
    "\n",
    "    for _ in range(n_probs):\n",
    "        # You have B letters and S spaces. Until all have been placed,\n",
    "        # choose random letter without replacement to put at random space.\n",
    "        initial = [() for _ in spaces]\n",
    "        for letter in np.random.permutation(letters):\n",
    "            space = np.random.choice(spaces)\n",
    "            initial[space] += (letter,)\n",
    "\n",
    "        initial = tuple(initial)\n",
    "\n",
    "        problems.append(initial)\n",
    "\n",
    "    return problems, letters\n",
    "\n",
    "generated, letters = generate_blockworld_problems(seed=42, B=6)\n",
    "print('Sample initial state', generated[0])\n",
    "\n",
    "def _generate_standard_goals_for_blocks(initial, debug=True):\n",
    "    letters = sorted([l for ls in initial for l in ls])\n",
    "    goals = []\n",
    "    for top, bottom in reversed(list(zip(letters[:-1], letters[1:]))):\n",
    "        if debug:\n",
    "            print('Goal {}: {} on top of {}'.format(len(goals), top, bottom))\n",
    "        goals.append(Blockworld.make_above_predicate(top, bottom))\n",
    "    goals_with_clearing = [Blockworld.make_is_bottom_of_column_predicate(letters[-1])]+goals\n",
    "    return goals_with_clearing\n",
    "\n",
    "goals_with_clearing = _generate_standard_goals_for_blocks(generated[0])"
   ]
  },
  {
   "cell_type": "code",
   "execution_count": 4,
   "metadata": {},
   "outputs": [
    {
     "name": "stdout",
     "output_type": "stream",
     "text": [
      "\n",
      "New problem: (('A', 'B'), ('C',), ('F', 'E', 'D'))\n",
      "...\n",
      "...\n",
      "...\n",
      "..D\n",
      "B.E\n",
      "ACF\n",
      "\n",
      "optimal 3\n",
      "considering k=1 All solved; # moves in 3 trials [3, 3, 3]\n",
      "considering k=2 All solved; # moves in 3 trials [3, 3, 3]\n",
      "considering k=3 All solved; # moves in 3 trials [3, 3, 3]\n",
      "considering k=4 All solved; # moves in 3 trials [3, 3, 3]\n",
      "considering k=5 All solved; # moves in 3 trials [3, 3, 3]\n",
      "considering k=6 All solved; # moves in 3 trials [3, 3, 3]\n",
      "\n",
      "New problem: (('A',), ('B', 'D', 'F', 'C'), ('E',))\n",
      "...\n",
      "...\n",
      ".C.\n",
      ".F.\n",
      ".D.\n",
      "ABE\n",
      "\n",
      "optimal 8\n",
      "considering k=1 All solved; # moves in 3 trials [8, 12, 14]\n",
      "considering k=2 All solved; # moves in 3 trials [8, 8, 8]\n",
      "considering k=3 All solved; # moves in 3 trials [8, 8, 8]\n",
      "considering k=4 All solved; # moves in 3 trials [8, 8, 8]\n",
      "considering k=5 All solved; # moves in 3 trials [8, 8, 8]\n",
      "considering k=6 All solved; # moves in 3 trials [8, 8, 8]\n",
      "\n",
      "New problem: (('E', 'A', 'D'), ('C', 'F'), ('B',))\n",
      "...\n",
      "...\n",
      "...\n",
      "D..\n",
      "AF.\n",
      "ECB\n",
      "\n",
      "optimal 11\n",
      "considering k=1 All solved; # moves in 3 trials [12, 12, 12]\n",
      "considering k=2 All solved; # moves in 3 trials [12, 12, 12]\n",
      "considering k=3 All solved; # moves in 3 trials [12, 11, 11]\n",
      "considering k=4 All solved; # moves in 3 trials [11, 11, 11]\n",
      "considering k=5 All solved; # moves in 3 trials [11, 11, 11]\n",
      "considering k=6 All solved; # moves in 3 trials [11, 11, 11]\n",
      "\n",
      "New problem: (('C',), ('A', 'F'), ('E', 'D', 'B'))\n",
      "...\n",
      "...\n",
      "...\n",
      "..B\n",
      ".FD\n",
      "CAE\n",
      "\n",
      "optimal 10\n",
      "considering k=1 All solved; # moves in 3 trials [11, 11, 11]\n",
      "considering k=2 All solved; # moves in 3 trials [10, 10, 10]\n",
      "considering k=3 All solved; # moves in 3 trials [10, 10, 10]\n",
      "considering k=4 All solved; # moves in 3 trials [10, 10, 10]\n",
      "considering k=5 All solved; # moves in 3 trials [10, 10, 10]\n",
      "considering k=6 All solved; # moves in 3 trials [10, 10, 10]\n",
      "\n",
      "New problem: (('B', 'F'), ('D', 'E', 'C'), ('A',))\n",
      "...\n",
      "...\n",
      "...\n",
      ".C.\n",
      "FE.\n",
      "BDA\n",
      "\n",
      "optimal 9\n",
      "considering k=1 All solved; # moves in 3 trials [10, 10, 10]\n",
      "considering k=2 All solved; # moves in 3 trials [10, 10, 10]\n",
      "considering k=3 All solved; # moves in 3 trials [9, 9, 9]\n",
      "considering k=4 All solved; # moves in 3 trials [9, 9, 10]\n",
      "considering k=5 All solved; # moves in 3 trials [9, 9, 9]\n",
      "considering k=6 All solved; # moves in 3 trials [9, 9, 9]\n"
     ]
    }
   ],
   "source": [
    "for initial in generated[:5]:\n",
    "    problem = Blockworld(initial, goals_with_clearing)\n",
    "    print('\\nNew problem:', initial)\n",
    "    print(problem.render(initial))\n",
    "    print('optimal', len(bfs_search(problem)))\n",
    "    for k in range(1, len(problem.goals)+1):\n",
    "        print('considering k={}'.format(k), end='')\n",
    "        results = [\n",
    "            # returns history, solved\n",
    "            solve_using_ordered_goal_subset(problem, k=k)\n",
    "            for _ in range(3)\n",
    "        ]\n",
    "        if all(solved for history, solved in results):\n",
    "            msg = 'All solved'\n",
    "        elif any(solved for history, solved in results):\n",
    "            msg = 'Some solved'\n",
    "        else:\n",
    "            msg = 'Could not be solved'\n",
    "        print(' {}; # moves in {} trials'.format(msg, len(results)), [len(h) - 1 for h, _ in results])"
   ]
  },
  {
   "cell_type": "code",
   "execution_count": 122,
   "metadata": {
    "scrolled": false
   },
   "outputs": [
    {
     "name": "stdout",
     "output_type": "stream",
     "text": [
      "Testing things out for args {'B': 6, 'S': 3, 'seed': 43}\n",
      "Goal 0: E on top of F\n",
      "Goal 1: D on top of E\n",
      "Goal 2: C on top of D\n",
      "Goal 3: B on top of C\n",
      "Goal 4: A on top of B\n",
      "Sample initial state (('C',), ('B',), ('F', 'D', 'A', 'E'))\n",
      "Testing things out for args {'B': 7, 'S': 3, 'seed': 43}\n",
      "Goal 0: F on top of G\n",
      "Goal 1: E on top of F\n",
      "Goal 2: D on top of E\n",
      "Goal 3: C on top of D\n",
      "Goal 4: B on top of C\n",
      "Goal 5: A on top of B\n",
      "Sample initial state (('B',), ('D', 'E'), ('F', 'C', 'G', 'A'))\n",
      "Testing things out for args {'B': 7, 'S': 4, 'seed': 43}\n",
      "Goal 0: F on top of G\n",
      "Goal 1: E on top of F\n",
      "Goal 2: D on top of E\n",
      "Goal 3: C on top of D\n",
      "Goal 4: B on top of C\n",
      "Goal 5: A on top of B\n",
      "Sample initial state ((), ('F',), ('B', 'A', 'E'), ('D', 'C', 'G'))\n",
      "Testing things out for args {'B': 8, 'S': 3, 'seed': 43}\n",
      "Goal 0: G on top of H\n",
      "Goal 1: F on top of G\n",
      "Goal 2: E on top of F\n",
      "Goal 3: D on top of E\n",
      "Goal 4: C on top of D\n",
      "Goal 5: B on top of C\n",
      "Goal 6: A on top of B\n",
      "Sample initial state (('G',), ('B', 'A'), ('D', 'H', 'F', 'C', 'E'))\n",
      "Testing things out for args {'B': 8, 'S': 4, 'seed': 43}\n",
      "Goal 0: G on top of H\n",
      "Goal 1: F on top of G\n",
      "Goal 2: E on top of F\n",
      "Goal 3: D on top of E\n",
      "Goal 4: C on top of D\n",
      "Goal 5: B on top of C\n",
      "Goal 6: A on top of B\n",
      "Sample initial state (('B',), (), ('H', 'F', 'G'), ('D', 'C', 'A', 'E'))\n",
      "Testing things out for args {'B': 8, 'S': 5, 'seed': 43}\n",
      "Goal 0: G on top of H\n",
      "Goal 1: F on top of G\n",
      "Goal 2: E on top of F\n",
      "Goal 3: D on top of E\n",
      "Goal 4: C on top of D\n",
      "Goal 5: B on top of C\n",
      "Goal 6: A on top of B\n",
      "Sample initial state (('F',), ('E',), ('H', 'C'), ('D', 'G', 'B', 'A'), ())\n"
     ]
    },
    {
     "data": {
      "application/vnd.jupyter.widget-view+json": {
       "model_id": "be86582e6a7f4022ace2b8fbf8c4e016",
       "version_major": 2,
       "version_minor": 0
      },
      "text/plain": [
       "HBox(children=(IntProgress(value=0, max=180), HTML(value='')))"
      ]
     },
     "metadata": {},
     "output_type": "display_data"
    },
    {
     "name": "stdout",
     "output_type": "stream",
     "text": [
      ".....\n",
      ".....\n",
      ".....\n",
      ".....\n",
      "F....\n",
      "H....\n",
      "GE...\n",
      "DCA.B\n",
      "\n",
      "optimal 9\n",
      "considering k=1 All solved; # moves in 3 trials [9, 9, 9]\n",
      "considering k=2 All solved; # moves in 3 trials [9, 9, 9]\n",
      "considering k=3 All solved; # moves in 3 trials [9, 9, 9]\n",
      "considering k=4 All solved; # moves in 3 trials [9, 9, 9]\n",
      "considering k=5 All solved; # moves in 3 trials [9, 9, 9]\n",
      "considering k=6 All solved; # moves in 3 trials [9, 9, 9]\n",
      "considering k=7 All solved; # moves in 3 trials [9, 9, 9]\n",
      "considering k=8 All solved; # moves in 3 trials [9, 9, 9]\n",
      "...\n",
      "...\n",
      "...\n",
      "...\n",
      "...\n",
      "C.H\n",
      "FEA\n",
      "GDB\n",
      "\n",
      "optimal 13\n",
      ".....\n",
      ".....\n",
      ".....\n",
      ".A...\n",
      ".H...\n",
      ".B...\n",
      "CF...\n",
      "GED..\n",
      "\n"
     ]
    },
    {
     "ename": "KeyboardInterrupt",
     "evalue": "",
     "output_type": "error",
     "traceback": [
      "\u001b[0;31m---------------------------------------------------------------------------\u001b[0m",
      "\u001b[0;31mKeyboardInterrupt\u001b[0m                         Traceback (most recent call last)",
      "\u001b[0;32m<ipython-input-122-f971c867b9dc>\u001b[0m in \u001b[0;36m<module>\u001b[0;34m()\u001b[0m\n\u001b[1;32m     42\u001b[0m     \u001b[0;32mif\u001b[0m \u001b[0mdebug\u001b[0m\u001b[0;34m:\u001b[0m\u001b[0;34m\u001b[0m\u001b[0m\n\u001b[1;32m     43\u001b[0m         \u001b[0mprint\u001b[0m\u001b[0;34m(\u001b[0m\u001b[0mproblem\u001b[0m\u001b[0;34m.\u001b[0m\u001b[0mrender\u001b[0m\u001b[0;34m(\u001b[0m\u001b[0minitial\u001b[0m\u001b[0;34m)\u001b[0m\u001b[0;34m)\u001b[0m\u001b[0;34m\u001b[0m\u001b[0m\n\u001b[0;32m---> 44\u001b[0;31m         \u001b[0mprint\u001b[0m\u001b[0;34m(\u001b[0m\u001b[0;34m'optimal'\u001b[0m\u001b[0;34m,\u001b[0m \u001b[0mlen\u001b[0m\u001b[0;34m(\u001b[0m\u001b[0mbfs_search\u001b[0m\u001b[0;34m(\u001b[0m\u001b[0mproblem\u001b[0m\u001b[0;34m)\u001b[0m\u001b[0;34m)\u001b[0m\u001b[0;34m)\u001b[0m\u001b[0;34m\u001b[0m\u001b[0m\n\u001b[0m\u001b[1;32m     45\u001b[0m     \u001b[0;32mfor\u001b[0m \u001b[0mk\u001b[0m \u001b[0;32min\u001b[0m \u001b[0mrange\u001b[0m\u001b[0;34m(\u001b[0m\u001b[0;36m1\u001b[0m\u001b[0;34m,\u001b[0m \u001b[0mlen\u001b[0m\u001b[0;34m(\u001b[0m\u001b[0mproblem\u001b[0m\u001b[0;34m.\u001b[0m\u001b[0mgoals\u001b[0m\u001b[0;34m)\u001b[0m\u001b[0;34m+\u001b[0m\u001b[0;36m1\u001b[0m\u001b[0;34m)\u001b[0m\u001b[0;34m:\u001b[0m\u001b[0;34m\u001b[0m\u001b[0m\n\u001b[1;32m     46\u001b[0m         \u001b[0;32mif\u001b[0m \u001b[0;34m(\u001b[0m\u001b[0minitial\u001b[0m\u001b[0;34m,\u001b[0m \u001b[0mk\u001b[0m\u001b[0;34m)\u001b[0m \u001b[0;32min\u001b[0m \u001b[0mproblem_record\u001b[0m\u001b[0;34m:\u001b[0m\u001b[0;34m\u001b[0m\u001b[0m\n",
      "\u001b[0;32m~/pu/multigoals/agent.py\u001b[0m in \u001b[0;36mbfs_search\u001b[0;34m(problem, goal_test, root, shuffle)\u001b[0m\n\u001b[1;32m     52\u001b[0m             \u001b[0mnext_state\u001b[0m \u001b[0;34m=\u001b[0m \u001b[0mproblem\u001b[0m\u001b[0;34m.\u001b[0m\u001b[0mresult\u001b[0m\u001b[0;34m(\u001b[0m\u001b[0ms\u001b[0m\u001b[0;34m,\u001b[0m \u001b[0ma\u001b[0m\u001b[0;34m)\u001b[0m\u001b[0;34m\u001b[0m\u001b[0m\n\u001b[1;32m     53\u001b[0m             \u001b[0;31m# HACK we would like to check to see if our state is in q, but we settle for checking against meta\u001b[0m\u001b[0;34m\u001b[0m\u001b[0;34m\u001b[0m\u001b[0m\n\u001b[0;32m---> 54\u001b[0;31m             \u001b[0;32mif\u001b[0m \u001b[0mnext_state\u001b[0m \u001b[0;32mnot\u001b[0m \u001b[0;32min\u001b[0m \u001b[0mmeta\u001b[0m \u001b[0;32mand\u001b[0m \u001b[0mnext_state\u001b[0m \u001b[0;32mnot\u001b[0m \u001b[0;32min\u001b[0m \u001b[0mseen\u001b[0m\u001b[0;34m:\u001b[0m\u001b[0;34m\u001b[0m\u001b[0m\n\u001b[0m\u001b[1;32m     55\u001b[0m                 \u001b[0mq\u001b[0m\u001b[0;34m.\u001b[0m\u001b[0mappend\u001b[0m\u001b[0;34m(\u001b[0m\u001b[0mnext_state\u001b[0m\u001b[0;34m)\u001b[0m\u001b[0;34m\u001b[0m\u001b[0m\n\u001b[1;32m     56\u001b[0m                 \u001b[0mmeta\u001b[0m\u001b[0;34m[\u001b[0m\u001b[0mnext_state\u001b[0m\u001b[0;34m]\u001b[0m \u001b[0;34m=\u001b[0m \u001b[0;34m(\u001b[0m\u001b[0ms\u001b[0m\u001b[0;34m,\u001b[0m \u001b[0ma\u001b[0m\u001b[0;34m)\u001b[0m  \u001b[0;31m# create metadata for these nodes\u001b[0m\u001b[0;34m\u001b[0m\u001b[0m\n",
      "\u001b[0;31mKeyboardInterrupt\u001b[0m: "
     ]
    }
   ],
   "source": [
    "# Let's generate/solve a bunch of problems.\n",
    "\n",
    "# This dict is indexed by (initial state, k) and stores a\n",
    "# list of # of moves it took to solve the problem (list b/c of stochasticity)\n",
    "# problem_record = {} # HACK we normally make sure this is commented out.\n",
    "\n",
    "all_probs = []\n",
    "\n",
    "for args in [\n",
    "    dict(B=6, S=3, seed=43),\n",
    "\n",
    "    dict(B=7, S=3, seed=43),\n",
    "    dict(B=7, S=4, seed=43),\n",
    "\n",
    "    dict(B=8, S=3, seed=43),\n",
    "    dict(B=8, S=4, seed=43),\n",
    "    dict(B=8, S=5, seed=43),\n",
    "\n",
    "    #dict(B=9, S=3, seed=43),\n",
    "    #dict(B=9, S=4, seed=43),\n",
    "    #dict(B=9, S=5, seed=43),\n",
    "]:\n",
    "    print(f'Testing things out for args {args}')\n",
    "\n",
    "    generated, letters = generate_blockworld_problems(n_probs=30, **args)\n",
    "    goals = []\n",
    "    for top, bottom in reversed(list(zip(letters[:-1], letters[1:]))):\n",
    "        print('Goal {}: {} on top of {}'.format(len(goals), top, bottom))\n",
    "        goals.append(Blockworld.make_above_predicate(top, bottom))\n",
    "    goals_with_clearing = [Blockworld.make_is_bottom_of_column_predicate(letters[-1])]+goals\n",
    "\n",
    "    for p in generated:\n",
    "        all_probs.append((p, goals_with_clearing))\n",
    "\n",
    "    print('Sample initial state', generated[0])\n",
    "\n",
    "random.shuffle(all_probs)\n",
    "\n",
    "debug = True\n",
    "for initial, goals_with_clearing in tqdm(all_probs):\n",
    "    problem = Blockworld(initial, goals_with_clearing)\n",
    "    if debug:\n",
    "        print(problem.render(initial))\n",
    "        print('optimal', len(bfs_search(problem)))\n",
    "    for k in range(1, len(problem.goals)+1):\n",
    "        if (initial, k) in problem_record:\n",
    "            # We already solved this! skip it\n",
    "            continue\n",
    "        if debug:\n",
    "            print('considering k={}'.format(k), end='')\n",
    "        results = [\n",
    "            # returns history, solved\n",
    "            solve_using_ordered_goal_subset_perf1(problem, k=k)\n",
    "            for _ in range(3)\n",
    "        ]\n",
    "        if debug:\n",
    "            if all(solved for history, solved in results):\n",
    "                msg = 'All solved'\n",
    "            elif any(solved for history, solved in results):\n",
    "                msg = 'Some solved'\n",
    "            else:\n",
    "                msg = 'Could not be solved'\n",
    "            print(' {}; # moves in {} trials'.format(msg, len(results)), [len(h) - 1 for h, _ in results])\n",
    "        problem_record[initial, k] = [len(h) - 1 for h, _ in results]\n",
    "\n",
    "print(len(problem_record))"
   ]
  },
  {
   "cell_type": "code",
   "execution_count": 159,
   "metadata": {
    "scrolled": false
   },
   "outputs": [
    {
     "name": "stdout",
     "output_type": "stream",
     "text": [
      "in total, have 140 problems\n",
      "(('F', 'G', 'H'), ('B', 'D'), ('A',), ('C', 'E'))\n"
     ]
    },
    {
     "data": {
      "text/plain": [
       "[<matplotlib.lines.Line2D at 0x12e0b5cc0>]"
      ]
     },
     "execution_count": 159,
     "metadata": {},
     "output_type": "execute_result"
    },
    {
     "data": {
      "image/png": "[encoded data removed]",
      "text/plain": [
       "<Figure size 432x288 with 1 Axes>"
      ]
     },
     "metadata": {
      "needs_background": "light"
     },
     "output_type": "display_data"
    }
   ],
   "source": [
    "# TODO need to look at problem_record\n",
    "problem_record_nested = {}\n",
    "for (problem, k), solves in problem_record.items():\n",
    "    problem_record_nested.setdefault(problem, {})[k] = solves\n",
    "\n",
    "# oo multi drops (('C', 'F', 'A'), ('E',), ('D', 'G'), ('H', 'B'))\n",
    "# snakey? (('D', 'G', 'E', 'C'), ('B', 'F'), ('H', 'A'))\n",
    "# interesting (and large) variance (('G', 'B', 'F', 'C'), ('A',), ('E', 'H', 'D'))\n",
    "print(f'in total, have {len(problem_record_nested)} problems')\n",
    "\n",
    "problem = random.choice(list(problem_record_nested.keys()))\n",
    "print(problem)\n",
    "problem = (('G', 'D', 'C'), ('F', 'B'), (), ('E', 'A'))\n",
    "\n",
    "\n",
    "problem_k_to_length = problem_record_nested[problem]\n",
    "ks = range(1, max(problem_k_to_length.keys())+1)\n",
    "plt.figure()\n",
    "plt.title('Problem {}'.format(initial))\n",
    "plt.xlabel('k - # of goals considered')\n",
    "plt.ylabel(f'Mean # of moves to solve out of {len(problem_k_to_length[1])} trials\\ndashed lines are min/max')\n",
    "\n",
    "color = 'b'\n",
    "plt.plot(ks, [np.mean(problem_k_to_length[k]) for k in ks], color+'-o')\n",
    "plt.plot(ks, [np.max(problem_k_to_length[k]) for k in ks], color+'--')\n",
    "plt.plot(ks, [np.min(problem_k_to_length[k]) for k in ks], color+'--')\n",
    "\n",
    "# Solve the problem too\n",
    "#problem = Blockworld(problem, _generate_standard_goals_for_blocks(problem))\n",
    "#history, solved = solve_using_ordered_goal_subset(problem, k=5, debug=True)"
   ]
  },
  {
   "cell_type": "code",
   "execution_count": 62,
   "metadata": {},
   "outputs": [
    {
     "name": "stdout",
     "output_type": "stream",
     "text": [
      "score 12.333333333333334\n",
      "score 12.0\n",
      "score 15.0\n",
      "score 6.0\n",
      "score -5.0\n"
     ]
    }
   ],
   "source": [
    "def score_k_differentiability(problem_k_to_length):\n",
    "    ks = range(1, max(problem_k_to_length.keys())+1)\n",
    "    num_moves = [problem_k_to_length[k] for k in ks]\n",
    "\n",
    "    # HACK might be better to get the actual range instead?\n",
    "    # This may not work for various reasons...\n",
    "    moves_range = num_moves[0]-num_moves[-1]\n",
    "\n",
    "    num_drops = sum(1 if num_moves[idx-1] > num_moves[idx] else 0 for idx in range(1, len(num_moves)))\n",
    "\n",
    "    # We want considering more goals to mean you will be more efficient\n",
    "    # We also think that it's best for this efficiency to be well-distributed\n",
    "    # across the different k, so upweight based on that.\n",
    "    return moves_range + 5 * (num_drops-1)\n",
    "\n",
    "probs = [\n",
    "    # interesting probs\n",
    "    (('C', 'F', 'A'), ('E',), ('D', 'G'), ('H', 'B')),\n",
    "    (('D', 'G', 'E', 'C'), ('B', 'F'), ('H', 'A')),\n",
    "    (('G', 'B', 'F', 'C'), ('A',), ('E', 'H', 'D')),\n",
    "    # not interesting\n",
    "    # 2 drops, but only 1 overall decrease\n",
    "    (('C', 'E'), ('B',), ('F', 'A', 'D')),\n",
    "    # flat line\n",
    "    (('G', 'E', 'D'), ('C',), ('A', 'F', 'B'))\n",
    "]\n",
    "\n",
    "for p in probs:\n",
    "    print('score', score_k_differentiability(problem_record_nested[p]))"
   ]
  },
  {
   "cell_type": "code",
   "execution_count": 80,
   "metadata": {},
   "outputs": [
    {
     "name": "stdout",
     "output_type": "stream",
     "text": [
      "24.0 (('G', 'F', 'D'), ('E', 'H', 'B', 'A', 'C'), ())\n",
      "19.0 (('A', 'H', 'G', 'E'), ('C', 'F'), ('D', 'B'))\n",
      "19.0 (('D', 'C'), ('F', 'G', 'B'), ('E', 'H'), ('A',))\n",
      "17.666666666666664 (('G', 'D', 'C'), ('F', 'B'), (), ('E', 'A'))\n",
      "17.333333333333336 (('C', 'G', 'A'), ('E',), ('F', 'B', 'D'), ())\n",
      "17.0 (('D',), ('E', 'G', 'B', 'C', 'A', 'F'), ())\n",
      "16.333333333333336 (('D',), ('F', 'E', 'G', 'H', 'B', 'A'), ('C',))\n",
      "16.333333333333332 (('E', 'B'), ('H', 'A', 'C'), ('F', 'G', 'D'))\n",
      "16.0 (('F', 'C'), ('E', 'G', 'B', 'A'), ('H', 'D'))\n",
      "15.0 (('G', 'B', 'F', 'C'), ('A',), ('E', 'H', 'D'))\n",
      "15.0 (('F', 'B'), ('G',), ('H', 'D', 'E', 'C', 'A'))\n",
      "15.0 (('C',), ('F', 'E', 'H', 'A', 'D'), ('B', 'G'))\n",
      "14.333333333333332 (('C', 'G', 'A'), ('E',), ('H', 'B', 'D'), ('F',))\n",
      "14.0 (('E', 'C'), ('A', 'D'), ('F', 'B', 'G'))\n",
      "13.666666666666668 (('G',), ('B', 'A'), ('D', 'H', 'F', 'C', 'E'))\n",
      "13.333333333333334 (('A', 'G', 'E'), ('F', 'D'), ('C',), ('B',))\n",
      "13.0 (('C',), ('E', 'B', 'A'), ('D', 'G', 'F'))\n",
      "13.0 (('G', 'A', 'C'), ('B', 'D', 'F'), ('E',))\n",
      "13.0 (('C',), ('F', 'D', 'B'), ('G', 'A', 'E'), ())\n",
      "13.0 (('B', 'D', 'F'), ('H', 'G', 'A', 'C'), ('E',))\n",
      "12.333333333333334 (('C', 'F', 'A'), ('E',), ('D', 'G'), ('H', 'B'))\n",
      "12.0 (('D', 'G', 'E', 'C'), ('B', 'F'), ('H', 'A'))\n",
      "11.0 (('F', 'A', 'D'), ('E', 'B', 'H'), ('G', 'C'))\n",
      "10.0 (('C', 'F', 'E', 'D'), ('A', 'G'), ('B',))\n",
      "9.666666666666668 (('F', 'G', 'C'), ('E', 'H', 'D'), ('A', 'B'))\n",
      "9.333333333333334 (('A', 'F', 'D'), ('B',), ('E', 'C'))\n",
      "9.0 (('D', 'F', 'B', 'C'), (), ('E', 'A'))\n",
      "8.666666666666666 ((), ('F', 'D', 'C', 'B'), ('G', 'E', 'A'))\n",
      "8.666666666666666 (('E', 'C'), ('F', 'D'), ('A',), ('B', 'G'))\n",
      "8.0 (('C', 'A'), ('D', 'G', 'F'), ('B', 'E'))\n"
     ]
    }
   ],
   "source": [
    "problems = list(problem_record_nested.keys())\n",
    "problem_scores = [score_k_differentiability(problem_record_nested[p]) for p in problems]\n",
    "\n",
    "for pidx in sorted(range(len(problems)), key=lambda pidx: problem_scores[pidx], reverse=True)[:30]:\n",
    "    p = problems[pidx]\n",
    "    print(problem_scores[pidx], p)\n"
   ]
  },
  {
   "cell_type": "code",
   "execution_count": 101,
   "metadata": {},
   "outputs": [
    {
     "name": "stdout",
     "output_type": "stream",
     "text": [
      "((('F', 'B', 'C'), ('E', 'D'), ('A',)), 5) [9, 9, 9]\n",
      "Goal 0: E on top of F\n",
      "Goal 1: D on top of E\n",
      "Goal 2: C on top of D\n",
      "Goal 3: B on top of C\n",
      "Goal 4: A on top of B\n",
      "9\n",
      "9\n",
      "9\n",
      "9\n",
      "9\n"
     ]
    }
   ],
   "source": [
    "# Trying to figure out if state canonicalization helps our perf as branching factor gets large\n",
    "\n",
    "# initial = (('B',), ('D', 'E'), ('F', 'C', 'G', 'A'))\n",
    "key, value = list(problem_record.items())[110]\n",
    "\n",
    "print(key, value)\n",
    "\n",
    "initial, k = key\n",
    "\n",
    "letters = sorted([l for ls in initial for l in ls])\n",
    "goals = []\n",
    "for top, bottom in reversed(list(zip(letters[:-1], letters[1:]))):\n",
    "    print('Goal {}: {} on top of {}'.format(len(goals), top, bottom))\n",
    "    goals.append(Blockworld.make_above_predicate(top, bottom))\n",
    "goals_with_clearing = [Blockworld.make_is_bottom_of_column_predicate(letters[-1])]+goals\n",
    "\n",
    "problem = Blockworld(initial, goals_with_clearing)\n",
    "for _ in range(5):\n",
    "    history, solved = solve_using_ordered_goal_subset(problem, k=k)\n",
    "    print(len(history)-1)\n",
    "\n",
    "def _try_to_solve_this_thing(problem, k):\n",
    "    results = [\n",
    "        # returns history, solved\n",
    "        solve_using_ordered_goal_subset(problem, k=k)\n",
    "        for _ in range(3)\n",
    "    ]\n",
    "\n",
    "\n",
    "#problem = Blockworld(initial, goals_with_clearing)\n",
    "\n",
    "#%timeit _try_to_solve_this_thing(Blockworld(initial, goals_with_clearing), 6)\n",
    "#%timeit _try_to_solve_this_thing(Blockworld(initial, goals_with_clearing, canonicalize_states=True), 6)\n",
    "#%timeit _try_to_solve_this_thing(Blockworld(initial, goals_with_clearing), 7)\n",
    "#%timeit _try_to_solve_this_thing(Blockworld(initial, goals_with_clearing, canonicalize_states=True), 7)"
   ]
  },
  {
   "cell_type": "code",
   "execution_count": null,
   "metadata": {},
   "outputs": [],
   "source": [
    "# Export to JSON!\n",
    "\n",
    "import json\n",
    "\n",
    "output_format = [\n",
    "    dict(\n",
    "        initial=initial,\n",
    "        goal_type='any_column',\n",
    "        goal=[\n",
    "            sorted([l for ls in initial for l in ls], reverse=True),\n",
    "        ] + [[]] * (len(initial)-1)\n",
    "    )\n",
    "    for initial in initial_states\n",
    "]\n",
    "\n",
    "print(json.dumps(output_format, indent=4))"
   ]
  },
  {
   "cell_type": "code",
   "execution_count": null,
   "metadata": {},
   "outputs": [],
   "source": [
    "# HACK HACK why doesn't bfs terminate on this? Does it terminate with state canonicalization? Count distinct states?\n",
    "\n",
    "'''\n",
    "....\n",
    "....\n",
    "....\n",
    "....\n",
    "....\n",
    "....\n",
    "H..B\n",
    "E.AF\n",
    "CGDI\n",
    "'''"
   ]
  },
  {
   "cell_type": "markdown",
   "metadata": {},
   "source": [
    "### Exploring some suboptimalities"
   ]
  },
  {
   "cell_type": "code",
   "execution_count": null,
   "metadata": {},
   "outputs": [],
   "source": [
    "# Why does this fail for even k=4? # moves in 5 trials [29, 29, 29, 29, 29]\n",
    "badstate1 = (('E', 'A', 'D'), ('C', 'F'), ('B',))\n",
    "# or this one fails up to k=3\n",
    "badstate2 = ((), ('A', 'C', 'F'), ('E', 'D', 'B'))\n",
    "\n",
    "# In general, this class of issue seems to have to do with not clearing underneath the largest block...\n",
    "# So, if you're considering k \"on top of\" goals, then you'll optimize with respect to up to k letters\n",
    "# away from your current one. Otherwise, you might leave k+1 letters and further underneath. So in general\n",
    "# 'A' will get stuck underneath an F if we don't explicitly clear F.\n",
    "\n",
    "print('goals without clearing:')\n",
    "p = Blockworld(badstate1, goals)\n",
    "history, solved = solve_using_ordered_goal_subset(p, k=3)\n",
    "assert not solved\n",
    "print('not solved')\n",
    "\n",
    "# So when we add clearing as a goal, this all gets nicely resolved:\n",
    "print('goals with clearing:')\n",
    "p = Blockworld(badstate1, goals_with_clearing)\n",
    "history, solved = solve_using_ordered_goal_subset(p, k=3)\n",
    "assert solved\n",
    "print('solved in {} moves'.format(len(history)-1))"
   ]
  },
  {
   "cell_type": "code",
   "execution_count": null,
   "metadata": {},
   "outputs": [],
   "source": [
    "state = (('B', 'A', 'E', 'F'), (), ('C', 'D'))\n",
    "# How is this optimal with k=1?\n",
    "# After seeing the below with debug=True, it seems this is optimal because there aren't opportunities to\n",
    "# achieve bad intermediate states. So for instance, once E is on F on column 2, D and C\n",
    "# are already in the right order to stack. while we do have to shift A around to get B\n",
    "# on top, we can't block future moves by doing that. So, this is a case where we can't\n",
    "# create bad intermediate states.\n",
    "\n",
    "p = Blockworld(state, goals_with_clearing)\n",
    "\n",
    "print('optimal', bfs_search(p))\n",
    "\n",
    "history, solved = solve_using_ordered_goal_subset(p, k=1, debug=False)\n",
    "print('using k=1', [a for a, s in history if a])"
   ]
  },
  {
   "cell_type": "code",
   "execution_count": 133,
   "metadata": {
    "scrolled": false
   },
   "outputs": [
    {
     "name": "stdout",
     "output_type": "stream",
     "text": [
      "optimal []\n"
     ]
    }
   ],
   "source": [
    "# Why does this sometimes do poorly for k=1?: # moves [29, 7, 7, 7, 29]\n",
    "state = (('B', 'A', 'E', 'F'), (), ('C', 'D'))\n",
    "\n",
    "# Answer: This does poorly because we sometimes stack F on top of D, which is a weird thing to do and\n",
    "# sort of related to the previous cell's long answer. When we add the \"clearing\" goal (that F is on bottom)\n",
    "# this is a non-issue.\n",
    "\n",
    "p = Blockworld(state, goals)\n",
    "\n",
    "print('optimal', bfs_search(p))\n",
    "\n",
    "for _ in range(10):\n",
    "    history, solved = solve_using_ordered_goal_subset(p, k=1, debug=False)\n",
    "    if not solved:\n",
    "        print('rendering suboptimal solution')\n",
    "        for a, s in history:\n",
    "            print(p.render(s))\n",
    "        break\n"
   ]
  },
  {
   "cell_type": "code",
   "execution_count": 153,
   "metadata": {},
   "outputs": [
    {
     "data": {
      "application/vnd.jupyter.widget-view+json": {
       "model_id": "fa74a42fe81649e0a70921e70a268ae7",
       "version_major": 2,
       "version_minor": 0
      },
      "text/plain": [
       "HBox(children=(IntProgress(value=0, max=5), HTML(value='')))"
      ]
     },
     "metadata": {},
     "output_type": "display_data"
    },
    {
     "data": {
      "application/vnd.jupyter.widget-view+json": {
       "model_id": "9d5885a02a594d80b3a7728dc5603aa0",
       "version_major": 2,
       "version_minor": 0
      },
      "text/plain": [
       "HBox(children=(IntProgress(value=0, max=5), HTML(value='')))"
      ]
     },
     "metadata": {},
     "output_type": "display_data"
    },
    {
     "data": {
      "application/vnd.jupyter.widget-view+json": {
       "model_id": "40ab1bb0026348f89ddebdc3ee9c84f6",
       "version_major": 2,
       "version_minor": 0
      },
      "text/plain": [
       "HBox(children=(IntProgress(value=0, max=5), HTML(value='')))"
      ]
     },
     "metadata": {},
     "output_type": "display_data"
    },
    {
     "data": {
      "application/vnd.jupyter.widget-view+json": {
       "model_id": "697d489ee47f4ebdaa0867d7b7cc947c",
       "version_major": 2,
       "version_minor": 0
      },
      "text/plain": [
       "HBox(children=(IntProgress(value=0, max=5), HTML(value='')))"
      ]
     },
     "metadata": {},
     "output_type": "display_data"
    },
    {
     "data": {
      "application/vnd.jupyter.widget-view+json": {
       "model_id": "7864fd6fc54148948aba61549f9a821d",
       "version_major": 2,
       "version_minor": 0
      },
      "text/plain": [
       "HBox(children=(IntProgress(value=0, max=6), HTML(value='')))"
      ]
     },
     "metadata": {},
     "output_type": "display_data"
    },
    {
     "data": {
      "application/vnd.jupyter.widget-view+json": {
       "model_id": "60954f00f70b4574be971e460f5f8f3b",
       "version_major": 2,
       "version_minor": 0
      },
      "text/plain": [
       "HBox(children=(IntProgress(value=0, max=6), HTML(value='')))"
      ]
     },
     "metadata": {},
     "output_type": "display_data"
    },
    {
     "data": {
      "image/png": "[encoded data removed]",
      "text/plain": [
       "<Figure size 432x288 with 1 Axes>"
      ]
     },
     "metadata": {
      "needs_background": "light"
     },
     "output_type": "display_data"
    },
    {
     "data": {
      "image/png": "[encoded data removed]",
      "text/plain": [
       "<Figure size 432x288 with 1 Axes>"
      ]
     },
     "metadata": {
      "needs_background": "light"
     },
     "output_type": "display_data"
    },
    {
     "data": {
      "image/png": "[encoded data removed]",
      "text/plain": [
       "<Figure size 432x288 with 1 Axes>"
      ]
     },
     "metadata": {
      "needs_background": "light"
     },
     "output_type": "display_data"
    }
   ],
   "source": [
    "# How important is # spaces for solving our problems?\n",
    "\n",
    "ps = [\n",
    "    # tougher ones\n",
    "    (('G', 'D', 'C'), ('F', 'B'), ('E', 'A')),\n",
    "    (('C', 'G', 'A'), ('E',), ('F', 'B', 'D')),\n",
    "    # \"easy\" ones\n",
    "    (('B', 'D', 'F'), ('H', 'G', 'A', 'C'), ('E',)),\n",
    "]\n",
    "\n",
    "for initial in ps:\n",
    "    n_trials = 5\n",
    "    plt.figure()\n",
    "    letters = _generate_standard_goals_for_blocks(initial, debug=False)\n",
    "    assert len(initial) == 3\n",
    "    plt.title('Problem {}\\nSolid lines are mean of {} trials, dashed lines are min/max'.format(initial, n_trials))\n",
    "    plt.xlabel('# of moves')\n",
    "    plt.ylabel('k: # of goals considered')\n",
    "    for name, arg, color in [\n",
    "        ('S=3', initial, 'b'),\n",
    "        ('S=4', initial+((),), 'r'),\n",
    "    ]:\n",
    "        p = Blockworld(arg, letters)\n",
    "        # HACK Although we normally like to do up to k=# goals, we are only going up to k=# goals - 2 to keep things fast.\n",
    "        ks = list(range(1, len(p.goals)-1))\n",
    "        results = [\n",
    "            [\n",
    "                len(solve_using_ordered_goal_subset_perf1(p, k=k, debug=False)[0])-1\n",
    "                for _ in range(n_trials)\n",
    "            ]\n",
    "            for k in tqdm(ks)\n",
    "        ]\n",
    "        plt.plot(ks, [np.mean(r) for r in results], color, label=name)\n",
    "        plt.plot(ks, [np.max(r) for r in results], color+'--')\n",
    "        plt.plot(ks, [np.min(r) for r in results], color+'--')\n",
    "        plt.legend()\n"
   ]
  },
  {
   "cell_type": "code",
   "execution_count": null,
   "metadata": {},
   "outputs": [],
   "source": []
  }
 ],
 "metadata": {
  "kernelspec": {
   "display_name": "Python 3",
   "language": "python",
   "name": "python3"
  }
 },
 "nbformat": 4,
 "nbformat_minor": 2
}
