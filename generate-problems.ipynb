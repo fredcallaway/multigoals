{
 "cells": [
  {
   "cell_type": "code",
   "execution_count": 67,
   "metadata": {},
   "outputs": [],
   "source": [
    "import numpy as np\n",
    "import matplotlib.pyplot as plt\n",
    "\n",
    "import importlib\n",
    "import agent;importlib.reload(agent)\n",
    "import blockworld;importlib.reload(blockworld)\n",
    "\n",
    "from blockworld import Blockworld\n",
    "from simple_spatial import SimpleSpatial\n",
    "from agent import solve_using_ordered_goal_subset, bfs_search\n",
    "\n",
    "from collections import namedtuple\n",
    "\n",
    "from tqdm import tqdm_notebook as tqdm\n",
    "\n",
    "import random"
   ]
  },
  {
   "cell_type": "code",
   "execution_count": 2,
   "metadata": {},
   "outputs": [
    {
     "name": "stdout",
     "output_type": "stream",
     "text": [
      "['A', 'B', 'C']\n"
     ]
    }
   ],
   "source": [
    "def make_letters(start, number):\n",
    "    '''Returns list of `number` letters, starting from `start`. Letters are generated in ASCII sequence.'''\n",
    "    return [chr(ord(start) + i) for i in range(number)]\n",
    "\n",
    "abc = make_letters('A', 3)\n",
    "print(abc)\n",
    "assert abc == ['A', 'B', 'C']\n",
    "_def = make_letters('D', 3)\n",
    "assert _def == ['D', 'E', 'F']"
   ]
  },
  {
   "cell_type": "code",
   "execution_count": 3,
   "metadata": {
    "scrolled": false
   },
   "outputs": [
    {
     "name": "stdout",
     "output_type": "stream",
     "text": [
      "Sample initial state (('A', 'B'), ('C',), ('F', 'E', 'D'))\n",
      "Goal 0: E on top of F\n",
      "Goal 1: D on top of E\n",
      "Goal 2: C on top of D\n",
      "Goal 3: B on top of C\n",
      "Goal 4: A on top of B\n"
     ]
    }
   ],
   "source": [
    "def generate_blockworld_problems(\n",
    "    B=5,\n",
    "    S=3,\n",
    "    n_probs=100,\n",
    "    seed=None,\n",
    "):\n",
    "    '''\n",
    "    Generate blockworld problems.\n",
    "\n",
    "    Each problem has the same number of letters B and spaces S.\n",
    "    To generate, we randomly select a letter (without replacement)\n",
    "    and place it at a random space.\n",
    "    '''\n",
    "    np.random.seed(seed)\n",
    "    problems = []\n",
    "    letters = make_letters('A', B)\n",
    "    spaces = range(S)\n",
    "\n",
    "    for _ in range(n_probs):\n",
    "        # You have B letters and S spaces. Until all have been placed,\n",
    "        # choose random letter without replacement to put at random space.\n",
    "        initial = [() for _ in spaces]\n",
    "        for letter in np.random.permutation(letters):\n",
    "            space = np.random.choice(spaces)\n",
    "            initial[space] += (letter,)\n",
    "\n",
    "        initial = tuple(initial)\n",
    "\n",
    "        problems.append(initial)\n",
    "\n",
    "    return problems, letters\n",
    "\n",
    "generated, letters = generate_blockworld_problems(seed=42, B=6)\n",
    "print('Sample initial state', generated[0])\n",
    "\n",
    "goals = []\n",
    "for top, bottom in reversed(list(zip(letters[:-1], letters[1:]))):\n",
    "    print('Goal {}: {} on top of {}'.format(len(goals), top, bottom))\n",
    "    goals.append(Blockworld.make_above_predicate(top, bottom))\n",
    "\n",
    "goals_with_clearing = [Blockworld.make_is_bottom_of_column_predicate(letters[-1])]+goals"
   ]
  },
  {
   "cell_type": "code",
   "execution_count": 4,
   "metadata": {},
   "outputs": [
    {
     "name": "stdout",
     "output_type": "stream",
     "text": [
      "\n",
      "New problem: (('A', 'B'), ('C',), ('F', 'E', 'D'))\n",
      "...\n",
      "...\n",
      "...\n",
      "..D\n",
      "B.E\n",
      "ACF\n",
      "\n",
      "optimal 3\n",
      "considering k=1 All solved; # moves in 3 trials [3, 3, 3]\n",
      "considering k=2 All solved; # moves in 3 trials [3, 3, 3]\n",
      "considering k=3 All solved; # moves in 3 trials [3, 3, 3]\n",
      "considering k=4 All solved; # moves in 3 trials [3, 3, 3]\n",
      "considering k=5 All solved; # moves in 3 trials [3, 3, 3]\n",
      "considering k=6 All solved; # moves in 3 trials [3, 3, 3]\n",
      "\n",
      "New problem: (('A',), ('B', 'D', 'F', 'C'), ('E',))\n",
      "...\n",
      "...\n",
      ".C.\n",
      ".F.\n",
      ".D.\n",
      "ABE\n",
      "\n",
      "optimal 8\n",
      "considering k=1 All solved; # moves in 3 trials [8, 12, 14]\n",
      "considering k=2 All solved; # moves in 3 trials [8, 8, 8]\n",
      "considering k=3 All solved; # moves in 3 trials [8, 8, 8]\n",
      "considering k=4 All solved; # moves in 3 trials [8, 8, 8]\n",
      "considering k=5 All solved; # moves in 3 trials [8, 8, 8]\n",
      "considering k=6 All solved; # moves in 3 trials [8, 8, 8]\n",
      "\n",
      "New problem: (('E', 'A', 'D'), ('C', 'F'), ('B',))\n",
      "...\n",
      "...\n",
      "...\n",
      "D..\n",
      "AF.\n",
      "ECB\n",
      "\n",
      "optimal 11\n",
      "considering k=1 All solved; # moves in 3 trials [12, 12, 12]\n",
      "considering k=2 All solved; # moves in 3 trials [12, 12, 12]\n",
      "considering k=3 All solved; # moves in 3 trials [12, 11, 11]\n",
      "considering k=4 All solved; # moves in 3 trials [11, 11, 11]\n",
      "considering k=5 All solved; # moves in 3 trials [11, 11, 11]\n",
      "considering k=6 All solved; # moves in 3 trials [11, 11, 11]\n",
      "\n",
      "New problem: (('C',), ('A', 'F'), ('E', 'D', 'B'))\n",
      "...\n",
      "...\n",
      "...\n",
      "..B\n",
      ".FD\n",
      "CAE\n",
      "\n",
      "optimal 10\n",
      "considering k=1 All solved; # moves in 3 trials [11, 11, 11]\n",
      "considering k=2 All solved; # moves in 3 trials [10, 10, 10]\n",
      "considering k=3 All solved; # moves in 3 trials [10, 10, 10]\n",
      "considering k=4 All solved; # moves in 3 trials [10, 10, 10]\n",
      "considering k=5 All solved; # moves in 3 trials [10, 10, 10]\n",
      "considering k=6 All solved; # moves in 3 trials [10, 10, 10]\n",
      "\n",
      "New problem: (('B', 'F'), ('D', 'E', 'C'), ('A',))\n",
      "...\n",
      "...\n",
      "...\n",
      ".C.\n",
      "FE.\n",
      "BDA\n",
      "\n",
      "optimal 9\n",
      "considering k=1 All solved; # moves in 3 trials [10, 10, 10]\n",
      "considering k=2 All solved; # moves in 3 trials [10, 10, 10]\n",
      "considering k=3 All solved; # moves in 3 trials [9, 9, 9]\n",
      "considering k=4 All solved; # moves in 3 trials [9, 9, 10]\n",
      "considering k=5 All solved; # moves in 3 trials [9, 9, 9]\n",
      "considering k=6 All solved; # moves in 3 trials [9, 9, 9]\n"
     ]
    }
   ],
   "source": [
    "for initial in generated[:5]:\n",
    "    problem = Blockworld(initial, goals_with_clearing)\n",
    "    print('\\nNew problem:', initial)\n",
    "    print(problem.render(initial))\n",
    "    print('optimal', len(bfs_search(problem)))\n",
    "    for k in range(1, len(problem.goals)+1):\n",
    "        print('considering k={}'.format(k), end='')\n",
    "        results = [\n",
    "            # returns history, solved\n",
    "            solve_using_ordered_goal_subset(problem, k=k)\n",
    "            for _ in range(3)\n",
    "        ]\n",
    "        if all(solved for history, solved in results):\n",
    "            msg = 'All solved'\n",
    "        elif any(solved for history, solved in results):\n",
    "            msg = 'Some solved'\n",
    "        else:\n",
    "            msg = 'Could not be solved'\n",
    "        print(' {}; # moves in {} trials'.format(msg, len(results)), [len(h) - 1 for h, _ in results])"
   ]
  },
  {
   "cell_type": "code",
   "execution_count": 17,
   "metadata": {},
   "outputs": [
    {
     "name": "stdout",
     "output_type": "stream",
     "text": [
      "Testing things out for args {'B': 6, 'S': 3, 'seed': 43}\n",
      "Goal 0: E on top of F\n",
      "Goal 1: D on top of E\n",
      "Goal 2: C on top of D\n",
      "Goal 3: B on top of C\n",
      "Goal 4: A on top of B\n",
      "Sample initial state (('C',), ('B',), ('F', 'D', 'A', 'E'))\n"
     ]
    },
    {
     "data": {
      "application/vnd.jupyter.widget-view+json": {
       "model_id": "cb27f0eb93d9418ca38d87fd0c9aea2a",
       "version_major": 2,
       "version_minor": 0
      },
      "text/plain": [
       "HBox(children=(IntProgress(value=0, max=30), HTML(value='')))"
      ]
     },
     "metadata": {},
     "output_type": "display_data"
    },
    {
     "name": "stdout",
     "output_type": "stream",
     "text": [
      "\n",
      "Testing things out for args {'B': 7, 'S': 3, 'seed': 43}\n",
      "Goal 0: F on top of G\n",
      "Goal 1: E on top of F\n",
      "Goal 2: D on top of E\n",
      "Goal 3: C on top of D\n",
      "Goal 4: B on top of C\n",
      "Goal 5: A on top of B\n",
      "Sample initial state (('B',), ('D', 'E'), ('F', 'C', 'G', 'A'))\n"
     ]
    },
    {
     "data": {
      "application/vnd.jupyter.widget-view+json": {
       "model_id": "1840605b14de45a783572613f7c95c78",
       "version_major": 2,
       "version_minor": 0
      },
      "text/plain": [
       "HBox(children=(IntProgress(value=0, max=30), HTML(value='')))"
      ]
     },
     "metadata": {},
     "output_type": "display_data"
    },
    {
     "name": "stdout",
     "output_type": "stream",
     "text": [
      "\n",
      "Testing things out for args {'B': 7, 'S': 4, 'seed': 43}\n",
      "Goal 0: F on top of G\n",
      "Goal 1: E on top of F\n",
      "Goal 2: D on top of E\n",
      "Goal 3: C on top of D\n",
      "Goal 4: B on top of C\n",
      "Goal 5: A on top of B\n",
      "Sample initial state ((), ('F',), ('B', 'A', 'E'), ('D', 'C', 'G'))\n"
     ]
    },
    {
     "data": {
      "application/vnd.jupyter.widget-view+json": {
       "model_id": "bde7b0a38bf3402ba0792952e4dfffc1",
       "version_major": 2,
       "version_minor": 0
      },
      "text/plain": [
       "HBox(children=(IntProgress(value=0, max=30), HTML(value='')))"
      ]
     },
     "metadata": {},
     "output_type": "display_data"
    },
    {
     "name": "stdout",
     "output_type": "stream",
     "text": [
      "\n",
      "Testing things out for args {'B': 8, 'S': 3, 'seed': 43}\n",
      "Goal 0: G on top of H\n",
      "Goal 1: F on top of G\n",
      "Goal 2: E on top of F\n",
      "Goal 3: D on top of E\n",
      "Goal 4: C on top of D\n",
      "Goal 5: B on top of C\n",
      "Goal 6: A on top of B\n",
      "Sample initial state (('G',), ('B', 'A'), ('D', 'H', 'F', 'C', 'E'))\n"
     ]
    },
    {
     "data": {
      "application/vnd.jupyter.widget-view+json": {
       "model_id": "4b48a14ddbd84241a65c460343f4a852",
       "version_major": 2,
       "version_minor": 0
      },
      "text/plain": [
       "HBox(children=(IntProgress(value=0, max=30), HTML(value='')))"
      ]
     },
     "metadata": {},
     "output_type": "display_data"
    },
    {
     "name": "stdout",
     "output_type": "stream",
     "text": [
      "\n",
      "Testing things out for args {'B': 8, 'S': 4, 'seed': 43}\n",
      "Goal 0: G on top of H\n",
      "Goal 1: F on top of G\n",
      "Goal 2: E on top of F\n",
      "Goal 3: D on top of E\n",
      "Goal 4: C on top of D\n",
      "Goal 5: B on top of C\n",
      "Goal 6: A on top of B\n",
      "Sample initial state (('B',), (), ('H', 'F', 'G'), ('D', 'C', 'A', 'E'))\n"
     ]
    },
    {
     "data": {
      "application/vnd.jupyter.widget-view+json": {
       "model_id": "255826d4ccb74565be7aa42f66e386ab",
       "version_major": 2,
       "version_minor": 0
      },
      "text/plain": [
       "HBox(children=(IntProgress(value=0, max=30), HTML(value='')))"
      ]
     },
     "metadata": {},
     "output_type": "display_data"
    },
    {
     "ename": "KeyboardInterrupt",
     "evalue": "",
     "output_type": "error",
     "traceback": [
      "\u001b[0;31m---------------------------------------------------------------------------\u001b[0m",
      "\u001b[0;31mKeyboardInterrupt\u001b[0m                         Traceback (most recent call last)",
      "\u001b[0;32m<ipython-input-17-c78da5113559>\u001b[0m in \u001b[0;36m<module>\u001b[0;34m()\u001b[0m\n\u001b[1;32m     43\u001b[0m                 \u001b[0;31m# returns history, solved\u001b[0m\u001b[0;34m\u001b[0m\u001b[0;34m\u001b[0m\u001b[0m\n\u001b[1;32m     44\u001b[0m                 \u001b[0msolve_using_ordered_goal_subset\u001b[0m\u001b[0;34m(\u001b[0m\u001b[0mproblem\u001b[0m\u001b[0;34m,\u001b[0m \u001b[0mk\u001b[0m\u001b[0;34m=\u001b[0m\u001b[0mk\u001b[0m\u001b[0;34m)\u001b[0m\u001b[0;34m\u001b[0m\u001b[0m\n\u001b[0;32m---> 45\u001b[0;31m                 \u001b[0;32mfor\u001b[0m \u001b[0m_\u001b[0m \u001b[0;32min\u001b[0m \u001b[0mrange\u001b[0m\u001b[0;34m(\u001b[0m\u001b[0;36m3\u001b[0m\u001b[0;34m)\u001b[0m\u001b[0;34m\u001b[0m\u001b[0m\n\u001b[0m\u001b[1;32m     46\u001b[0m             ]\n\u001b[1;32m     47\u001b[0m             '''\n",
      "\u001b[0;32m<ipython-input-17-c78da5113559>\u001b[0m in \u001b[0;36m<listcomp>\u001b[0;34m(.0)\u001b[0m\n\u001b[1;32m     43\u001b[0m                 \u001b[0;31m# returns history, solved\u001b[0m\u001b[0;34m\u001b[0m\u001b[0;34m\u001b[0m\u001b[0m\n\u001b[1;32m     44\u001b[0m                 \u001b[0msolve_using_ordered_goal_subset\u001b[0m\u001b[0;34m(\u001b[0m\u001b[0mproblem\u001b[0m\u001b[0;34m,\u001b[0m \u001b[0mk\u001b[0m\u001b[0;34m=\u001b[0m\u001b[0mk\u001b[0m\u001b[0;34m)\u001b[0m\u001b[0;34m\u001b[0m\u001b[0m\n\u001b[0;32m---> 45\u001b[0;31m                 \u001b[0;32mfor\u001b[0m \u001b[0m_\u001b[0m \u001b[0;32min\u001b[0m \u001b[0mrange\u001b[0m\u001b[0;34m(\u001b[0m\u001b[0;36m3\u001b[0m\u001b[0;34m)\u001b[0m\u001b[0;34m\u001b[0m\u001b[0m\n\u001b[0m\u001b[1;32m     46\u001b[0m             ]\n\u001b[1;32m     47\u001b[0m             '''\n",
      "\u001b[0;32m~/pu/multigoals/agent.py\u001b[0m in \u001b[0;36msolve_using_ordered_goal_subset\u001b[0;34m(problem, k, debug, action_limit)\u001b[0m\n\u001b[1;32m    135\u001b[0m             \u001b[0mproblem\u001b[0m\u001b[0;34m,\u001b[0m\u001b[0;34m\u001b[0m\u001b[0m\n\u001b[1;32m    136\u001b[0m             \u001b[0mroot\u001b[0m\u001b[0;34m=\u001b[0m\u001b[0ms\u001b[0m\u001b[0;34m,\u001b[0m\u001b[0;34m\u001b[0m\u001b[0m\n\u001b[0;32m--> 137\u001b[0;31m             goal_test=lambda state: all(g(state) for g in subset_goals))\n\u001b[0m\u001b[1;32m    138\u001b[0m \u001b[0;34m\u001b[0m\u001b[0m\n\u001b[1;32m    139\u001b[0m         \u001b[0;31m# And take first action in this path.\u001b[0m\u001b[0;34m\u001b[0m\u001b[0;34m\u001b[0m\u001b[0m\n",
      "\u001b[0;32m~/pu/multigoals/agent.py\u001b[0m in \u001b[0;36mbfs_search\u001b[0;34m(problem, goal_test, root, shuffle)\u001b[0m\n\u001b[1;32m     49\u001b[0m         \u001b[0mactions\u001b[0m \u001b[0;34m=\u001b[0m \u001b[0mproblem\u001b[0m\u001b[0;34m.\u001b[0m\u001b[0mactions\u001b[0m\u001b[0;34m(\u001b[0m\u001b[0ms\u001b[0m\u001b[0;34m)\u001b[0m\u001b[0;34m\u001b[0m\u001b[0m\n\u001b[1;32m     50\u001b[0m         \u001b[0;32mif\u001b[0m \u001b[0mshuffle\u001b[0m\u001b[0;34m:\u001b[0m\u001b[0;34m\u001b[0m\u001b[0m\n\u001b[0;32m---> 51\u001b[0;31m             \u001b[0mrandom\u001b[0m\u001b[0;34m.\u001b[0m\u001b[0mshuffle\u001b[0m\u001b[0;34m(\u001b[0m\u001b[0mactions\u001b[0m\u001b[0;34m)\u001b[0m\u001b[0;34m\u001b[0m\u001b[0m\n\u001b[0m\u001b[1;32m     52\u001b[0m         \u001b[0;32mfor\u001b[0m \u001b[0ma\u001b[0m \u001b[0;32min\u001b[0m \u001b[0mactions\u001b[0m\u001b[0;34m:\u001b[0m\u001b[0;34m\u001b[0m\u001b[0m\n\u001b[1;32m     53\u001b[0m             \u001b[0mnext_state\u001b[0m \u001b[0;34m=\u001b[0m \u001b[0mproblem\u001b[0m\u001b[0;34m.\u001b[0m\u001b[0mresult\u001b[0m\u001b[0;34m(\u001b[0m\u001b[0ms\u001b[0m\u001b[0;34m,\u001b[0m \u001b[0ma\u001b[0m\u001b[0;34m)\u001b[0m\u001b[0;34m\u001b[0m\u001b[0m\n",
      "\u001b[0;32m~/pu/multigoals/env/lib/python3.6/random.py\u001b[0m in \u001b[0;36mshuffle\u001b[0;34m(self, x, random)\u001b[0m\n\u001b[1;32m    272\u001b[0m             \u001b[0;32mfor\u001b[0m \u001b[0mi\u001b[0m \u001b[0;32min\u001b[0m \u001b[0mreversed\u001b[0m\u001b[0;34m(\u001b[0m\u001b[0mrange\u001b[0m\u001b[0;34m(\u001b[0m\u001b[0;36m1\u001b[0m\u001b[0;34m,\u001b[0m \u001b[0mlen\u001b[0m\u001b[0;34m(\u001b[0m\u001b[0mx\u001b[0m\u001b[0;34m)\u001b[0m\u001b[0;34m)\u001b[0m\u001b[0;34m)\u001b[0m\u001b[0;34m:\u001b[0m\u001b[0;34m\u001b[0m\u001b[0m\n\u001b[1;32m    273\u001b[0m                 \u001b[0;31m# pick an element in x[:i+1] with which to exchange x[i]\u001b[0m\u001b[0;34m\u001b[0m\u001b[0;34m\u001b[0m\u001b[0m\n\u001b[0;32m--> 274\u001b[0;31m                 \u001b[0mj\u001b[0m \u001b[0;34m=\u001b[0m \u001b[0mrandbelow\u001b[0m\u001b[0;34m(\u001b[0m\u001b[0mi\u001b[0m\u001b[0;34m+\u001b[0m\u001b[0;36m1\u001b[0m\u001b[0;34m)\u001b[0m\u001b[0;34m\u001b[0m\u001b[0m\n\u001b[0m\u001b[1;32m    275\u001b[0m                 \u001b[0mx\u001b[0m\u001b[0;34m[\u001b[0m\u001b[0mi\u001b[0m\u001b[0;34m]\u001b[0m\u001b[0;34m,\u001b[0m \u001b[0mx\u001b[0m\u001b[0;34m[\u001b[0m\u001b[0mj\u001b[0m\u001b[0;34m]\u001b[0m \u001b[0;34m=\u001b[0m \u001b[0mx\u001b[0m\u001b[0;34m[\u001b[0m\u001b[0mj\u001b[0m\u001b[0;34m]\u001b[0m\u001b[0;34m,\u001b[0m \u001b[0mx\u001b[0m\u001b[0;34m[\u001b[0m\u001b[0mi\u001b[0m\u001b[0;34m]\u001b[0m\u001b[0;34m\u001b[0m\u001b[0m\n\u001b[1;32m    276\u001b[0m         \u001b[0;32melse\u001b[0m\u001b[0;34m:\u001b[0m\u001b[0;34m\u001b[0m\u001b[0m\n",
      "\u001b[0;31mKeyboardInterrupt\u001b[0m: "
     ]
    }
   ],
   "source": [
    "# Let's generate/solve a bunch of problems.\n",
    "\n",
    "# This dict is indexed by (initial state, k) and stores a\n",
    "# list of # of moves it took to solve the problem (list b/c of stochasticity)\n",
    "# problem_record = {} # HACK we normally make sure this is commented out.\n",
    "\n",
    "for args in [\n",
    "    dict(B=6, S=3, seed=43),\n",
    "\n",
    "    dict(B=7, S=3, seed=43),\n",
    "    dict(B=7, S=4, seed=43),\n",
    "\n",
    "    dict(B=8, S=3, seed=43),\n",
    "    dict(B=8, S=4, seed=43),\n",
    "    dict(B=8, S=5, seed=43),\n",
    "\n",
    "    dict(B=9, S=3, seed=43),\n",
    "    dict(B=9, S=4, seed=43),\n",
    "    dict(B=9, S=5, seed=43),\n",
    "]:\n",
    "    print(f'Testing things out for args {args}')\n",
    "\n",
    "    generated, letters = generate_blockworld_problems(n_probs=30, **args)\n",
    "    goals = []\n",
    "    for top, bottom in reversed(list(zip(letters[:-1], letters[1:]))):\n",
    "        print('Goal {}: {} on top of {}'.format(len(goals), top, bottom))\n",
    "        goals.append(Blockworld.make_above_predicate(top, bottom))\n",
    "    goals_with_clearing = [Blockworld.make_is_bottom_of_column_predicate(letters[-1])]+goals\n",
    "\n",
    "    print('Sample initial state', generated[0])\n",
    "\n",
    "    for initial in tqdm(generated):\n",
    "        # HACK HACK check to see if state is above??\n",
    "        # HACK HACK check to see if state is above??\n",
    "        # HACK HACK check to see if state is stored\n",
    "        \n",
    "        problem = Blockworld(initial, goals_with_clearing)\n",
    "        #print(problem.render(initial))\n",
    "        #print('optimal', len(bfs_search(problem)))\n",
    "        for k in range(1, len(problem.goals)+1):\n",
    "            #print('considering k={}'.format(k), end='')\n",
    "            results = [\n",
    "                # returns history, solved\n",
    "                solve_using_ordered_goal_subset(problem, k=k)\n",
    "                for _ in range(3)\n",
    "            ]\n",
    "            '''\n",
    "            if all(solved for history, solved in results):\n",
    "                msg = 'All solved'\n",
    "            elif any(solved for history, solved in results):\n",
    "                msg = 'Some solved'\n",
    "            else:\n",
    "                msg = 'Could not be solved'\n",
    "            print(' {}; # moves in {} trials'.format(msg, len(results)), [len(h) - 1 for h, _ in results])\n",
    "            '''\n",
    "            problem_record[initial, k] = [len(h) - 1 for h, _ in results]\n",
    "\n",
    "print(len(problem_record))"
   ]
  },
  {
   "cell_type": "code",
   "execution_count": 64,
   "metadata": {
    "scrolled": false
   },
   "outputs": [
    {
     "name": "stdout",
     "output_type": "stream",
     "text": [
      "in total, have 134 problems\n",
      "(('B',), ('F', 'E'), ('C', 'D', 'A'))\n"
     ]
    },
    {
     "data": {
      "text/plain": [
       "Text(0, 0.5, 'Average number of moves to solve')"
      ]
     },
     "execution_count": 64,
     "metadata": {},
     "output_type": "execute_result"
    },
    {
     "data": {
      "image/png": "[encoded data removed]",
      "text/plain": [
       "<Figure size 432x288 with 1 Axes>"
      ]
     },
     "metadata": {
      "needs_background": "light"
     },
     "output_type": "display_data"
    }
   ],
   "source": [
    "# TODO need to look at problem_record\n",
    "problem_record_nested = {}\n",
    "for (problem, k), solves in problem_record.items():\n",
    "    problem_record_nested.setdefault(problem, {})[k] = np.mean(solves)\n",
    "\n",
    "# oo multi drops (('C', 'F', 'A'), ('E',), ('D', 'G'), ('H', 'B'))\n",
    "# snakey? (('D', 'G', 'E', 'C'), ('B', 'F'), ('H', 'A'))\n",
    "# interesting (and large) variance (('G', 'B', 'F', 'C'), ('A',), ('E', 'H', 'D'))\n",
    "print(f'in total, have {len(problem_record_nested)} problems')\n",
    "\n",
    "problem = random.choice(list(problem_record_nested.keys()))\n",
    "print(problem)\n",
    "problem = (('A', 'H', 'G', 'E'), ('C', 'F'), ('D', 'B'))\n",
    "\n",
    "\n",
    "\n",
    "\n",
    "problem_k_to_length = problem_record_nested[problem]\n",
    "ks = range(1, max(problem_k_to_length.keys())+1)\n",
    "plt.figure()\n",
    "plt.plot(ks, [problem_k_to_length[k] for k in ks])\n",
    "plt.title(problem)\n",
    "plt.xlabel('k - number of goals considered')\n",
    "plt.ylabel('Average number of moves to solve')"
   ]
  },
  {
   "cell_type": "code",
   "execution_count": 62,
   "metadata": {},
   "outputs": [
    {
     "name": "stdout",
     "output_type": "stream",
     "text": [
      "score 12.333333333333334\n",
      "score 12.0\n",
      "score 15.0\n",
      "score 6.0\n",
      "score -5.0\n"
     ]
    }
   ],
   "source": [
    "def score_k_differentiability(problem_k_to_length):\n",
    "    ks = range(1, max(problem_k_to_length.keys())+1)\n",
    "    num_moves = [problem_k_to_length[k] for k in ks]\n",
    "\n",
    "    # HACK might be better to get the actual range instead?\n",
    "    # This may not work for various reasons...\n",
    "    moves_range = num_moves[0]-num_moves[-1]\n",
    "\n",
    "    num_drops = sum(1 if num_moves[idx-1] > num_moves[idx] else 0 for idx in range(1, len(num_moves)))\n",
    "\n",
    "    # We want considering more goals to mean you will be more efficient\n",
    "    # We also think that it's best for this efficiency to be well-distributed\n",
    "    # across the different k, so upweight based on that.\n",
    "    return moves_range + 5 * (num_drops-1)\n",
    "\n",
    "\n",
    "probs = [\n",
    "    # interesting probs\n",
    "    (('C', 'F', 'A'), ('E',), ('D', 'G'), ('H', 'B')),\n",
    "    (('D', 'G', 'E', 'C'), ('B', 'F'), ('H', 'A')),\n",
    "    (('G', 'B', 'F', 'C'), ('A',), ('E', 'H', 'D')),\n",
    "    # not interesting\n",
    "    # 2 drops, but only 1 overall decrease\n",
    "    (('C', 'E'), ('B',), ('F', 'A', 'D')),\n",
    "    # flat line\n",
    "    (('G', 'E', 'D'), ('C',), ('A', 'F', 'B'))\n",
    "]\n",
    "\n",
    "for p in probs:\n",
    "    print('score', score_k_differentiability(problem_record_nested[p]))"
   ]
  },
  {
   "cell_type": "code",
   "execution_count": 75,
   "metadata": {},
   "outputs": [
    {
     "name": "stdout",
     "output_type": "stream",
     "text": [
      "24.0 (('G', 'F', 'D'), ('E', 'H', 'B', 'A', 'C'), ()) {1: 24.0, 2: 18.0, 3: 17.333333333333332, 4: 17.666666666666668, 5: 17.0, 6: 15.0, 7: 15.0, 8: 15.0}\n",
      "19.0 (('A', 'H', 'G', 'E'), ('C', 'F'), ('D', 'B')) {1: 18.0, 2: 19.0, 3: 17.0, 4: 16.333333333333332, 5: 14.333333333333334, 6: 14.0, 7: 14.0, 8: 14.0}\n",
      "19.0 (('D', 'C'), ('F', 'G', 'B'), ('E', 'H'), ('A',)) {1: 15.0, 2: 13.0, 3: 13.333333333333334, 4: 13.0, 5: 11.333333333333334, 6: 11.0, 7: 11.0}\n",
      "17.666666666666664 (('G', 'D', 'C'), ('F', 'B'), (), ('E', 'A')) {1: 12.666666666666666, 2: 11.0, 3: 10.666666666666666, 4: 10.333333333333334, 5: 10.0, 6: 10.0, 7: 10.0}\n",
      "17.333333333333336 (('C', 'G', 'A'), ('E',), ('F', 'B', 'D'), ()) {1: 14.333333333333334, 2: 13.666666666666666, 3: 13.333333333333334, 4: 12.0, 5: 12.333333333333334, 6: 12.0, 7: 12.0}\n",
      "17.0 (('D',), ('E', 'G', 'B', 'C', 'A', 'F'), ()) {1: 21.0, 2: 17.0, 3: 16.0, 4: 14.0, 5: 14.0, 6: 14.0, 7: 14.0}\n",
      "16.333333333333336 (('D',), ('F', 'E', 'G', 'H', 'B', 'A'), ('C',)) {1: 15.333333333333334, 2: 15.666666666666666, 3: 15.333333333333334, 4: 16.666666666666668, 5: 15.0, 6: 14.333333333333334, 7: 14.0, 8: 14.0}\n",
      "16.333333333333332 (('E', 'B'), ('H', 'A', 'C'), ('F', 'G', 'D')) {1: 16.333333333333332, 2: 16.0, 3: 15.666666666666666, 4: 15.333333333333334, 5: 15.0, 6: 15.0, 7: 15.0, 8: 15.0}\n",
      "16.0 (('F', 'C'), ('E', 'G', 'B', 'A'), ('H', 'D')) {1: 21.0, 2: 25.0, 3: 19.666666666666668, 4: 17.0, 5: 15.0, 6: 15.0, 7: 15.0, 8: 15.0}\n",
      "15.0 (('G', 'B', 'F', 'C'), ('A',), ('E', 'H', 'D')) {1: 20.0, 2: 17.0, 3: 18.333333333333332, 4: 15.0, 5: 15.666666666666666, 6: 15.0, 7: 15.0, 8: 15.0}\n",
      "15.0 (('F', 'B'), ('G',), ('H', 'D', 'E', 'C', 'A')) {1: 20.0, 2: 15.0, 3: 15.666666666666666, 4: 16.0, 5: 15.666666666666666, 6: 15.0, 7: 15.0, 8: 15.0}\n",
      "15.0 (('C',), ('F', 'E', 'H', 'A', 'D'), ('B', 'G')) {1: 20.0, 2: 16.333333333333332, 3: 15.0, 4: 15.0, 5: 15.333333333333334, 6: 15.0, 7: 15.0, 8: 15.0}\n",
      "14.333333333333332 (('C', 'G', 'A'), ('E',), ('H', 'B', 'D'), ('F',)) {1: 16.333333333333332, 2: 14.0, 3: 14.333333333333334, 4: 12.0, 5: 12.666666666666666, 6: 12.0, 7: 12.0, 8: 12.0}\n",
      "14.0 (('E', 'C'), ('A', 'D'), ('F', 'B', 'G')) {1: 16.0, 2: 14.666666666666666, 3: 13.333333333333334, 4: 12.0, 5: 12.0, 6: 12.0, 7: 12.0}\n",
      "13.666666666666668 (('G',), ('B', 'A'), ('D', 'H', 'F', 'C', 'E')) {1: 17.666666666666668, 2: 15.0, 3: 15.0, 4: 14.666666666666666, 5: 14.0, 6: 14.0, 7: 14.0, 8: 14.0}\n",
      "13.333333333333334 (('A', 'G', 'E'), ('F', 'D'), ('C',), ('B',)) {1: 13.333333333333334, 2: 10.666666666666666, 3: 10.0, 4: 10.333333333333334, 5: 10.0, 6: 10.0, 7: 10.0}\n",
      "13.0 (('C',), ('E', 'B', 'A'), ('D', 'G', 'F')) {1: 16.0, 2: 19.0, 3: 14.0, 4: 14.0, 5: 13.333333333333334, 6: 13.0, 7: 13.0}\n",
      "13.0 (('G', 'A', 'C'), ('B', 'D', 'F'), ('E',)) {1: 14.0, 2: 11.0, 3: 12.0, 4: 11.333333333333334, 5: 11.0, 6: 11.0, 7: 11.0}\n",
      "13.0 (('C',), ('F', 'D', 'B'), ('G', 'A', 'E'), ()) {1: 13.0, 2: 11.666666666666666, 3: 11.666666666666666, 4: 10.333333333333334, 5: 10.0, 6: 10.0, 7: 10.0}\n",
      "13.0 (('B', 'D', 'F'), ('H', 'G', 'A', 'C'), ('E',)) {1: 14.0, 2: 11.0, 3: 12.0, 4: 11.333333333333334, 5: 11.0, 6: 11.0, 7: 11.0, 8: 11.0}\n",
      "12.333333333333334 (('C', 'F', 'A'), ('E',), ('D', 'G'), ('H', 'B')) {1: 13.333333333333334, 2: 13.333333333333334, 3: 12.333333333333334, 4: 12.0, 5: 12.0, 6: 11.0, 7: 11.0, 8: 11.0}\n",
      "12.0 (('D', 'G', 'E', 'C'), ('B', 'F'), ('H', 'A')) {1: 16.0, 2: 15.666666666666666, 3: 14.333333333333334, 4: 14.0, 5: 14.0, 6: 14.0, 7: 14.0, 8: 14.0}\n",
      "11.0 (('F', 'A', 'D'), ('E', 'B', 'H'), ('G', 'C')) {1: 19.0, 2: 29.0, 3: 19.0, 4: 19.0, 5: 19.333333333333332, 6: 19.0, 7: 18.0, 8: 18.0}\n",
      "10.0 (('C', 'F', 'E', 'D'), ('A', 'G'), ('B',)) {1: 11.0, 2: 12.333333333333334, 3: 13.666666666666666, 4: 11.666666666666666, 5: 11.333333333333334, 6: 11.0, 7: 11.0}\n",
      "9.666666666666668 (('F', 'G', 'C'), ('E', 'H', 'D'), ('A', 'B')) {1: 16.666666666666668, 2: 12.666666666666666, 3: 12.666666666666666, 4: 12.666666666666666, 5: 12.0, 6: 12.0, 7: 12.0, 8: 12.0}\n",
      "9.333333333333334 (('A', 'F', 'D'), ('B',), ('E', 'C')) {1: 13.333333333333334, 2: 10.0, 3: 9.0, 4: 9.0, 5: 9.0, 6: 9.0}\n",
      "9.0 (('D', 'F', 'B', 'C'), (), ('E', 'A')) {1: 15.0, 2: 11.333333333333334, 3: 11.666666666666666, 4: 11.0, 5: 11.0, 6: 11.0}\n",
      "8.666666666666666 ((), ('F', 'D', 'C', 'B'), ('G', 'E', 'A')) {1: 14.666666666666666, 2: 11.333333333333334, 3: 11.666666666666666, 4: 11.0, 5: 11.0, 6: 11.0, 7: 11.0}\n",
      "8.666666666666666 (('E', 'C'), ('F', 'D'), ('A',), ('B', 'G')) {1: 13.666666666666666, 2: 12.0, 3: 10.0, 4: 10.0, 5: 10.0, 6: 10.0, 7: 10.0}\n",
      "8.0 (('C', 'A'), ('D', 'G', 'F'), ('B', 'E')) {1: 15.0, 2: 14.666666666666666, 3: 12.0, 4: 12.0, 5: 12.0, 6: 12.0, 7: 12.0}\n"
     ]
    }
   ],
   "source": [
    "problems = list(problem_record_nested.keys())\n",
    "problem_scores = [score_k_differentiability(problem_record_nested[p]) for p in problems]\n",
    "\n",
    "for pidx in sorted(range(len(problems)), key=lambda pidx: problem_scores[pidx], reverse=True)[:30]:\n",
    "    p = problems[pidx]\n",
    "    print(problem_scores[pidx], p, problem_record_nested[p])\n"
   ]
  },
  {
   "cell_type": "code",
   "execution_count": 74,
   "metadata": {},
   "outputs": [
    {
     "name": "stdout",
     "output_type": "stream",
     "text": [
      "Goal 0: F on top of G\n",
      "Goal 1: E on top of F\n",
      "Goal 2: D on top of E\n",
      "Goal 3: C on top of D\n",
      "Goal 4: B on top of C\n",
      "Goal 5: A on top of B\n",
      "9.46 s ± 274 ms per loop (mean ± std. dev. of 7 runs, 1 loop each)\n",
      "7.93 s ± 274 ms per loop (mean ± std. dev. of 7 runs, 1 loop each)\n",
      "15.4 s ± 620 ms per loop (mean ± std. dev. of 7 runs, 1 loop each)\n",
      "11.4 s ± 460 ms per loop (mean ± std. dev. of 7 runs, 1 loop each)\n"
     ]
    }
   ],
   "source": [
    "# Trying to figure out if state canonicalization helps our perf as branching factor gets large\n",
    "\n",
    "initial = (('B',), ('D', 'E'), ('F', 'C', 'G', 'A'))\n",
    "letters = sorted([l for ls in initial for l in ls])\n",
    "goals = []\n",
    "for top, bottom in reversed(list(zip(letters[:-1], letters[1:]))):\n",
    "    print('Goal {}: {} on top of {}'.format(len(goals), top, bottom))\n",
    "    goals.append(Blockworld.make_above_predicate(top, bottom))\n",
    "goals_with_clearing = [Blockworld.make_is_bottom_of_column_predicate(letters[-1])]+goals\n",
    "\n",
    "def _try_to_solve_this_thing(problem, k):\n",
    "    results = [\n",
    "        # returns history, solved\n",
    "        solve_using_ordered_goal_subset(problem, k=k)\n",
    "        for _ in range(3)\n",
    "    ]\n",
    "\n",
    "\n",
    "#problem = Blockworld(initial, goals_with_clearing)\n",
    "\n",
    "%timeit _try_to_solve_this_thing(Blockworld(initial, goals_with_clearing), 6)\n",
    "%timeit _try_to_solve_this_thing(Blockworld(initial, goals_with_clearing, canonicalize_states=True), 6)\n",
    "%timeit _try_to_solve_this_thing(Blockworld(initial, goals_with_clearing), 7)\n",
    "%timeit _try_to_solve_this_thing(Blockworld(initial, goals_with_clearing, canonicalize_states=True), 7)"
   ]
  },
  {
   "cell_type": "markdown",
   "metadata": {},
   "source": [
    "### Exploring some suboptimalities"
   ]
  },
  {
   "cell_type": "code",
   "execution_count": null,
   "metadata": {},
   "outputs": [],
   "source": [
    "# Why does this fail for even k=4? # moves in 5 trials [29, 29, 29, 29, 29]\n",
    "badstate1 = (('E', 'A', 'D'), ('C', 'F'), ('B',))\n",
    "# or this one fails up to k=3\n",
    "badstate2 = ((), ('A', 'C', 'F'), ('E', 'D', 'B'))\n",
    "\n",
    "# In general, this class of issue seems to have to do with not clearing underneath the largest block...\n",
    "# So, if you're considering k \"on top of\" goals, then you'll optimize with respect to up to k letters\n",
    "# away from your current one. Otherwise, you might leave k+1 letters and further underneath. So in general\n",
    "# 'A' will get stuck underneath an F if we don't explicitly clear F.\n",
    "\n",
    "print('goals without clearing:')\n",
    "p = Blockworld(badstate1, goals)\n",
    "history, solved = solve_using_ordered_goal_subset(p, k=3)\n",
    "assert not solved\n",
    "print('not solved')\n",
    "\n",
    "# So when we add clearing as a goal, this all gets nicely resolved:\n",
    "print('goals with clearing:')\n",
    "p = Blockworld(badstate1, goals_with_clearing)\n",
    "history, solved = solve_using_ordered_goal_subset(p, k=3)\n",
    "assert solved\n",
    "print('solved in {} moves'.format(len(history)-1))"
   ]
  },
  {
   "cell_type": "code",
   "execution_count": null,
   "metadata": {},
   "outputs": [],
   "source": [
    "state = (('B', 'A', 'E', 'F'), (), ('C', 'D'))\n",
    "# How is this optimal with k=1?\n",
    "# After seeing the below with debug=True, it seems this is optimal because there aren't opportunities to\n",
    "# achieve bad intermediate states. So for instance, once E is on F on column 2, D and C\n",
    "# are already in the right order to stack. while we do have to shift A around to get B\n",
    "# on top, we can't block future moves by doing that. So, this is a case where we can't\n",
    "# create bad intermediate states.\n",
    "\n",
    "p = Blockworld(state, goals_with_clearing)\n",
    "\n",
    "print('optimal', bfs_search(p))\n",
    "\n",
    "history, solved = solve_using_ordered_goal_subset(p, k=1, debug=False)\n",
    "print('using k=1', [a for a, s in history if a])"
   ]
  },
  {
   "cell_type": "code",
   "execution_count": null,
   "metadata": {
    "scrolled": false
   },
   "outputs": [],
   "source": [
    "# Why does this sometimes do poorly for k=1?: # moves [29, 7, 7, 7, 29]\n",
    "state = (('B', 'A', 'E', 'F'), (), ('C', 'D'))\n",
    "\n",
    "# Answer: This does poorly because we sometimes stack F on top of D, which is a weird thing to do and\n",
    "# sort of related to the previous cell's long answer. When we add the \"clearing\" goal (that F is on bottom)\n",
    "# this is a non-issue.\n",
    "\n",
    "p = Blockworld(state, goals)\n",
    "\n",
    "print('optimal', bfs_search(p))\n",
    "\n",
    "for _ in range(10):\n",
    "    history, solved = solve_using_ordered_goal_subset(p, k=1, debug=False)\n",
    "    if not solved:\n",
    "        print('rendering suboptimal solution')\n",
    "        for a, s in history:\n",
    "            print(p.render(s))\n",
    "        break\n"
   ]
  }
 ],
 "metadata": {
  "kernelspec": {
   "display_name": "Python 3",
   "language": "python",
   "name": "python3"
  },
  "language_info": {
   "codemirror_mode": {
    "name": "ipython",
    "version": 3
   },
   "file_extension": ".py",
   "mimetype": "text/x-python",
   "name": "python",
   "nbconvert_exporter": "python",
   "pygments_lexer": "ipython3",
   "version": "3.6.4"
  }
 },
 "nbformat": 4,
 "nbformat_minor": 2
}
