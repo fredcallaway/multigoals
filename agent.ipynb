{
 "cells": [
  {
   "cell_type": "code",
   "execution_count": 1,
   "metadata": {},
   "outputs": [],
   "source": [
    "from blockworld import Blockworld\n",
    "from simple_spatial import SimpleSpatial\n",
    "from agent import _considering_a_subset_of_goals, _subset_of_ordered_goals, bfs_search, _all_incomplete_goal_combinations"
   ]
  },
  {
   "cell_type": "markdown",
   "metadata": {},
   "source": [
    "# Blockworld"
   ]
  },
  {
   "cell_type": "code",
   "execution_count": 2,
   "metadata": {},
   "outputs": [
    {
     "name": "stdout",
     "output_type": "stream",
     "text": [
      "Considering a subset of goals (of size k)\n",
      "\n",
      "Sussman's anomaly!\n",
      "...\n",
      "C..\n",
      "AB.\n",
      "\n",
      "\n",
      "won't halt when k=1.\n",
      "Did not find solution in 19 actions\n",
      "\n",
      "but it does when k=2\n",
      "Found solution in 3 actions [('C', 2), ('B', 2), ('A', 2)]\n"
     ]
    }
   ],
   "source": [
    "problem = Blockworld(\n",
    "    (('A', 'C'), ('B',), ()),\n",
    "    (\n",
    "        Blockworld.make_above_predicate('B', 'C'),\n",
    "        Blockworld.make_above_predicate('A', 'B'),\n",
    "    ),\n",
    ")\n",
    "\n",
    "print('Considering a subset of goals (of size k)')\n",
    "print(\"\\nSussman's anomaly!\")\n",
    "print(problem.render(problem.initial))\n",
    "print(\"\\nwon't halt when k=1.\")\n",
    "_considering_a_subset_of_goals(problem)\n",
    "print('\\nbut it does when k=2')\n",
    "_considering_a_subset_of_goals(problem, k=2)"
   ]
  },
  {
   "cell_type": "code",
   "execution_count": 3,
   "metadata": {},
   "outputs": [
    {
     "name": "stdout",
     "output_type": "stream",
     "text": [
      "\n",
      "Making things more complex, and demonstrating a case where a subset (of size k=1) of goals may be suboptimal because of intermediate states.\n",
      "...\n",
      "...\n",
      "AB.\n",
      "DC.\n",
      "\n",
      "Found solution in 5 actions [('A', 2), ('B', 2), ('C', 0), ('B', 0), ('A', 0)]\n",
      "By swapping the order of our start state columns, this can take longer or shorter:\n",
      "Found solution in 6 actions [('B', 2), ('A', 2), ('C', 1), ('A', 0), ('B', 1), ('A', 1)]\n"
     ]
    }
   ],
   "source": [
    "print(\n",
    "    '\\nMaking things more complex, and demonstrating a case where a subset (of size k=1) of goals '\n",
    "    'may be suboptimal because of intermediate states.')\n",
    "# This problem is degenerate when you consider all goal subsets.\n",
    "# By assuming goals are ordered, we avoid some of those issues.\n",
    "problem = Blockworld(\n",
    "    (('D', 'A'), ('C', 'B'), ()),\n",
    "    [\n",
    "        Blockworld.make_above_predicate(top, bottom)\n",
    "        for (top, bottom) in [('C', 'D'), ('B', 'C'), ('A', 'B')]\n",
    "    ],\n",
    ")\n",
    "print(problem.render(problem.initial))\n",
    "_considering_a_subset_of_goals(problem, k=1, subset_fn=_subset_of_ordered_goals)\n",
    "\n",
    "print('By swapping the order of our start state columns, this can take longer or shorter:')\n",
    "problem.initial = (('C', 'B'), ('D', 'A'), ())\n",
    "_considering_a_subset_of_goals(problem, k=1, subset_fn=_subset_of_ordered_goals)"
   ]
  },
  {
   "cell_type": "markdown",
   "metadata": {},
   "source": [
    "### Considering all subsets of goals\n",
    "\n",
    "I've written up two functions to consider all subsets of goals (one considers all goals, the other only incomplete goals). The algorithm performs breadth-first search using each subset and picks the action plan that is the shortest. There are many problems with this:\n",
    "  - It's clear that we want to avoid considering complete goals as complete goals don't require moves to be satisfied.\n",
    "  - However, it may be important to consider currently satisfied goals that might need to temporarily not satisfy a goal. Example below...\n",
    "\n",
    "So, this entire enterprise of considering all subsets might be a bad idea, and I can't think of a good alternative besides the \"subsets of ordered goals\" I propose elsewhere."
   ]
  },
  {
   "cell_type": "code",
   "execution_count": 4,
   "metadata": {},
   "outputs": [
    {
     "name": "stdout",
     "output_type": "stream",
     "text": [
      "Optimal path is 5 steps\n",
      "Did not find solution in 19 actions\n"
     ]
    }
   ],
   "source": [
    "problem = Blockworld(\n",
    "    (('D', 'A'), ('C', 'B'), ()),\n",
    "    [\n",
    "        Blockworld.make_above_predicate(top, bottom)\n",
    "        for (top, bottom) in [('C', 'D'), ('B', 'C'), ('A', 'B')]\n",
    "    ],\n",
    ")\n",
    "print('Optimal path is {} steps'.format(len(bfs_search(problem))))\n",
    "_considering_a_subset_of_goals(problem, k=2)"
   ]
  },
  {
   "cell_type": "code",
   "execution_count": 5,
   "metadata": {},
   "outputs": [
    {
     "name": "stdout",
     "output_type": "stream",
     "text": [
      "State at t=1\n",
      "...\n",
      "...\n",
      "AB.\n",
      "DC.\n",
      "\n",
      "State at t=2\n",
      "...\n",
      "...\n",
      "A..\n",
      "DCB\n",
      "\n",
      "State at t=3\n",
      "...\n",
      "...\n",
      "..A\n",
      "DCB\n",
      "\n",
      "State at t=4\n",
      "...\n",
      "...\n",
      "C.A\n",
      "D.B\n",
      "\n",
      "State at t=5\n",
      "...\n",
      "...\n",
      "C..\n",
      "DAB\n",
      "\n",
      "State at t=6\n",
      "...\n",
      "B..\n",
      "C..\n",
      "DA.\n",
      "\n",
      "State at t=7\n",
      "A..\n",
      "B..\n",
      "C..\n",
      "D..\n",
      "\n",
      "Found solution in 6 actions [('B', 2), ('A', 2), ('C', 0), ('A', 1), ('B', 0), ('A', 0)]\n"
     ]
    }
   ],
   "source": [
    "# Can't even find optimal solution using all incomplete goal combinations because some goals start off satisfied...\n",
    "_considering_a_subset_of_goals(problem, k=3, subset_fn=_all_incomplete_goal_combinations, debug=True)"
   ]
  },
  {
   "cell_type": "code",
   "execution_count": 6,
   "metadata": {},
   "outputs": [
    {
     "name": "stdout",
     "output_type": "stream",
     "text": [
      "\n",
      "This is an example from my xls writeup that is interesting for k=2\n",
      "...\n",
      "...\n",
      ".B.\n",
      "AC.\n",
      "ED.\n",
      "\n",
      "Optimal solution has 7 steps.\n",
      "When k=2, we can only sometimes solve optimally:\n",
      "Found solution in 7 actions [('A', 2), ('B', 2), ('C', 2), ('D', 0), ('C', 0), ('B', 0), ('A', 0)]\n"
     ]
    }
   ],
   "source": [
    "print('\\nThis is an example from my xls writeup that is interesting for k=2')\n",
    "problem = Blockworld(\n",
    "    (('E', 'A'), ('D', 'C', 'B'), ()),\n",
    "    [\n",
    "        Blockworld.make_above_predicate(top, bottom)\n",
    "        for (top, bottom) in [('D', 'E'), ('C', 'D'), ('B', 'C'), ('A', 'B')]\n",
    "    ],\n",
    ")\n",
    "print(problem.render(problem.initial))\n",
    "\n",
    "print('Optimal solution has {} steps.'.format(len(bfs_search(problem))))\n",
    "\n",
    "print('When k=2, we can only sometimes solve optimally:')\n",
    "_considering_a_subset_of_goals(problem, k=2, subset_fn=_subset_of_ordered_goals)"
   ]
  },
  {
   "cell_type": "code",
   "execution_count": 7,
   "metadata": {},
   "outputs": [
    {
     "name": "stdout",
     "output_type": "stream",
     "text": [
      "But we sometimes can't depending on problem state:\n",
      "Found solution in 8 actions [('B', 2), ('A', 2), ('C', 2), ('D', 1), ('C', 1), ('A', 0), ('B', 1), ('A', 1)]\n"
     ]
    }
   ],
   "source": [
    "print('But we sometimes can\\'t depending on problem state:')\n",
    "problem.initial = (('D', 'C', 'B'), ('E', 'A'), ())\n",
    "_considering_a_subset_of_goals(problem, k=2, subset_fn=_subset_of_ordered_goals)"
   ]
  },
  {
   "cell_type": "markdown",
   "metadata": {},
   "source": [
    "# Simple spatial domain"
   ]
  },
  {
   "cell_type": "code",
   "execution_count": 8,
   "metadata": {
    "scrolled": true
   },
   "outputs": [
    {
     "name": "stdout",
     "output_type": "stream",
     "text": [
      ".....\n",
      "....B\n",
      ".....\n",
      "A..A.\n",
      ".@...\n",
      "\n",
      "Optimal (6 steps): [(1, 0), (1, 0), (0, -1), (1, 0), (0, -1), (0, -1)]\n",
      "Considering one goal:\n",
      "Found solution in 8 actions [(-1, 0), (0, -1), (1, 0), (1, 0), (1, 0), (1, 0), (0, -1), (0, -1)]\n"
     ]
    }
   ],
   "source": [
    "m = [\n",
    "    \".....\",\n",
    "    \"....B\",\n",
    "    \".....\",\n",
    "    \"A..A.\",\n",
    "    \".S...\",\n",
    "]\n",
    "problem = SimpleSpatial(((1, 4), ()), m, [\n",
    "    SimpleSpatial.make_visited_goal(symbol) for symbol in ['A', 'B']])\n",
    "print(problem.render(problem.initial))\n",
    "\n",
    "optimal = bfs_search(problem)\n",
    "print('Optimal ({} steps): {}'.format(len(optimal), optimal))\n",
    "\n",
    "print('Considering one goal:')\n",
    "_considering_a_subset_of_goals(problem, k=1, subset_fn=_subset_of_ordered_goals)"
   ]
  },
  {
   "cell_type": "markdown",
   "metadata": {},
   "source": [
    "Since we're considering subsets of our goals and assuming they're ordered in optimal/required completion ordering, it's important to write our goals in the right order. Here's an example where the goals aren't correctly ordered when specifying the program, which can cause suboptimal paths:"
   ]
  },
  {
   "cell_type": "code",
   "execution_count": 9,
   "metadata": {},
   "outputs": [
    {
     "name": "stdout",
     "output_type": "stream",
     "text": [
      "Considering one goal at a time, out of order:\n",
      "Found solution in 9 actions [(1, 0), (1, 0), (1, 0), (0, -1), (0, -1), (0, -1), (-1, 0), (0, 1), (0, 1)]\n"
     ]
    }
   ],
   "source": [
    "problem = SimpleSpatial(((1, 4), ()), m, [\n",
    "    SimpleSpatial.make_visited_goal(symbol) for symbol in ['B', 'A']])\n",
    "\n",
    "print('Considering one goal at a time, out of order:')\n",
    "_considering_a_subset_of_goals(problem, k=1, subset_fn=_subset_of_ordered_goals)"
   ]
  },
  {
   "cell_type": "code",
   "execution_count": 10,
   "metadata": {},
   "outputs": [
    {
     "name": "stdout",
     "output_type": "stream",
     "text": [
      "\n",
      "More complex example considering 3 goals.\n",
      "...C.\n",
      "B..B.\n",
      ".....\n",
      "A..A.\n",
      ".@...\n",
      "\n",
      "Optimal (6 steps): [(1, 0), (1, 0), (0, -1), (0, -1), (0, -1), (0, -1)]\n",
      "Considering 2 goals:\n",
      "Found solution in 8 actions [(-1, 0), (0, -1), (1, 0), (1, 0), (1, 0), (0, -1), (0, -1), (0, -1)]\n",
      "Considering 1 goal:\n",
      "Found solution in 8 actions [(-1, 0), (0, -1), (0, -1), (0, -1), (1, 0), (1, 0), (1, 0), (0, -1)]\n"
     ]
    }
   ],
   "source": [
    "print('\\nMore complex example considering 3 goals.')\n",
    "m = [\n",
    "    \"...C.\",\n",
    "    \"B..B.\",\n",
    "    \".....\",\n",
    "    \"A..A.\",\n",
    "    \".S...\",\n",
    "]\n",
    "problem = SimpleSpatial(((1, 4), ()), m, [\n",
    "    SimpleSpatial.make_visited_goal(symbol) for symbol in ['A', 'B', 'C']])\n",
    "print(problem.render(problem.initial))\n",
    "\n",
    "optimal = bfs_search(problem)\n",
    "print('Optimal ({} steps): {}'.format(len(optimal), optimal))\n",
    "\n",
    "print('Considering 2 goals:')\n",
    "_considering_a_subset_of_goals(problem, k=2, subset_fn=_subset_of_ordered_goals)\n",
    "\n",
    "print('Considering 1 goal:')\n",
    "_considering_a_subset_of_goals(problem, k=1, subset_fn=_subset_of_ordered_goals)\n"
   ]
  },
  {
   "cell_type": "code",
   "execution_count": null,
   "metadata": {},
   "outputs": [],
   "source": []
  }
 ],
 "metadata": {
  "kernelspec": {
   "display_name": "Python 3",
   "language": "python",
   "name": "python3"
  },
  "language_info": {
   "codemirror_mode": {
    "name": "ipython",
    "version": 3
   },
   "file_extension": ".py",
   "mimetype": "text/x-python",
   "name": "python",
   "nbconvert_exporter": "python",
   "pygments_lexer": "ipython3",
   "version": "3.6.4"
  }
 },
 "nbformat": 4,
 "nbformat_minor": 2
}
