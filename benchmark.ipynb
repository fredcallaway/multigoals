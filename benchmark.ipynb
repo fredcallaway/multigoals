{
 "cells": [
  {
   "cell_type": "code",
   "execution_count": 1,
   "metadata": {},
   "outputs": [],
   "source": [
    "%matplotlib inline\n",
    "\n",
    "import matplotlib.pyplot as plt\n",
    "import numpy as np\n",
    "import pandas as pd\n",
    "import seaborn as sns\n",
    "sns.set_context('notebook', font_scale=1.3)\n",
    "sns.set_style('white')"
   ]
  },
  {
   "cell_type": "code",
   "execution_count": 5,
   "metadata": {},
   "outputs": [],
   "source": [
    "from agent import *\n",
    "from blockworld import Blockworld\n",
    "from generate_problems import generate_blockworld_problems\n",
    "\n",
    "B = k = 6\n",
    "generated, letters = generate_blockworld_problems(seed=42, B=B, n_probs=10)\n",
    "\n",
    "def make_problem(initial):\n",
    "    goals = Blockworld.generate_tower_of_london_goals(initial, column_index=1, debug=False)\n",
    "    return Blockworld(initial, goals)\n",
    "\n",
    "problems = [make_problem(state) for state in generated]"
   ]
  },
  {
   "cell_type": "code",
   "execution_count": 6,
   "metadata": {},
   "outputs": [
    {
     "name": "stdout",
     "output_type": "stream",
     "text": [
      "[9, 11, 11, 12, 10, 11, 8, 12, 8, 7]\n",
      "0.2891968114010524\n"
     ]
    }
   ],
   "source": [
    "from contexttimer import Timer\n",
    "with Timer() as t:\n",
    "    solution_lens = [len(bfs_search(prob)) for prob in problems]\n",
    "bfs_time = t.elapsed / len(problems)\n",
    "print(solution_lens)\n",
    "print(bfs_time)"
   ]
  },
  {
   "cell_type": "code",
   "execution_count": 7,
   "metadata": {},
   "outputs": [],
   "source": [
    "def search_astar(problem, depth_limit):\n",
    "    state = problem.initial\n",
    "    next_goal, goal_test, h = make_ordered_k_goal_cost_heuristic(problem, state, k=k, debug=False)\n",
    "    solutions = A_Star(\n",
    "        problem,\n",
    "        h,\n",
    "        start=state,\n",
    "        goal_test=goal_test,\n",
    "        depth_limit=depth_limit,\n",
    "        return_all_equal_cost_paths=True,\n",
    "        shuffle=False)\n",
    "    return len(solutions[0][0])"
   ]
  },
  {
   "cell_type": "code",
   "execution_count": 8,
   "metadata": {},
   "outputs": [],
   "source": [
    "def search_time(depth_limit):\n",
    "    with Timer() as t:\n",
    "        for problem in problems:\n",
    "            search_astar(problem, depth_limit)\n",
    "    return t.elapsed / len(problems)\n",
    "\n",
    "ds = range(1, 15)\n",
    "a_star_times = [search_time(d) for d in ds]"
   ]
  },
  {
   "cell_type": "code",
   "execution_count": 9,
   "metadata": {},
   "outputs": [
    {
     "data": {
      "image/png": "[encoded data removed]",
      "text/plain": [
       "<Figure size 432x288 with 1 Axes>"
      ]
     },
     "metadata": {},
     "output_type": "display_data"
    }
   ],
   "source": [
    "plt.plot(ds, a_star_times, label='A*')\n",
    "plt.axhline(bfs_time, c='r', label='BFS')\n",
    "plt.legend()\n",
    "plt.xlabel('A* depth')\n",
    "plt.ylabel('Seconds to search');"
   ]
  }
 ],
 "metadata": {
  "anaconda-cloud": {},
  "kernelspec": {
   "display_name": "Python 3",
   "language": "python",
   "name": "python3"
  },
  "language_info": {
   "codemirror_mode": {
    "name": "ipython",
    "version": 3
   },
   "file_extension": ".py",
   "mimetype": "text/x-python",
   "name": "python",
   "nbconvert_exporter": "python",
   "pygments_lexer": "ipython3",
   "version": "3.6.3"
  },
  "nav_menu": {},
  "toc": {
   "navigate_menu": true,
   "number_sections": true,
   "sideBar": true,
   "threshold": 6,
   "toc_cell": false,
   "toc_section_display": "block",
   "toc_window_display": false
  }
 },
 "nbformat": 4,
 "nbformat_minor": 1
}
