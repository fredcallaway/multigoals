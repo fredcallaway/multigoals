{
 "cells": [
  {
   "cell_type": "code",
   "execution_count": 21,
   "metadata": {},
   "outputs": [
    {
     "name": "stdout",
     "output_type": "stream",
     "text": [
      "The autoreload extension is already loaded. To reload it, use:\n",
      "  %reload_ext autoreload\n"
     ]
    }
   ],
   "source": [
    "import numpy as np\n",
    "import matplotlib.pyplot as plt\n",
    "from collections import namedtuple\n",
    "from tqdm import tqdm_notebook as tqdm\n",
    "import random\n",
    "\n",
    "import agent\n",
    "import blockworld\n",
    "\n",
    "from blockworld import Blockworld\n",
    "\n",
    "%matplotlib inline\n",
    "%load_ext autoreload\n",
    "%autoreload 2"
   ]
  },
  {
   "cell_type": "code",
   "execution_count": 22,
   "metadata": {},
   "outputs": [
    {
     "name": "stdout",
     "output_type": "stream",
     "text": [
      "['A', 'B', 'C']\n"
     ]
    }
   ],
   "source": [
    "def make_letters(start, number):\n",
    "    '''Returns list of `number` letters, starting from `start`. Letters are generated in ASCII sequence.'''\n",
    "    return [chr(ord(start) + i) for i in range(number)]\n",
    "\n",
    "abc = make_letters('A', 3)\n",
    "print(abc)\n",
    "assert abc == ['A', 'B', 'C']\n",
    "_def = make_letters('D', 3)\n",
    "assert _def == ['D', 'E', 'F']"
   ]
  },
  {
   "cell_type": "code",
   "execution_count": 226,
   "metadata": {
    "scrolled": false
   },
   "outputs": [
    {
     "name": "stdout",
     "output_type": "stream",
     "text": [
      "Sample initial state (('B',), ('A',), ('C',)) ['A', 'B', 'C']\n"
     ]
    }
   ],
   "source": [
    "def generate_blockworld_problem(\n",
    "    B,\n",
    "    heights,\n",
    "    n_probs=100,\n",
    "    seed=None,\n",
    "):\n",
    "    '''\n",
    "    Generate blockworld problem.\n",
    "\n",
    "    The problem has number of letters B and spaces S.\n",
    "    To generate, we randomly select a letter (without replacement)\n",
    "    and place it at a random space, ensuring that height constraints\n",
    "    are satisfied.\n",
    "    '''\n",
    "    S = len(heights)\n",
    "    problems = []\n",
    "    letters = make_letters('A', B)\n",
    "    spaces = range(S)\n",
    "\n",
    "    # You have B letters and S spaces. Until all have been placed,\n",
    "    # choose random letter without replacement to put at random space.\n",
    "    initial = [() for _ in spaces]\n",
    "    for letter in np.random.permutation(letters):\n",
    "        space = np.random.choice([s for s in spaces if len(initial[s]) < heights[s]])\n",
    "        initial[space] += (letter,)\n",
    "    return tuple(initial), letters\n",
    "\n",
    "heights = (3, 2, 1)\n",
    "initial, letters = generate_blockworld_problem(3, heights)\n",
    "print('Sample initial state', initial, letters)\n",
    "\n",
    "def _generate_standard_goals_for_tol(initial, column_index=0, debug=True):\n",
    "    letters = sorted([l for ls in initial for l in ls])\n",
    "    goals = []\n",
    "    for top, bottom in reversed(list(zip(letters[:-1], letters[1:]))):\n",
    "        goals.append(Blockworld.make_above_predicate(top, bottom))\n",
    "    goals_with_clearing = [Blockworld.make_is_bottom_of_column_predicate(letters[-1], column_index=column_index)]+goals\n",
    "    if debug:\n",
    "        for idx, g in enumerate(goals_with_clearing):\n",
    "            print('Goal {}: {}'.format(idx, g.__name__))\n",
    "    return goals_with_clearing\n"
   ]
  },
  {
   "cell_type": "code",
   "execution_count": 227,
   "metadata": {},
   "outputs": [
    {
     "name": "stdout",
     "output_type": "stream",
     "text": [
      "Example initial ((), ('D', 'B', 'A'), ('C', 'E'))\n",
      "total 200 unique 188\n",
      "Goal 0: E is at the bottom of column 0\n",
      "Goal 1: D is on top of E\n",
      "Goal 2: C is on top of D\n",
      "Goal 3: B is on top of C\n",
      "Goal 4: A is on top of B\n"
     ]
    }
   ],
   "source": [
    "B = 5\n",
    "\n",
    "heights = (B, B-1, B-2)\n",
    "generated = []\n",
    "for _ in range(200):\n",
    "    initial, _ = generate_blockworld_problem(B, heights)\n",
    "    generated.append(initial)\n",
    "\n",
    "print('Example initial', generated[0])\n",
    "print('total', len(generated), 'unique', len(set(generated)))\n",
    "\n",
    "generated = list(set(generated))\n",
    "goals_with_clearing = _generate_standard_goals_for_tol(generated[0])"
   ]
  },
  {
   "cell_type": "code",
   "execution_count": 106,
   "metadata": {
    "scrolled": false
   },
   "outputs": [
    {
     "data": {
      "application/vnd.jupyter.widget-view+json": {
       "model_id": "cdb85b189bb24aa28d18b157c062d5a6",
       "version_major": 2,
       "version_minor": 0
      },
      "text/plain": [
       "HBox(children=(IntProgress(value=0, max=192), HTML(value='')))"
      ]
     },
     "metadata": {},
     "output_type": "display_data"
    },
    {
     "name": "stdout",
     "output_type": "stream",
     "text": [
      "\n"
     ]
    }
   ],
   "source": [
    "allres = []\n",
    "kvals = range(1, len(goals_with_clearing)+1)\n",
    "\n",
    "for initial in tqdm(generated):\n",
    "    problem = Blockworld(initial, goals_with_clearing, height_limits=heights)\n",
    "    #print('\\nNew problem:', initial)\n",
    "    #print(problem.render(initial))\n",
    "    len_optimal = len(agent.bfs_search(problem))\n",
    "    #print('optimal', len_optimal)\n",
    "    kres = []\n",
    "    for k in kvals:\n",
    "        #print('considering k={}'.format(k), end='')\n",
    "        results = [\n",
    "            # returns history, solved\n",
    "            agent.solve_using_ordered_goal_subset_astar(problem, k=k)\n",
    "            for _ in range(3)\n",
    "        ]\n",
    "        assert all(solved for history, solved in results), 'Did not solve for problem={initial} k={k}'\n",
    "        scores = [len(h) - 1 for h, _ in results]\n",
    "        kres.append(scores)\n",
    "        '''\n",
    "        # HACK HACK maybe for each problem, compute for each k the xxxx\n",
    "        if all(solved for history, solved in results):\n",
    "            msg = 'All solved'\n",
    "        elif any(solved for history, solved in results):\n",
    "            msg = 'Some solved'\n",
    "        else:\n",
    "            msg = 'Could not be solved'\n",
    "        print(' {}; # moves in {} trials'.format(msg, len(results)), [len(h) - 1 for h, _ in results])\n",
    "        '''\n",
    "    allres.append((initial, len_optimal, kvals, kres))\n"
   ]
  },
  {
   "cell_type": "code",
   "execution_count": 107,
   "metadata": {},
   "outputs": [
    {
     "data": {
      "image/png": "[encoded data removed]",
      "text/plain": [
       "<Figure size 432x288 with 1 Axes>"
      ]
     },
     "metadata": {
      "needs_background": "light"
     },
     "output_type": "display_data"
    }
   ],
   "source": [
    "f, ax = plt.subplots()\n",
    "ax.set_xticks(kvals)\n",
    "for row in allres:\n",
    "    initial, len_optimal, kvals, kres = row\n",
    "    alpha = 1.0\n",
    "    if kres[1] == 1.0:\n",
    "        alpha = 0.3\n",
    "    ax.plot(kvals, [np.mean(scores)/len_optimal for scores in kres], alpha=alpha)"
   ]
  },
  {
   "cell_type": "code",
   "execution_count": 229,
   "metadata": {
    "scrolled": true
   },
   "outputs": [
    {
     "name": "stdout",
     "output_type": "stream",
     "text": [
      "score ((), ('D', 'B'), ('C', 'E', 'A')) 2.0\n",
      "score (('C',), ('B', 'A', 'D'), ('E',)) 2.0\n",
      "score (('E',), ('C', 'A', 'D'), ('B',)) 2.0\n",
      "score (('D',), ('B', 'A'), ('E', 'C')) 2.0\n",
      "score (('E', 'C'), ('D', 'B', 'A'), ()) 2.1999999999999993\n",
      "score ((), ('C', 'E', 'B'), ('D', 'A')) 2.4000000000000004\n",
      "score (('E', 'A'), ('C', 'B'), ('D',)) 2.4000000000000004\n",
      "score (('C',), ('B', 'A', 'E'), ('D',)) 2.5999999999999996\n",
      "score ((), ('B', 'A', 'E', 'C'), ('D',)) 2.5999999999999996\n",
      "score (('D', 'B'), ('A', 'C', 'E'), ()) 3.0\n",
      "score ((), ('C', 'B', 'A', 'D', 'E'), ()) 3.0\n",
      "score ((), ('B', 'A', 'D'), ('E', 'C')) 3.0\n",
      "score (('E',), ('C', 'B', 'A'), ('D',)) 3.0\n",
      "score ((), ('C', 'B', 'A', 'D'), ('E',)) 3.0\n",
      "score (('E',), ('C', 'B', 'A', 'D'), ()) 3.0\n",
      "score (('E',), ('C', 'A', 'B'), ('D',)) 3.0\n",
      "score (('E',), ('C', 'A', 'B', 'D'), ()) 3.0\n",
      "score (('E', 'D'), ('C', 'B', 'A'), ()) 3.1999999999999993\n",
      "score ((), ('C', 'E', 'A'), ('D', 'B')) 3.5999999999999996\n",
      "score (('D', 'B', 'A'), ('C', 'E'), ()) 3.8000000000000007\n"
     ]
    }
   ],
   "source": [
    "def score_k_differentiability(row):\n",
    "    initial, len_optimal, kvals, kres = row\n",
    "\n",
    "    num_moves = [np.mean(scores) for scores in kres]\n",
    "\n",
    "    # HACK might be better to get the actual range instead?\n",
    "    # This may not work for various reasons...\n",
    "    moves_range = num_moves[0]-num_moves[-1]\n",
    "\n",
    "    #num_drops = sum(1 if num_moves[idx-1] > num_moves[idx] else 0 for idx in range(1, len(num_moves)))\n",
    "    num_drops = sum(\n",
    "        1 if num_moves[idx-1] > num_moves[idx] + 0.5 else 0\n",
    "        for idx in range(1, len(num_moves)))\n",
    "    num_increases = sum(\n",
    "        1 if num_moves[idx-1] < num_moves[idx] else 0\n",
    "        for idx in range(1, len(num_moves)))\n",
    "\n",
    "    return (moves_range-2) + num_drops - num_increases\n",
    "    # We want considering more goals to mean you will be more efficient\n",
    "    # We also think that it's best for this efficiency to be well-distributed\n",
    "    # across the different k, so upweight based on that.\n",
    "    return moves_range + 5 * (num_drops-1)\n",
    "\n",
    "allres = d['B=5,H=5,5,5']\n",
    "\n",
    "kdiff = [score_k_differentiability(row) for row in allres]\n",
    "\n",
    "for (initial, len_optimal, kvals, kres), kd in sorted(zip(allres, kdiff), key=lambda pair: pair[-1])[-20:]:\n",
    "    print('score', initial, kd)"
   ]
  },
  {
   "cell_type": "code",
   "execution_count": 231,
   "metadata": {
    "scrolled": false
   },
   "outputs": [
    {
     "data": {
      "image/png": "[encoded data removed]",
      "text/plain": [
       "<Figure size 432x288 with 1 Axes>"
      ]
     },
     "metadata": {
      "needs_background": "light"
     },
     "output_type": "display_data"
    }
   ],
   "source": [
    "problem = ((), ('C', 'E', 'A'), ('D', 'B'))\n",
    "initial, len_optimal, kvals, kres = next(row for row in allres if row[0] == problem)\n",
    "\n",
    "f, ax = plt.subplots()\n",
    "ax.set_title('Problem {}'.format(problem))\n",
    "ax.set_xlabel('k - # of goals considered')\n",
    "ax.set_ylabel(f'Mean # of moves to solve out of {len(kres[1])} trials\\ndashed lines are min/max')\n",
    "\n",
    "color = 'b'\n",
    "ax.plot(kvals, [np.mean(k) for k in kres], color+'-o')\n",
    "ax.plot(kvals, [np.max(k) for k in kres], color+'--')\n",
    "ax.plot(kvals, [np.min(k) for k in kres], color+'--')\n",
    "ax.set_xticks(kvals)\n",
    "\n",
    "None"
   ]
  },
  {
   "cell_type": "code",
   "execution_count": 210,
   "metadata": {},
   "outputs": [
    {
     "name": "stdout",
     "output_type": "stream",
     "text": [
      "{\n",
      "  \"initial\": [[\"B\", \"E\", \"A\"], [\"C\"], [\"D\"]],\n",
      "  \"goal\": [[\"E\", \"D\", \"C\", \"B\", \"A\"], [], []],\n",
      "  \"heightLimits\": [5, 4, 3]\n",
      "}\n"
     ]
    }
   ],
   "source": [
    "import json\n",
    "#initial = (('D',), ('B', 'E', 'A', 'C'), ())\n",
    "out = dict(\n",
    "    initial=initial,\n",
    "    goal=(tuple(sorted((l for c in initial for l in c), reverse=True)), (), ()),\n",
    "    heightLimits=heights,\n",
    ")\n",
    "\n",
    "print('{')\n",
    "for idx, (key, value) in enumerate(out.items()):\n",
    "    end = '' if idx == len(out)-1 else ','\n",
    "    print(f'  \"{key}\": {json.dumps(value)}{end}')\n",
    "print('}')"
   ]
  },
  {
   "cell_type": "code",
   "execution_count": 238,
   "metadata": {
    "scrolled": false
   },
   "outputs": [
    {
     "name": "stdout",
     "output_type": "stream",
     "text": [
      "Goal 0: E is at the bottom of column 2\n",
      "Goal 1: D is on top of E\n",
      "Goal 2: C is on top of D\n",
      "Goal 3: B is on top of C\n",
      "Goal 4: A is on top of B\n",
      "State at t=1\n",
      "...\n",
      "...\n",
      ".A.\n",
      ".EB\n",
      ".CD\n",
      "Current goals: ['E is at the bottom of column 2', 'D is on top of E']\n",
      "Planned to get to (('B', 'A'), ('C',), ('E', 'D')) via actions [('B', 0), ('A', 0), ('D', 0), ('E', 2), ('D', 2)]\n",
      "\n",
      "State at t=2\n",
      "...\n",
      "...\n",
      ".A.\n",
      ".E.\n",
      "BCD\n",
      "\n",
      "State at t=3\n",
      "...\n",
      "...\n",
      "...\n",
      "AE.\n",
      "BCD\n",
      "\n",
      "State at t=4\n",
      "...\n",
      "...\n",
      "D..\n",
      "AE.\n",
      "BC.\n",
      "\n",
      "State at t=5\n",
      "...\n",
      "...\n",
      "D..\n",
      "A..\n",
      "BCE\n",
      "* Halted execution of action plan because we satisfied goal \"E is at the bottom of column 2\".\n",
      "State at t=5\n",
      "...\n",
      "...\n",
      "D..\n",
      "A..\n",
      "BCE\n",
      "Current goals: ['D is on top of E', 'C is on top of D']\n",
      "Planned to get to (('B', 'A'), (), ('E', 'D', 'C')) via actions [('D', 2), ('C', 2)]\n",
      "\n",
      "State at t=6\n",
      "...\n",
      "...\n",
      "...\n",
      "A.D\n",
      "BCE\n",
      "* Halted execution of action plan because we satisfied goal \"D is on top of E\".\n",
      "State at t=6\n",
      "...\n",
      "...\n",
      "...\n",
      "A.D\n",
      "BCE\n",
      "Current goals: ['C is on top of D', 'B is on top of C']\n",
      "Planned to get to ((), ('A',), ('E', 'D', 'C', 'B')) via actions [('C', 2), ('A', 1), ('B', 2)]\n",
      "\n",
      "State at t=7\n",
      "...\n",
      "...\n",
      "..C\n",
      "A.D\n",
      "B.E\n",
      "* Halted execution of action plan because we satisfied goal \"C is on top of D\".\n",
      "State at t=7\n",
      "...\n",
      "...\n",
      "..C\n",
      "A.D\n",
      "B.E\n",
      "Current goals: ['B is on top of C', 'A is on top of B']\n",
      "Planned to get to ((), (), ('E', 'D', 'C', 'B', 'A')) via actions [('A', 1), ('B', 2), ('A', 2)]\n",
      "\n",
      "State at t=8\n",
      "...\n",
      "...\n",
      "..C\n",
      "..D\n",
      "BAE\n",
      "\n",
      "State at t=9\n",
      "...\n",
      "..B\n",
      "..C\n",
      "..D\n",
      ".AE\n",
      "* Halted execution of action plan because we satisfied goal \"B is on top of C\".\n",
      "State at t=9\n",
      "...\n",
      "..B\n",
      "..C\n",
      "..D\n",
      ".AE\n",
      "Current goals: ['A is on top of B']\n",
      "Planned to get to ((), (), ('E', 'D', 'C', 'B', 'A')) via actions [('A', 2)]\n",
      "\n",
      "State at t=10\n",
      "..A\n",
      "..B\n",
      "..C\n",
      "..D\n",
      "..E\n",
      "* Halted execution of action plan because we satisfied goal \"A is on top of B\".\n",
      "State at t=10\n",
      "..A\n",
      "..B\n",
      "..C\n",
      "..D\n",
      "..E\n",
      "actions 9 [('B', 0), ('A', 0), ('D', 0), ('E', 2), ('D', 2), ('C', 2), ('A', 1), ('B', 2), ('A', 2)]\n"
     ]
    }
   ],
   "source": [
    "problem = Blockworld(initial, _generate_standard_goals_for_tol(initial, column_index=1), height_limits=(5, 5, 5))\n",
    "history, solved = agent.solve_using_ordered_goal_subset_astar(problem, k=2, debug=True)"
   ]
  },
  {
   "cell_type": "code",
   "execution_count": 140,
   "metadata": {},
   "outputs": [],
   "source": [
    "# This was a way of seeing why some problems seemed to have super-optimal solutions with A*.\n",
    "# the issue was generated subproblems didn't have height limits\n",
    "for initial, len_optimal, kvals, kres in allres:\n",
    "    if len_optimal != kres[-1][0]:\n",
    "        print('XXX why is this different? problem', initial, len_optimal, kvals, kres)"
   ]
  },
  {
   "cell_type": "code",
   "execution_count": 299,
   "metadata": {},
   "outputs": [
    {
     "name": "stdout",
     "output_type": "stream",
     "text": [
      "Generated 955 unique problems out of 1000\n",
      "Goal 0: F is at the bottom of column 1\n",
      "Goal 1: E is on top of F\n",
      "Goal 2: D is on top of E\n",
      "Goal 3: C is on top of D\n",
      "Goal 4: B is on top of C\n",
      "Goal 5: A is on top of B\n"
     ]
    },
    {
     "data": {
      "application/vnd.jupyter.widget-view+json": {
       "model_id": "c5f7676d9e764577814876ad9ab0389e",
       "version_major": 2,
       "version_minor": 0
      },
      "text/plain": [
       "HBox(children=(IntProgress(value=0, max=955), HTML(value='')))"
      ]
     },
     "metadata": {},
     "output_type": "display_data"
    },
    {
     "name": "stdout",
     "output_type": "stream",
     "text": [
      "Generated 959 unique problems out of 1000\n",
      "Goal 0: F is at the bottom of column 0\n",
      "Goal 1: E is on top of F\n",
      "Goal 2: D is on top of E\n",
      "Goal 3: C is on top of D\n",
      "Goal 4: B is on top of C\n",
      "Goal 5: A is on top of B\n"
     ]
    },
    {
     "data": {
      "application/vnd.jupyter.widget-view+json": {
       "model_id": "89dcc17c1c344483989aa68309d227a5",
       "version_major": 2,
       "version_minor": 0
      },
      "text/plain": [
       "HBox(children=(IntProgress(value=0, max=959), HTML(value='')))"
      ]
     },
     "metadata": {},
     "output_type": "display_data"
    },
    {
     "name": "stdout",
     "output_type": "stream",
     "text": [
      "Generated 754 unique problems out of 1000\n",
      "Goal 0: E is at the bottom of column 1\n",
      "Goal 1: D is on top of E\n",
      "Goal 2: C is on top of D\n",
      "Goal 3: B is on top of C\n",
      "Goal 4: A is on top of B\n"
     ]
    },
    {
     "data": {
      "application/vnd.jupyter.widget-view+json": {
       "model_id": "7052a4de5e064ca5b4c8e6596185b08e",
       "version_major": 2,
       "version_minor": 0
      },
      "text/plain": [
       "HBox(children=(IntProgress(value=0, max=754), HTML(value='')))"
      ]
     },
     "metadata": {},
     "output_type": "display_data"
    },
    {
     "name": "stdout",
     "output_type": "stream",
     "text": [
      "Generated 719 unique problems out of 1000\n",
      "Goal 0: E is at the bottom of column 0\n",
      "Goal 1: D is on top of E\n",
      "Goal 2: C is on top of D\n",
      "Goal 3: B is on top of C\n",
      "Goal 4: A is on top of B\n"
     ]
    },
    {
     "data": {
      "application/vnd.jupyter.widget-view+json": {
       "model_id": "f8948c8b7e254fbb9de1ce81bcfd2401",
       "version_major": 2,
       "version_minor": 0
      },
      "text/plain": [
       "HBox(children=(IntProgress(value=0, max=719), HTML(value='')))"
      ]
     },
     "metadata": {},
     "output_type": "display_data"
    },
    {
     "name": "stdout",
     "output_type": "stream",
     "text": [
      "Generated 724 unique problems out of 1000\n",
      "Goal 0: E is at the bottom of column 0\n",
      "Goal 1: D is on top of E\n",
      "Goal 2: C is on top of D\n",
      "Goal 3: B is on top of C\n",
      "Goal 4: A is on top of B\n"
     ]
    },
    {
     "data": {
      "application/vnd.jupyter.widget-view+json": {
       "model_id": "3541b405cf4146f98c6c4555848f848a",
       "version_major": 2,
       "version_minor": 0
      },
      "text/plain": [
       "HBox(children=(IntProgress(value=0, max=724), HTML(value='')))"
      ]
     },
     "metadata": {},
     "output_type": "display_data"
    },
    {
     "name": "stdout",
     "output_type": "stream",
     "text": [
      "Generated 625 unique problems out of 1000\n",
      "Goal 0: E is at the bottom of column 0\n",
      "Goal 1: D is on top of E\n",
      "Goal 2: C is on top of D\n",
      "Goal 3: B is on top of C\n",
      "Goal 4: A is on top of B\n"
     ]
    },
    {
     "data": {
      "application/vnd.jupyter.widget-view+json": {
       "model_id": "be851901020241a5baa05c046210c790",
       "version_major": 2,
       "version_minor": 0
      },
      "text/plain": [
       "HBox(children=(IntProgress(value=0, max=625), HTML(value='')))"
      ]
     },
     "metadata": {},
     "output_type": "display_data"
    },
    {
     "name": "stdout",
     "output_type": "stream",
     "text": [
      "Generated 292 unique problems out of 1000\n",
      "Goal 0: D is at the bottom of column 1\n",
      "Goal 1: C is on top of D\n",
      "Goal 2: B is on top of C\n",
      "Goal 3: A is on top of B\n"
     ]
    },
    {
     "data": {
      "application/vnd.jupyter.widget-view+json": {
       "model_id": "0a46b4c3ae8d4b56bfda641682d81805",
       "version_major": 2,
       "version_minor": 0
      },
      "text/plain": [
       "HBox(children=(IntProgress(value=0, max=292), HTML(value='')))"
      ]
     },
     "metadata": {},
     "output_type": "display_data"
    },
    {
     "name": "stdout",
     "output_type": "stream",
     "text": [
      "Generated 234 unique problems out of 1000\n",
      "Goal 0: D is at the bottom of column 0\n",
      "Goal 1: C is on top of D\n",
      "Goal 2: B is on top of C\n",
      "Goal 3: A is on top of B\n"
     ]
    },
    {
     "data": {
      "application/vnd.jupyter.widget-view+json": {
       "model_id": "d829d7fd6a784ffe89d7b0051493aaf5",
       "version_major": 2,
       "version_minor": 0
      },
      "text/plain": [
       "HBox(children=(IntProgress(value=0, max=234), HTML(value='')))"
      ]
     },
     "metadata": {},
     "output_type": "display_data"
    },
    {
     "name": "stdout",
     "output_type": "stream",
     "text": [
      "Generated 60 unique problems out of 1000\n",
      "Goal 0: C is at the bottom of column 1\n",
      "Goal 1: B is on top of C\n",
      "Goal 2: A is on top of B\n"
     ]
    },
    {
     "data": {
      "application/vnd.jupyter.widget-view+json": {
       "model_id": "ccaceb83de75438e821982e7c0b48d43",
       "version_major": 2,
       "version_minor": 0
      },
      "text/plain": [
       "HBox(children=(IntProgress(value=0, max=60), HTML(value='')))"
      ]
     },
     "metadata": {},
     "output_type": "display_data"
    },
    {
     "name": "stdout",
     "output_type": "stream",
     "text": [
      "Generated 36 unique problems out of 1000\n",
      "Goal 0: C is at the bottom of column 0\n",
      "Goal 1: B is on top of C\n",
      "Goal 2: A is on top of B\n"
     ]
    },
    {
     "data": {
      "application/vnd.jupyter.widget-view+json": {
       "model_id": "d1430de9100d4528ac90bccfaf71b82c",
       "version_major": 2,
       "version_minor": 0
      },
      "text/plain": [
       "HBox(children=(IntProgress(value=0, max=36), HTML(value='')))"
      ]
     },
     "metadata": {},
     "output_type": "display_data"
    }
   ],
   "source": [
    "# We want to know if height limits change things by much.\n",
    "# So, we're asking if varying height limits, from (5, 5, 5) to (5, 4, 3) to (5, 3, 2)\n",
    "# - changes k-differentiability\n",
    "# - changes average difficulty for k=2 or k=3\n",
    "\n",
    "def _test_out_problem_type(B, heights):\n",
    "    num = 1000\n",
    "    generated = list(set(generate_blockworld_problem(B, heights)[0] for _ in range(num)))\n",
    "    print(f'Generated {len(generated)} unique problems out of {num}')\n",
    "    column_index = 0\n",
    "    if all(h==heights[0] for h in heights):\n",
    "        column_index = 1\n",
    "    goals_with_clearing = _generate_standard_goals_for_tol(generated[0], column_index=column_index)\n",
    "\n",
    "    # HACK keeping it simple\n",
    "    kvals = [1, 2, 3, 4]\n",
    "\n",
    "    allres = []\n",
    "\n",
    "    for initial in tqdm(generated):\n",
    "        problem = Blockworld(initial, goals_with_clearing, height_limits=heights)\n",
    "        len_optimal = len(agent.bfs_search(problem))\n",
    "        kres = []\n",
    "        for k in kvals:\n",
    "            results = [\n",
    "                # returns history, solved\n",
    "                agent.solve_using_ordered_goal_subset_astar(problem, k=k)\n",
    "                for _ in range(5)\n",
    "            ]\n",
    "            assert all(solved for history, solved in results), f'Did not solve for problem={initial} k={k}'\n",
    "            scores = [len(h) - 1 for h, _ in results]\n",
    "            kres.append(scores)\n",
    "        allres.append((initial, len_optimal, kvals, kres))\n",
    "    return allres\n",
    "\n",
    "\n",
    "#d = {}\n",
    "d['B=6,H=6,6,6'] = _test_out_problem_type(6, (6, 6, 6))\n",
    "d['B=6,H=6,5,4'] = _test_out_problem_type(6, (6, 5, 4))\n",
    "\n",
    "d['B=5,H=5,5,5'] = _test_out_problem_type(5, (5, 5, 5))\n",
    "d['B=5,H=5,4,3'] = _test_out_problem_type(5, (5, 4, 3))\n",
    "d['B=5,H=5,3,3'] = _test_out_problem_type(5, (5, 3, 3))\n",
    "d['B=5,H=5,3,2'] = _test_out_problem_type(5, (5, 3, 2))\n",
    "\n",
    "d['B=4,H=4,4,4'] = _test_out_problem_type(4, (4, 4, 4))\n",
    "d['B=4,H=4,3,2'] = _test_out_problem_type(4, (4, 3, 2))\n",
    "d['B=3,H=3,3,3'] = _test_out_problem_type(3, (3, 3, 3))\n",
    "d['B=3,H=3,2,1'] = _test_out_problem_type(3, (3, 2, 1))"
   ]
  },
  {
   "cell_type": "code",
   "execution_count": 298,
   "metadata": {
    "scrolled": false
   },
   "outputs": [
    {
     "name": "stderr",
     "output_type": "stream",
     "text": [
      "/Users/carlos/pu/multigoals/env/lib/python3.6/site-packages/scipy/stats/stats.py:1713: FutureWarning: Using a non-tuple sequence for multidimensional indexing is deprecated; use `arr[tuple(seq)]` instead of `arr[seq]`. In the future this will be interpreted as an array index, `arr[np.array(seq)]`, which will result either in an error or a different result.\n",
      "  return np.add.reduce(sorted[indexer] * weights, axis=axis) / sumval\n"
     ]
    },
    {
     "data": {
      "image/png": "[encoded data removed]",
      "text/plain": [
       "<Figure size 432x288 with 1 Axes>"
      ]
     },
     "metadata": {
      "needs_background": "light"
     },
     "output_type": "display_data"
    },
    {
     "data": {
      "image/png": "[encoded data removed]",
      "text/plain": [
       "<Figure size 576x432 with 1 Axes>"
      ]
     },
     "metadata": {
      "needs_background": "light"
     },
     "output_type": "display_data"
    },
    {
     "data": {
      "image/png": "[encoded data removed]",
      "text/plain": [
       "<Figure size 576x432 with 1 Axes>"
      ]
     },
     "metadata": {
      "needs_background": "light"
     },
     "output_type": "display_data"
    },
    {
     "data": {
      "image/png": "[encoded data removed]",
      "text/plain": [
       "<Figure size 576x432 with 1 Axes>"
      ]
     },
     "metadata": {
      "needs_background": "light"
     },
     "output_type": "display_data"
    },
    {
     "data": {
      "image/png": "[encoded data removed]",
      "text/plain": [
       "<Figure size 576x432 with 1 Axes>"
      ]
     },
     "metadata": {
      "needs_background": "light"
     },
     "output_type": "display_data"
    }
   ],
   "source": [
    "import seaborn as sns\n",
    "import pandas as pd\n",
    "\n",
    "rows = []\n",
    "for ptype, vals in sorted(d.items()):\n",
    "    for row in vals:\n",
    "        initial, len_optimal, kvals, kres = row\n",
    "        rows.append(dict(\n",
    "            ptype=ptype,\n",
    "            k_differentiability=score_k_differentiability(row),\n",
    "            len_optimal=len_optimal,\n",
    "            mean_k1=np.mean(kres[kvals.index(1)]),\n",
    "            mean_k2=np.mean(kres[kvals.index(2)]),\n",
    "            mean_k3=np.mean(kres[kvals.index(3)]),\n",
    "        ))\n",
    "\n",
    "df = pd.DataFrame(rows)\n",
    "for col in ['len_optimal', 'mean_k1', 'mean_k2', 'mean_k3']:\n",
    "    # So this normalized column is relative to optimal, so larger values means less optimal.\n",
    "    df[col+'_norm'] = df[col] / df['len_optimal']\n",
    "\n",
    "#plt.figure()\n",
    "#sns.violinplot(x='ptype', y='len_optimal', data=df)\n",
    "\n",
    "plt.figure()\n",
    "# HACK or boxplot instead?\n",
    "sns.violinplot(x='ptype', y='k_differentiability', data=df)\n",
    "locs, labels = plt.xticks()\n",
    "plt.setp(labels, rotation=45)\n",
    "\n",
    "for filtered_df in [df, df.loc[df.ptype.str.startswith('B=5')]]:\n",
    "    '''\n",
    "    f = plt.figure()\n",
    "    plt.title('Count of k-differentiability values\\nk-differentiability is the count of values k which have\\nlower # of moves than k-1 for a given problem\\n')\n",
    "    #sns.violinplot(x='ptype', y='k_differentiability', data=df)\n",
    "    sns.distplot('k_differentiability', hue='ptype', data=filtered_df)\n",
    "    f.get_axes()[0].set_yscale('log')\n",
    "    plt.ylabel('Number of problems')\n",
    "    '''\n",
    "\n",
    "    names = ['BFS', 'K=1', 'K=2', 'K=3']\n",
    "\n",
    "    plt.figure(figsize=(8, 6))\n",
    "    plt.title('Mean # of moves for different strategies')\n",
    "    kcols = ['len_optimal', 'mean_k1', 'mean_k2', 'mean_k3']\n",
    "    reshaped_df = filtered_df[['ptype']+kcols].melt(id_vars=['ptype'], var_name='k', value_name='mean_moves')\n",
    "    reshaped_df['k'] = reshaped_df['k'].apply(lambda col: names[kcols.index(col)])\n",
    "    sns.boxplot(x='k', y='mean_moves', hue='ptype', data=reshaped_df)\n",
    "\n",
    "    plt.figure(figsize=(8, 6))\n",
    "    plt.title('Mean # of moves for different strategies (normalized by optimal # of moves)')\n",
    "    kcols = ['len_optimal_norm', 'mean_k1_norm', 'mean_k2_norm', 'mean_k3_norm']\n",
    "    reshaped_df = filtered_df[['ptype']+kcols].melt(id_vars=['ptype'], var_name='k', value_name='mean_moves_norm')\n",
    "    reshaped_df['k'] = reshaped_df['k'].apply(lambda col: names[kcols.index(col)])\n",
    "    sns.boxplot(x='k', y='mean_moves_norm', hue='ptype', data=reshaped_df)"
   ]
  },
  {
   "cell_type": "code",
   "execution_count": 246,
   "metadata": {},
   "outputs": [
    {
     "name": "stdout",
     "output_type": "stream",
     "text": [
      "h555 745 h543 742 h333 717\n",
      "h555 & h543 & h533 169\n"
     ]
    }
   ],
   "source": [
    "keys = ['B=5,H=5,5,5', 'B=5,H=5,4,3', 'B=5,H=5,3,3', 'B=5,H=5,3,2']\n",
    "\n",
    "indexed = {\n",
    "    key: xx\n",
    "    for key in keys\n",
    "}\n",
    "\n",
    "\n",
    "h555 = {\n",
    "    # HACK have to do this trick to rearrange things so we share a goal\n",
    "    (row[0][1], row[0][0], row[0][2]): row\n",
    "    for row in d['B=5,H=5,5,5']\n",
    "}\n",
    "h543 = {\n",
    "    row[0]: row\n",
    "    for row in d['B=5,H=5,4,3']\n",
    "}\n",
    "h533 = {\n",
    "    row[0]: row\n",
    "    for row in d['B=5,H=5,3,3']\n",
    "}\n",
    "\n",
    "print(f'h555 {len(h555)} h543 {len(h543)} h333 {len(h533)}')\n",
    "shared = set(h555.keys()) & set(h543.keys()) & set(h533.keys())\n",
    "print(f'h555 & h543 & h533 {len(shared)}')"
   ]
  },
  {
   "cell_type": "code",
   "execution_count": 271,
   "metadata": {},
   "outputs": [
    {
     "data": {
      "text/plain": [
       "<matplotlib.axes._subplots.AxesSubplot at 0x11fa11518>"
      ]
     },
     "execution_count": 271,
     "metadata": {},
     "output_type": "execute_result"
    },
    {
     "data": {
      "image/png": "[encoded data removed]",
      "text/plain": [
       "<Figure size 432x288 with 1 Axes>"
      ]
     },
     "metadata": {
      "needs_background": "light"
     },
     "output_type": "display_data"
    }
   ],
   "source": [
    "matchedp = []\n",
    "\n",
    "def _len_for_row(row):\n",
    "    _, len_optimal, kvals, kres = row\n",
    "    # testing out k\n",
    "    return np.mean(kres[kvals.index(2)])\n",
    "\n",
    "for initial in list(shared):\n",
    "    no_limit_length = _len_for_row(h555[initial])\n",
    "    for problem_type, row in [\n",
    "        ('H=5,5,5', h555[initial]),\n",
    "        ('H=5,4,3', h543[initial]),\n",
    "        ('H=5,3,3', h533[initial]),\n",
    "    ]:\n",
    "        length = _len_for_row(row)\n",
    "        matchedp.append(dict(\n",
    "            problem_type=problem_type,\n",
    "            ratio_of_no_limit_length=length/float(no_limit_length),\n",
    "        ))\n",
    "        if length < no_limit_length:\n",
    "            pass\n",
    "            #print(initial, no_limit_length)\n",
    "            #print(problem_type, length)\n",
    "            #break\n",
    "\n",
    "sns.boxplot('problem_type', 'ratio_of_no_limit_length', data=pd.DataFrame(matchedp))"
   ]
  },
  {
   "cell_type": "code",
   "execution_count": 280,
   "metadata": {},
   "outputs": [
    {
     "name": "stdout",
     "output_type": "stream",
     "text": [
      "B=5,H=5,5,5\n",
      "((), ('C', 'E', 'B'), ('D', 'A')) 2.4000000000000004\n",
      "(('E', 'A'), ('C', 'B'), ('D',)) 2.4000000000000004\n",
      "(('C',), ('B', 'A', 'E'), ('D',)) 2.5999999999999996\n",
      "((), ('B', 'A', 'E', 'C'), ('D',)) 2.5999999999999996\n",
      "(('D', 'B'), ('A', 'C', 'E'), ()) 3.0\n",
      "((), ('C', 'B', 'A', 'D', 'E'), ()) 3.0\n",
      "((), ('B', 'A', 'D'), ('E', 'C')) 3.0\n",
      "(('E',), ('C', 'B', 'A'), ('D',)) 3.0\n",
      "((), ('C', 'B', 'A', 'D'), ('E',)) 3.0\n",
      "(('E',), ('C', 'B', 'A', 'D'), ()) 3.0\n",
      "(('E',), ('C', 'A', 'B'), ('D',)) 3.0\n",
      "(('E',), ('C', 'A', 'B', 'D'), ()) 3.0\n",
      "(('E', 'D'), ('C', 'B', 'A'), ()) 3.1999999999999993\n",
      "((), ('C', 'E', 'A'), ('D', 'B')) 3.5999999999999996\n",
      "(('D', 'B', 'A'), ('C', 'E'), ()) 3.8000000000000007\n"
     ]
    }
   ],
   "source": [
    "B = 5\n",
    "\n",
    "reversed_letters = tuple(make_letters('A', B)[::-1])\n",
    "\n",
    "goal_middle = ((), reversed_letters, ())\n",
    "goal_left = (reversed_letters, (), ())\n",
    "\n",
    "info = [\n",
    "    ('B=5,H=5,5,5', (5, 5, 5), goal_middle),\n",
    "# Decided not to use height limits\n",
    "#    ('B=5,H=5,4,3', (5, 4, 3), goal_left),\n",
    "#    ('B=5,H=5,3,3', (5, 3, 3), goal_left),\n",
    "]\n",
    "\n",
    "limit = 15\n",
    "result = []\n",
    "\n",
    "for problem_type, heights, goal in info:\n",
    "    top = sorted(d[problem_type], key=lambda row: score_k_differentiability(row))[-limit:]\n",
    "    print(problem_type)\n",
    "    for row in top:\n",
    "        initial, *_ = row\n",
    "        print(initial, score_k_differentiability(row))\n",
    "        result.append(dict(\n",
    "            initial=initial,\n",
    "            goal=goal,\n",
    "            #heightLimits=heights,\n",
    "        ))\n",
    "\n",
    "random.seed(42)\n",
    "random.shuffle(result)\n",
    "with open('trials.json', 'w') as f:\n",
    "    json.dump(result, f)"
   ]
  },
  {
   "cell_type": "code",
   "execution_count": 289,
   "metadata": {
    "scrolled": false
   },
   "outputs": [
    {
     "name": "stdout",
     "output_type": "stream",
     "text": [
      "10 True\n",
      "10 True\n",
      "10 True\n",
      "10 True\n",
      "10 True\n",
      "State at t=1\n",
      ".  \n",
      ".  \n",
      ".C \n",
      ".AE\n",
      ".DB\n",
      "Goals to solve: ['E is at the bottom of column 0']\n",
      "Planned to get to (('E',), ('D', 'A', 'C'), ('B',)) via actions [('E', 0)]\n",
      "\n",
      "State at t=2\n",
      ".  \n",
      ".  \n",
      ".C \n",
      ".A.\n",
      "EDB\n",
      "* Halted execution of action plan because we satisfied goal \"E is at the bottom of column 0\".\n",
      "State at t=2\n",
      ".  \n",
      ".  \n",
      ".C \n",
      ".A.\n",
      "EDB\n",
      "Goals to solve: ['D is on top of E']\n",
      "Planned to get to (('E', 'D'), ('A', 'C'), ('B',)) via actions [('C', 0), ('A', 0), ('D', 2), ('A', 1), ('C', 1), ('D', 0)]\n",
      "\n",
      "State at t=3\n",
      ".  \n",
      ".  \n",
      ".. \n",
      "CA.\n",
      "EDB\n",
      "\n",
      "State at t=4\n",
      ".  \n",
      ".  \n",
      "A. \n",
      "C..\n",
      "EDB\n",
      "\n",
      "State at t=5\n",
      ".  \n",
      ".  \n",
      "A. \n",
      "C.D\n",
      "E.B\n",
      "\n",
      "State at t=6\n",
      ".  \n",
      ".  \n",
      ".. \n",
      "C.D\n",
      "EAB\n",
      "\n",
      "State at t=7\n",
      ".  \n",
      ".  \n",
      ".. \n",
      ".CD\n",
      "EAB\n",
      "\n",
      "State at t=8\n",
      ".  \n",
      ".  \n",
      ".. \n",
      "DC.\n",
      "EAB\n",
      "* Halted execution of action plan because we satisfied goal \"D is on top of E\".\n",
      "State at t=8\n",
      ".  \n",
      ".  \n",
      ".. \n",
      "DC.\n",
      "EAB\n",
      "Goals to solve: ['C is on top of D']\n",
      "Planned to get to (('E', 'D', 'C'), ('A',), ('B',)) via actions [('C', 0)]\n",
      "\n",
      "State at t=9\n",
      ".  \n",
      ".  \n",
      "C. \n",
      "D..\n",
      "EAB\n",
      "* Halted execution of action plan because we satisfied goal \"C is on top of D\".\n",
      "State at t=9\n",
      ".  \n",
      ".  \n",
      "C. \n",
      "D..\n",
      "EAB\n",
      "Goals to solve: ['B is on top of C']\n",
      "Planned to get to (('E', 'D', 'C', 'B'), ('A',), ()) via actions [('B', 0)]\n",
      "\n",
      "State at t=10\n",
      ".  \n",
      "B  \n",
      "C. \n",
      "D..\n",
      "EA.\n",
      "* Halted execution of action plan because we satisfied goal \"B is on top of C\".\n",
      "State at t=10\n",
      ".  \n",
      "B  \n",
      "C. \n",
      "D..\n",
      "EA.\n",
      "Goals to solve: ['A is on top of B']\n",
      "Planned to get to (('E', 'D', 'C', 'B', 'A'), (), ()) via actions [('A', 0)]\n",
      "\n",
      "State at t=11\n",
      "A  \n",
      "B  \n",
      "C. \n",
      "D..\n",
      "E..\n",
      "* Halted execution of action plan because we satisfied goal \"A is on top of B\".\n",
      "State at t=11\n",
      "A  \n",
      "B  \n",
      "C. \n",
      "D..\n",
      "E..\n",
      "actions 10 [('E', 0), ('C', 0), ('A', 0), ('D', 2), ('A', 1), ('C', 1), ('D', 0), ('C', 0), ('B', 0), ('A', 0)]\n"
     ]
    }
   ],
   "source": [
    "# HACK this problem breaks down often... by undoing previously accomplished goals\n",
    "# HACK we've fixed the issue by accounting for our previously accomplished goals!\n",
    "\n",
    "initial = ((), ('D', 'A', 'C'), ('B', 'E'))\n",
    "problem = Blockworld(initial, _generate_standard_goals_for_tol(initial, debug=False), height_limits=(5, 3, 2))\n",
    "\n",
    "for _ in range(5):\n",
    "    history, solved = agent.solve_using_ordered_goal_subset_astar(problem, k=1, debug=False)\n",
    "    print(len(history)-1, solved)\n",
    "\n",
    "history, solved = agent.solve_using_ordered_goal_subset_astar(problem, k=1, debug=True)"
   ]
  },
  {
   "cell_type": "markdown",
   "metadata": {},
   "source": [
    "### old things"
   ]
  },
  {
   "cell_type": "code",
   "execution_count": 11,
   "metadata": {
    "scrolled": false
   },
   "outputs": [
    {
     "name": "stdout",
     "output_type": "stream",
     "text": [
      "Testing things out for args {'B': 6, 'S': 3, 'seed': 43}\n",
      "Goal 0: E on top of F\n",
      "Goal 1: D on top of E\n",
      "Goal 2: C on top of D\n",
      "Goal 3: B on top of C\n",
      "Goal 4: A on top of B\n",
      "Sample initial state (('C',), ('B',), ('F', 'D', 'A', 'E'))\n",
      "Testing things out for args {'B': 7, 'S': 3, 'seed': 43}\n",
      "Goal 0: F on top of G\n",
      "Goal 1: E on top of F\n",
      "Goal 2: D on top of E\n",
      "Goal 3: C on top of D\n",
      "Goal 4: B on top of C\n",
      "Goal 5: A on top of B\n",
      "Sample initial state (('B',), ('D', 'E'), ('F', 'C', 'G', 'A'))\n",
      "Testing things out for args {'B': 8, 'S': 3, 'seed': 43}\n",
      "Goal 0: G on top of H\n",
      "Goal 1: F on top of G\n",
      "Goal 2: E on top of F\n",
      "Goal 3: D on top of E\n",
      "Goal 4: C on top of D\n",
      "Goal 5: B on top of C\n",
      "Goal 6: A on top of B\n",
      "Sample initial state (('G',), ('B', 'A'), ('D', 'H', 'F', 'C', 'E'))\n"
     ]
    },
    {
     "data": {
      "application/vnd.jupyter.widget-view+json": {
       "model_id": "d15684d425054f13bc8d16eb4bc6550f",
       "version_major": 2,
       "version_minor": 0
      },
      "text/plain": [
       "HBox(children=(IntProgress(value=0, max=90), HTML(value='')))"
      ]
     },
     "metadata": {},
     "output_type": "display_data"
    },
    {
     "name": "stdout",
     "output_type": "stream",
     "text": [
      "630\n"
     ]
    }
   ],
   "source": [
    "# Let's generate/solve a bunch of problems.\n",
    "\n",
    "# This dict is indexed by (initial state, k) and stores a\n",
    "# list of # of moves it took to solve the problem (list b/c of stochasticity)\n",
    "# problem_record = {} # HACK we normally make sure this is commented out.\n",
    "\n",
    "all_probs = []\n",
    "\n",
    "for args in [\n",
    "    dict(B=6, S=3, seed=43),\n",
    "\n",
    "    dict(B=7, S=3, seed=43),\n",
    "\n",
    "    dict(B=8, S=3, seed=43),\n",
    "\n",
    "    #dict(B=9, S=3, seed=43),\n",
    "    #dict(B=9, S=4, seed=43),\n",
    "    #dict(B=9, S=5, seed=43),\n",
    "]:\n",
    "    print(f'Testing things out for args {args}')\n",
    "\n",
    "    generated, letters = generate_blockworld_problems(n_probs=30, **args)\n",
    "    goals = []\n",
    "    for top, bottom in reversed(list(zip(letters[:-1], letters[1:]))):\n",
    "        print('Goal {}: {} on top of {}'.format(len(goals), top, bottom))\n",
    "        goals.append(Blockworld.make_above_predicate(top, bottom))\n",
    "    goals_with_clearing = [Blockworld.make_is_bottom_of_column_predicate(letters[-1])]+goals\n",
    "\n",
    "    for p in generated:\n",
    "        all_probs.append((p, goals_with_clearing))\n",
    "\n",
    "    print('Sample initial state', generated[0])\n",
    "\n",
    "random.shuffle(all_probs)\n",
    "\n",
    "debug = False\n",
    "for initial, goals_with_clearing in tqdm(all_probs):\n",
    "    problem = Blockworld(initial, goals_with_clearing)\n",
    "    if debug:\n",
    "        print(problem.render(initial))\n",
    "        #print('optimal', len(agent.bfs_search(problem)))\n",
    "    for k in range(1, len(problem.goals)+1):\n",
    "        if (initial, k) in problem_record:\n",
    "            # We already solved this! skip it\n",
    "            continue\n",
    "        if debug:\n",
    "            print('considering k={}'.format(k), end='')\n",
    "        results = [\n",
    "            # returns history, solved\n",
    "            agent.solve_using_ordered_goal_subset_astar(problem, k=k)\n",
    "            for _ in range(3)\n",
    "        ]\n",
    "        if debug:\n",
    "            if all(solved for history, solved in results):\n",
    "                msg = 'All solved'\n",
    "            elif any(solved for history, solved in results):\n",
    "                msg = 'Some solved'\n",
    "            else:\n",
    "                msg = 'Could not be solved'\n",
    "            print(' {}; # moves in {} trials'.format(msg, len(results)), [len(h) - 1 for h, _ in results])\n",
    "        problem_record[initial, k] = [len(h) - 1 for h, _ in results]\n",
    "\n",
    "print(len(problem_record))"
   ]
  },
  {
   "cell_type": "code",
   "execution_count": 24,
   "metadata": {},
   "outputs": [
    {
     "name": "stdout",
     "output_type": "stream",
     "text": [
      "24.0 (('G', 'F', 'D'), ('E', 'H', 'B', 'A', 'C'), ())\n",
      "18.0 (('A', 'H', 'G', 'E'), ('C', 'F'), ('D', 'B'))\n",
      "17.0 (('D',), ('E', 'G', 'B', 'C', 'A', 'F'), ())\n",
      "15.333333333333332 (('C',), ('F', 'E', 'H', 'A', 'D'), ('B', 'G'))\n",
      "15.0 (('G', 'B', 'F', 'C'), ('A',), ('E', 'H', 'D'))\n",
      "15.0 (('F', 'B'), ('G',), ('H', 'D', 'E', 'C', 'A'))\n",
      "13.0 (('C',), ('E', 'B', 'A'), ('D', 'G', 'F'))\n",
      "13.0 (('G', 'A', 'C'), ('B', 'D', 'F'), ('E',))\n",
      "13.0 (('B', 'D', 'F'), ('H', 'G', 'A', 'C'), ('E',))\n",
      "13.0 (('B', 'E'), ('F', 'C'), ('G', 'D', 'A'))\n",
      "12.333333333333332 (('E', 'B'), ('H', 'A', 'C'), ('F', 'G', 'D'))\n",
      "12.0 (('E', 'F'), ('D', 'B', 'A'), ('C',))\n",
      "11.333333333333334 (('D',), ('F', 'E', 'G', 'H', 'B', 'A'), ('C',))\n",
      "11.0 (('F', 'C'), ('E', 'G', 'B', 'A'), ('H', 'D'))\n",
      "11.0 (('F', 'A', 'D'), ('E', 'B', 'H'), ('G', 'C'))\n",
      "11.0 (('G', 'D', 'F', 'H', 'C', 'E'), (), ('A', 'B'))\n",
      "10.333333333333334 (('C', 'H'), ('D', 'E', 'A', 'G'), ('B', 'F'))\n",
      "10.0 (('C', 'F', 'E', 'D'), ('A', 'G'), ('B',))\n",
      "9.666666666666668 (('G',), ('B', 'A'), ('D', 'H', 'F', 'C', 'E'))\n",
      "9.0 (('F', 'G', 'C'), ('E', 'H', 'D'), ('A', 'B'))\n",
      "9.0 (('D', 'F', 'B', 'C'), (), ('E', 'A'))\n",
      "8.666666666666666 (('B',), ('D', 'E'), ('F', 'C', 'G', 'A'))\n",
      "8.333333333333332 (('E', 'A', 'D'), ('F', 'C'), ('B', 'G'))\n",
      "8.0 (('B', 'E'), ('A', 'F'), ('D', 'G', 'C'))\n",
      "8.0 (('A', 'F', 'D'), ('B',), ('E', 'C'))\n",
      "8.0 (('C', 'A'), ('D', 'G', 'E'), ('B', 'F'))\n",
      "7.666666666666666 ((), ('G', 'B', 'E', 'A'), ('F', 'D', 'C'))\n",
      "7.333333333333332 (('D', 'F', 'A'), ('E',), ('B', 'G', 'C'))\n",
      "7.0 (('C', 'E', 'B'), (), ('F', 'A', 'D'))\n",
      "7.0 (('B', 'A', 'D'), ('F', 'E'), ('C', 'H', 'G'))\n"
     ]
    }
   ],
   "source": [
    "problems = list(problem_record_nested.keys())\n",
    "problem_scores = [score_k_differentiability(problem_record_nested[p]) for p in problems]\n",
    "\n",
    "for pidx in sorted(range(len(problems)), key=lambda pidx: problem_scores[pidx], reverse=True)[:30]:\n",
    "    p = problems[pidx]\n",
    "    print(problem_scores[pidx], p)\n"
   ]
  },
  {
   "cell_type": "code",
   "execution_count": 101,
   "metadata": {},
   "outputs": [
    {
     "name": "stdout",
     "output_type": "stream",
     "text": [
      "((('F', 'B', 'C'), ('E', 'D'), ('A',)), 5) [9, 9, 9]\n",
      "Goal 0: E on top of F\n",
      "Goal 1: D on top of E\n",
      "Goal 2: C on top of D\n",
      "Goal 3: B on top of C\n",
      "Goal 4: A on top of B\n",
      "9\n",
      "9\n",
      "9\n",
      "9\n",
      "9\n"
     ]
    }
   ],
   "source": [
    "# Trying to figure out if state canonicalization helps our perf as branching factor gets large\n",
    "\n",
    "# initial = (('B',), ('D', 'E'), ('F', 'C', 'G', 'A'))\n",
    "key, value = list(problem_record.items())[110]\n",
    "\n",
    "print(key, value)\n",
    "\n",
    "initial, k = key\n",
    "\n",
    "letters = sorted([l for ls in initial for l in ls])\n",
    "goals = []\n",
    "for top, bottom in reversed(list(zip(letters[:-1], letters[1:]))):\n",
    "    print('Goal {}: {} on top of {}'.format(len(goals), top, bottom))\n",
    "    goals.append(Blockworld.make_above_predicate(top, bottom))\n",
    "goals_with_clearing = [Blockworld.make_is_bottom_of_column_predicate(letters[-1])]+goals\n",
    "\n",
    "problem = Blockworld(initial, goals_with_clearing)\n",
    "for _ in range(5):\n",
    "    history, solved = solve_using_ordered_goal_subset(problem, k=k)\n",
    "    print(len(history)-1)\n",
    "\n",
    "def _try_to_solve_this_thing(problem, k):\n",
    "    results = [\n",
    "        # returns history, solved\n",
    "        solve_using_ordered_goal_subset(problem, k=k)\n",
    "        for _ in range(3)\n",
    "    ]\n",
    "\n",
    "\n",
    "#problem = Blockworld(initial, goals_with_clearing)\n",
    "\n",
    "#%timeit _try_to_solve_this_thing(Blockworld(initial, goals_with_clearing), 6)\n",
    "#%timeit _try_to_solve_this_thing(Blockworld(initial, goals_with_clearing, canonicalize_states=True), 6)\n",
    "#%timeit _try_to_solve_this_thing(Blockworld(initial, goals_with_clearing), 7)\n",
    "#%timeit _try_to_solve_this_thing(Blockworld(initial, goals_with_clearing, canonicalize_states=True), 7)"
   ]
  },
  {
   "cell_type": "code",
   "execution_count": null,
   "metadata": {},
   "outputs": [],
   "source": [
    "# Export to JSON!\n",
    "\n",
    "import json\n",
    "\n",
    "output_format = [\n",
    "    dict(\n",
    "        initial=initial,\n",
    "        goal_type='any_column',\n",
    "        goal=[\n",
    "            sorted([l for ls in initial for l in ls], reverse=True),\n",
    "        ] + [[]] * (len(initial)-1)\n",
    "    )\n",
    "    for initial in initial_states\n",
    "]\n",
    "\n",
    "print(json.dumps(output_format, indent=4))"
   ]
  },
  {
   "cell_type": "code",
   "execution_count": null,
   "metadata": {},
   "outputs": [],
   "source": [
    "# HACK HACK why doesn't bfs terminate on this? Does it terminate with state canonicalization? Count distinct states?\n",
    "\n",
    "'''\n",
    "....\n",
    "....\n",
    "....\n",
    "....\n",
    "....\n",
    "....\n",
    "H..B\n",
    "E.AF\n",
    "CGDI\n",
    "'''"
   ]
  },
  {
   "cell_type": "markdown",
   "metadata": {},
   "source": [
    "### Exploring some suboptimalities"
   ]
  },
  {
   "cell_type": "code",
   "execution_count": null,
   "metadata": {},
   "outputs": [],
   "source": [
    "# Why does this fail for even k=4? # moves in 5 trials [29, 29, 29, 29, 29]\n",
    "badstate1 = (('E', 'A', 'D'), ('C', 'F'), ('B',))\n",
    "# or this one fails up to k=3\n",
    "badstate2 = ((), ('A', 'C', 'F'), ('E', 'D', 'B'))\n",
    "\n",
    "# In general, this class of issue seems to have to do with not clearing underneath the largest block...\n",
    "# So, if you're considering k \"on top of\" goals, then you'll optimize with respect to up to k letters\n",
    "# away from your current one. Otherwise, you might leave k+1 letters and further underneath. So in general\n",
    "# 'A' will get stuck underneath an F if we don't explicitly clear F.\n",
    "\n",
    "print('goals without clearing:')\n",
    "p = Blockworld(badstate1, goals)\n",
    "history, solved = solve_using_ordered_goal_subset(p, k=3)\n",
    "assert not solved\n",
    "print('not solved')\n",
    "\n",
    "# So when we add clearing as a goal, this all gets nicely resolved:\n",
    "print('goals with clearing:')\n",
    "p = Blockworld(badstate1, goals_with_clearing)\n",
    "history, solved = solve_using_ordered_goal_subset(p, k=3)\n",
    "assert solved\n",
    "print('solved in {} moves'.format(len(history)-1))"
   ]
  },
  {
   "cell_type": "code",
   "execution_count": null,
   "metadata": {},
   "outputs": [],
   "source": [
    "state = (('B', 'A', 'E', 'F'), (), ('C', 'D'))\n",
    "# How is this optimal with k=1?\n",
    "# After seeing the below with debug=True, it seems this is optimal because there aren't opportunities to\n",
    "# achieve bad intermediate states. So for instance, once E is on F on column 2, D and C\n",
    "# are already in the right order to stack. while we do have to shift A around to get B\n",
    "# on top, we can't block future moves by doing that. So, this is a case where we can't\n",
    "# create bad intermediate states.\n",
    "\n",
    "p = Blockworld(state, goals_with_clearing)\n",
    "\n",
    "print('optimal', bfs_search(p))\n",
    "\n",
    "history, solved = solve_using_ordered_goal_subset(p, k=1, debug=False)\n",
    "print('using k=1', [a for a, s in history if a])"
   ]
  },
  {
   "cell_type": "code",
   "execution_count": 133,
   "metadata": {
    "scrolled": false
   },
   "outputs": [
    {
     "name": "stdout",
     "output_type": "stream",
     "text": [
      "optimal []\n"
     ]
    }
   ],
   "source": [
    "# Why does this sometimes do poorly for k=1?: # moves [29, 7, 7, 7, 29]\n",
    "state = (('B', 'A', 'E', 'F'), (), ('C', 'D'))\n",
    "\n",
    "# Answer: This does poorly because we sometimes stack F on top of D, which is a weird thing to do and\n",
    "# sort of related to the previous cell's long answer. When we add the \"clearing\" goal (that F is on bottom)\n",
    "# this is a non-issue.\n",
    "\n",
    "p = Blockworld(state, goals)\n",
    "\n",
    "print('optimal', bfs_search(p))\n",
    "\n",
    "for _ in range(10):\n",
    "    history, solved = solve_using_ordered_goal_subset(p, k=1, debug=False)\n",
    "    if not solved:\n",
    "        print('rendering suboptimal solution')\n",
    "        for a, s in history:\n",
    "            print(p.render(s))\n",
    "        break\n"
   ]
  },
  {
   "cell_type": "code",
   "execution_count": 153,
   "metadata": {},
   "outputs": [
    {
     "data": {
      "application/vnd.jupyter.widget-view+json": {
       "model_id": "fa74a42fe81649e0a70921e70a268ae7",
       "version_major": 2,
       "version_minor": 0
      },
      "text/plain": [
       "HBox(children=(IntProgress(value=0, max=5), HTML(value='')))"
      ]
     },
     "metadata": {},
     "output_type": "display_data"
    },
    {
     "data": {
      "application/vnd.jupyter.widget-view+json": {
       "model_id": "9d5885a02a594d80b3a7728dc5603aa0",
       "version_major": 2,
       "version_minor": 0
      },
      "text/plain": [
       "HBox(children=(IntProgress(value=0, max=5), HTML(value='')))"
      ]
     },
     "metadata": {},
     "output_type": "display_data"
    },
    {
     "data": {
      "application/vnd.jupyter.widget-view+json": {
       "model_id": "40ab1bb0026348f89ddebdc3ee9c84f6",
       "version_major": 2,
       "version_minor": 0
      },
      "text/plain": [
       "HBox(children=(IntProgress(value=0, max=5), HTML(value='')))"
      ]
     },
     "metadata": {},
     "output_type": "display_data"
    },
    {
     "data": {
      "application/vnd.jupyter.widget-view+json": {
       "model_id": "697d489ee47f4ebdaa0867d7b7cc947c",
       "version_major": 2,
       "version_minor": 0
      },
      "text/plain": [
       "HBox(children=(IntProgress(value=0, max=5), HTML(value='')))"
      ]
     },
     "metadata": {},
     "output_type": "display_data"
    },
    {
     "data": {
      "application/vnd.jupyter.widget-view+json": {
       "model_id": "7864fd6fc54148948aba61549f9a821d",
       "version_major": 2,
       "version_minor": 0
      },
      "text/plain": [
       "HBox(children=(IntProgress(value=0, max=6), HTML(value='')))"
      ]
     },
     "metadata": {},
     "output_type": "display_data"
    },
    {
     "data": {
      "application/vnd.jupyter.widget-view+json": {
       "model_id": "60954f00f70b4574be971e460f5f8f3b",
       "version_major": 2,
       "version_minor": 0
      },
      "text/plain": [
       "HBox(children=(IntProgress(value=0, max=6), HTML(value='')))"
      ]
     },
     "metadata": {},
     "output_type": "display_data"
    },
    {
     "data": {
      "image/png": "[encoded data removed]",
      "text/plain": [
       "<Figure size 432x288 with 1 Axes>"
      ]
     },
     "metadata": {
      "needs_background": "light"
     },
     "output_type": "display_data"
    },
    {
     "data": {
      "image/png": "[encoded data removed]",
      "text/plain": [
       "<Figure size 432x288 with 1 Axes>"
      ]
     },
     "metadata": {
      "needs_background": "light"
     },
     "output_type": "display_data"
    },
    {
     "data": {
      "image/png": "[encoded data removed]",
      "text/plain": [
       "<Figure size 432x288 with 1 Axes>"
      ]
     },
     "metadata": {
      "needs_background": "light"
     },
     "output_type": "display_data"
    }
   ],
   "source": [
    "# How important is # spaces for solving our problems?\n",
    "\n",
    "ps = [\n",
    "    # tougher ones\n",
    "    (('G', 'D', 'C'), ('F', 'B'), ('E', 'A')),\n",
    "    (('C', 'G', 'A'), ('E',), ('F', 'B', 'D')),\n",
    "    # \"easy\" ones\n",
    "    (('B', 'D', 'F'), ('H', 'G', 'A', 'C'), ('E',)),\n",
    "]\n",
    "\n",
    "for initial in ps:\n",
    "    n_trials = 5\n",
    "    plt.figure()\n",
    "    letters = _generate_standard_goals_for_blocks(initial, debug=False)\n",
    "    assert len(initial) == 3\n",
    "    plt.title('Problem {}\\nSolid lines are mean of {} trials, dashed lines are min/max'.format(initial, n_trials))\n",
    "    plt.xlabel('# of moves')\n",
    "    plt.ylabel('k: # of goals considered')\n",
    "    for name, arg, color in [\n",
    "        ('S=3', initial, 'b'),\n",
    "        ('S=4', initial+((),), 'r'),\n",
    "    ]:\n",
    "        p = Blockworld(arg, letters)\n",
    "        # HACK Although we normally like to do up to k=# goals, we are only going up to k=# goals - 2 to keep things fast.\n",
    "        ks = list(range(1, len(p.goals)-1))\n",
    "        results = [\n",
    "            [\n",
    "                len(solve_using_ordered_goal_subset_perf1(p, k=k, debug=False)[0])-1\n",
    "                for _ in range(n_trials)\n",
    "            ]\n",
    "            for k in tqdm(ks)\n",
    "        ]\n",
    "        plt.plot(ks, [np.mean(r) for r in results], color, label=name)\n",
    "        plt.plot(ks, [np.max(r) for r in results], color+'--')\n",
    "        plt.plot(ks, [np.min(r) for r in results], color+'--')\n",
    "        plt.legend()\n"
   ]
  },
  {
   "cell_type": "code",
   "execution_count": null,
   "metadata": {},
   "outputs": [],
   "source": []
  }
 ],
 "metadata": {
  "kernelspec": {
   "display_name": "Python 3",
   "language": "python",
   "name": "python3"
  },
  "language_info": {
   "codemirror_mode": {
    "name": "ipython",
    "version": 3
   },
   "file_extension": ".py",
   "mimetype": "text/x-python",
   "name": "python",
   "nbconvert_exporter": "python",
   "pygments_lexer": "ipython3",
   "version": "3.6.4"
  }
 },
 "nbformat": 4,
 "nbformat_minor": 2
}
